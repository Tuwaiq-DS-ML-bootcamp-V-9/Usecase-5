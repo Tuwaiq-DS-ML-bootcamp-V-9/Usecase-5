{
 "cells": [
  {
   "cell_type": "code",
   "execution_count": 1415,
   "id": "e69c4ba1-85f3-4a02-ae37-c64347a01803",
   "metadata": {},
   "outputs": [],
   "source": [
    "#Import all relevant libraries\n",
    "import numpy as np\n",
    "import pandas as pd\n",
    "import matplotlib.pyplot as plt\n",
    "import plotly.express as px\n",
    "import seaborn as sns\n",
    "import dtale\n",
    "import sweetviz as sv\n",
    "\n",
    "## This statement allows the visuals to render within your Jupyter Notebook.\n"
   ]
  },
  {
   "cell_type": "markdown",
   "id": "ddbc7bd7-63a7-4f9e-94c0-5fa5651e1c56",
   "metadata": {
    "jp-MarkdownHeadingCollapsed": true
   },
   "source": [
    "## Step 1: Defining the Problem Statement\n",
    "We are interested in understanding the employment landscape within Saudi\n",
    "Arabia. We would like to know:\n",
    "> * What proportion of job postings is attributed to each region within the\n",
    "kingdom?\n",
    "> * Is there a gender preference indicated in the job postings?\n",
    "> * What is the expected salary range for fresh graduates?   \n",
    "> * Are job opportunities predominantly targeted at individuals with experience, oris there room for fresh graduates as well?\n",
    "> * Bounce:How many companies and entities advertised job vacancies in jadarate paltform? "
   ]
  },
  {
   "cell_type": "markdown",
   "id": "e395e8bf-b530-4720-8d0f-26811e927d6e",
   "metadata": {},
   "source": [
    "## Loading the data\n",
    "We can now load the dataset into pandas using the read_csv() function. This converts the CSV file into a Pandas dataframe."
   ]
  },
  {
   "cell_type": "code",
   "execution_count": 1195,
   "id": "cf4030b0-aa7f-4bd7-8e9c-c1b7f4d202d0",
   "metadata": {},
   "outputs": [],
   "source": [
    "Jadarat_data = pd.read_csv('Data/Jadarat_data.csv')\n"
   ]
  },
  {
   "cell_type": "code",
   "execution_count": 1196,
   "id": "b1d4c299-df4c-4bf1-896c-6d67b85bf547",
   "metadata": {},
   "outputs": [],
   "source": [
    "pd.set_option('display.max_columns',None)"
   ]
  },
  {
   "cell_type": "code",
   "execution_count": 1197,
   "id": "ae5b9414-1cef-4903-b5bd-3f5c7b2e4b2a",
   "metadata": {},
   "outputs": [],
   "source": [
    "old_data = pd.read_csv('Data/Jadarat_data.csv')"
   ]
  },
  {
   "cell_type": "code",
   "execution_count": 1198,
   "id": "fc16e30a-bd46-4db3-a8c0-9b25b2854bd1",
   "metadata": {},
   "outputs": [
    {
     "data": {
      "text/html": [
       "\n",
       "        <iframe\n",
       "            width=\"100%\"\n",
       "            height=\"475\"\n",
       "            src=\"http://munirahs-MacBook-Pro-2.local:40000/dtale/iframe/1\"\n",
       "            frameborder=\"0\"\n",
       "            allowfullscreen\n",
       "            \n",
       "        ></iframe>\n",
       "        "
      ],
      "text/plain": [
       "<IPython.lib.display.IFrame at 0x3287d7e90>"
      ]
     },
     "metadata": {},
     "output_type": "display_data"
    },
    {
     "data": {
      "text/plain": []
     },
     "execution_count": 1198,
     "metadata": {},
     "output_type": "execute_result"
    }
   ],
   "source": [
    "dtale.show(old_data)"
   ]
  },
  {
   "cell_type": "code",
   "execution_count": 1199,
   "id": "be2a9222-5f25-4665-8b10-50b0852404ef",
   "metadata": {},
   "outputs": [
    {
     "data": {
      "text/html": [
       "\n",
       "        <iframe\n",
       "            width=\"100%\"\n",
       "            height=\"475\"\n",
       "            src=\"http://munirahs-MacBook-Pro-2.local:40000/dtale/iframe/2\"\n",
       "            frameborder=\"0\"\n",
       "            allowfullscreen\n",
       "            \n",
       "        ></iframe>\n",
       "        "
      ],
      "text/plain": [
       "<IPython.lib.display.IFrame at 0x32a0d2b10>"
      ]
     },
     "metadata": {},
     "output_type": "display_data"
    },
    {
     "data": {
      "text/plain": []
     },
     "execution_count": 1199,
     "metadata": {},
     "output_type": "execute_result"
    }
   ],
   "source": [
    "dtale.show(Jadarat_data)"
   ]
  },
  {
   "cell_type": "markdown",
   "id": "ca5ed983-0f72-43eb-8168-6fafd48c562e",
   "metadata": {},
   "source": [
    "### Viewing the dataframe\n",
    "We can get a quick sense of the size of our dataset by using the shape method. This returns a tuple with the number of rows and columns in the dataset."
   ]
  },
  {
   "cell_type": "code",
   "execution_count": 1201,
   "id": "bfde0b69-613c-4dd1-8ebf-e4d2e570e653",
   "metadata": {},
   "outputs": [
    {
     "data": {
      "text/html": [
       "<div>\n",
       "<style scoped>\n",
       "    .dataframe tbody tr th:only-of-type {\n",
       "        vertical-align: middle;\n",
       "    }\n",
       "\n",
       "    .dataframe tbody tr th {\n",
       "        vertical-align: top;\n",
       "    }\n",
       "\n",
       "    .dataframe thead th {\n",
       "        text-align: right;\n",
       "    }\n",
       "</style>\n",
       "<table border=\"1\" class=\"dataframe\">\n",
       "  <thead>\n",
       "    <tr style=\"text-align: right;\">\n",
       "      <th></th>\n",
       "      <th>job_title</th>\n",
       "      <th>job_date</th>\n",
       "      <th>job_desc</th>\n",
       "      <th>job_tasks</th>\n",
       "      <th>comp_name</th>\n",
       "      <th>comp_no</th>\n",
       "      <th>comp_type</th>\n",
       "      <th>comp_size</th>\n",
       "      <th>eco_activity</th>\n",
       "      <th>qualif</th>\n",
       "      <th>region</th>\n",
       "      <th>city</th>\n",
       "      <th>benefits</th>\n",
       "      <th>contract</th>\n",
       "      <th>positions</th>\n",
       "      <th>job_post_id</th>\n",
       "      <th>exper</th>\n",
       "      <th>gender</th>\n",
       "    </tr>\n",
       "  </thead>\n",
       "  <tbody>\n",
       "    <tr>\n",
       "      <th>0</th>\n",
       "      <td>محاسب</td>\n",
       "      <td>27/05/1444</td>\n",
       "      <td>['إعداد وتنظيم مستندات الصرف ومتابعة تحصيل الإ...</td>\n",
       "      <td>['   تدقيق المطالبات المالية والتأكد من اكتمال...</td>\n",
       "      <td>شركة مقر العالم للسفريات</td>\n",
       "      <td>1-317262</td>\n",
       "      <td>خاص</td>\n",
       "      <td>متوسطة فئة أ</td>\n",
       "      <td>أنشطة وكالات السياحة والسفر</td>\n",
       "      <td>['Language data', 'اللغة الانجليزية', 'محترف']</td>\n",
       "      <td>الرياض</td>\n",
       "      <td>AR RIYADH...</td>\n",
       "      <td>['Salary', '5000.0']</td>\n",
       "      <td>دوام كامل</td>\n",
       "      <td>0 / 1</td>\n",
       "      <td>20202026350419</td>\n",
       "      <td>0 Years</td>\n",
       "      <td>both</td>\n",
       "    </tr>\n",
       "    <tr>\n",
       "      <th>1</th>\n",
       "      <td>بائع</td>\n",
       "      <td>27/05/1444</td>\n",
       "      <td>['بيع مجموعة من السلع والخدمات للعملاء، وتوفير...</td>\n",
       "      <td>['   بيع مجموعة من السلع والخدمات للعملاء.', '...</td>\n",
       "      <td>شركة عالم الكهرباء للمقاولات</td>\n",
       "      <td>4-1324428</td>\n",
       "      <td>خاص</td>\n",
       "      <td>متوسطة فئة ب</td>\n",
       "      <td>تركيب انظمة التبريد وتكييف الهواء وصيانتها واص...</td>\n",
       "      <td>NaN</td>\n",
       "      <td>المنطقة الشرقية</td>\n",
       "      <td>AD DAMMAM...</td>\n",
       "      <td>['Salary', '5000.0']</td>\n",
       "      <td>دوام كامل</td>\n",
       "      <td>0 / 3</td>\n",
       "      <td>20202026350389</td>\n",
       "      <td>0 Years</td>\n",
       "      <td>both</td>\n",
       "    </tr>\n",
       "    <tr>\n",
       "      <th>2</th>\n",
       "      <td>أخصائي عمليات موارد بشرية</td>\n",
       "      <td>27/05/1444</td>\n",
       "      <td>['تنفيذ الإجراءات والأنظمة والنماذج الخاصة بمر...</td>\n",
       "      <td>['   تنفيذ الإجراءات والأنظمة والنماذج الخاصة ...</td>\n",
       "      <td>شركه دار السلام</td>\n",
       "      <td>1-155294</td>\n",
       "      <td>خاص</td>\n",
       "      <td>متوسطة فئة أ</td>\n",
       "      <td>ترميمات المباني السكنية والغير سكنية</td>\n",
       "      <td>['Language data', 'الانجليزيه', 'محترف']</td>\n",
       "      <td>الرياض</td>\n",
       "      <td>ATH THUMA...</td>\n",
       "      <td>['Salary', '4000.0']</td>\n",
       "      <td>دوام كامل</td>\n",
       "      <td>0 / 2</td>\n",
       "      <td>20202026350347</td>\n",
       "      <td>2 Years</td>\n",
       "      <td>both</td>\n",
       "    </tr>\n",
       "    <tr>\n",
       "      <th>3</th>\n",
       "      <td>ميكانيكي سيارات</td>\n",
       "      <td>27/05/1444</td>\n",
       "      <td>['تشخيص أعطال السيارات وإصلاحها وتنفيذ برامج ا...</td>\n",
       "      <td>['   فحص أداء المعدّات الكهربائية والميكانيكية...</td>\n",
       "      <td>مؤسسة لمكو لغيار الزيوت</td>\n",
       "      <td>8-1925495</td>\n",
       "      <td>خاص</td>\n",
       "      <td>صغيرة فئة ب</td>\n",
       "      <td>NaN</td>\n",
       "      <td>['Skill data', 'صيانة السيارات وتقييم الاعطال'...</td>\n",
       "      <td>المنطقة الشرقية</td>\n",
       "      <td>AL HUFUF...</td>\n",
       "      <td>['Salary', '5000.0']</td>\n",
       "      <td>دوام كامل</td>\n",
       "      <td>0 / 10</td>\n",
       "      <td>20202026350219</td>\n",
       "      <td>0 Years</td>\n",
       "      <td>M</td>\n",
       "    </tr>\n",
       "    <tr>\n",
       "      <th>4</th>\n",
       "      <td>محاسب</td>\n",
       "      <td>27/05/1444</td>\n",
       "      <td>['إعداد وتنظيم مستندات الصرف ومتابعة تحصيل الإ...</td>\n",
       "      <td>['   تدقيق المطالبات المالية والتأكد من اكتمال...</td>\n",
       "      <td>مؤسسة فكرة اليمامة للمقاولات</td>\n",
       "      <td>1-2356639</td>\n",
       "      <td>خاص</td>\n",
       "      <td>كبيرة</td>\n",
       "      <td>الإنشاءات العامة للمباني السكنية</td>\n",
       "      <td>['Skill data', 'تحمل ضغط العمل', 'محترف', 'Lan...</td>\n",
       "      <td>الرياض</td>\n",
       "      <td>AR RIYADH...</td>\n",
       "      <td>['Salary', '5000.0']</td>\n",
       "      <td>دوام كامل</td>\n",
       "      <td>0 / 1</td>\n",
       "      <td>20202026350043</td>\n",
       "      <td>0 Years</td>\n",
       "      <td>both</td>\n",
       "    </tr>\n",
       "    <tr>\n",
       "      <th>...</th>\n",
       "      <td>...</td>\n",
       "      <td>...</td>\n",
       "      <td>...</td>\n",
       "      <td>...</td>\n",
       "      <td>...</td>\n",
       "      <td>...</td>\n",
       "      <td>...</td>\n",
       "      <td>...</td>\n",
       "      <td>...</td>\n",
       "      <td>...</td>\n",
       "      <td>...</td>\n",
       "      <td>...</td>\n",
       "      <td>...</td>\n",
       "      <td>...</td>\n",
       "      <td>...</td>\n",
       "      <td>...</td>\n",
       "      <td>...</td>\n",
       "      <td>...</td>\n",
       "    </tr>\n",
       "    <tr>\n",
       "      <th>1465</th>\n",
       "      <td>مهندس تقنية معلومات</td>\n",
       "      <td>19/06/1444</td>\n",
       "      <td>['دراسة احتياجات العميل من الأجهزة الحاسوبية و...</td>\n",
       "      <td>['   متابعة وتقييم عملية جمع وتحليل المعطيات و...</td>\n",
       "      <td>مطعم الاوراق الخضر لتقديم الوجبات</td>\n",
       "      <td>15-1698448</td>\n",
       "      <td>خاص</td>\n",
       "      <td>صغيرة فئة ب</td>\n",
       "      <td>المطاعم مع الخدمة</td>\n",
       "      <td>NaN</td>\n",
       "      <td>الرياض</td>\n",
       "      <td>AR RIYADH...</td>\n",
       "      <td>['Salary', '5500.0']</td>\n",
       "      <td>دوام كامل</td>\n",
       "      <td>0 / 1</td>\n",
       "      <td>20202026400353</td>\n",
       "      <td>0 Years</td>\n",
       "      <td>both</td>\n",
       "    </tr>\n",
       "    <tr>\n",
       "      <th>1466</th>\n",
       "      <td>سكرتير</td>\n",
       "      <td>19/06/1444</td>\n",
       "      <td>['دعم المدير أو الإدارة من خلال كتابة الوثائق ...</td>\n",
       "      <td>['   تدوين الملاحظات، التي يتم إملاؤها، بطريقة...</td>\n",
       "      <td>شركة ملتقى التجار لحاضنات و مسرعات الأعمال</td>\n",
       "      <td>9-2013930</td>\n",
       "      <td>خاص</td>\n",
       "      <td>صغيرة فئة ب</td>\n",
       "      <td>أنشطة حاضنات ومسرعات الأعمال</td>\n",
       "      <td>['Skill data', 'فن التواصل', 'محترف', 'Languag...</td>\n",
       "      <td>مكة المكرمة</td>\n",
       "      <td>JEDDAH...</td>\n",
       "      <td>['Salary', '4000.0']</td>\n",
       "      <td>دوام كامل</td>\n",
       "      <td>0 / 1</td>\n",
       "      <td>20202026399849</td>\n",
       "      <td>2 Years</td>\n",
       "      <td>both</td>\n",
       "    </tr>\n",
       "    <tr>\n",
       "      <th>1467</th>\n",
       "      <td>صيدلي</td>\n",
       "      <td>18/06/1444</td>\n",
       "      <td>['دراسة التركيبات الدوائية للعقاقير والعلاجات ...</td>\n",
       "      <td>['   دراسة مواصفات وتركيبات الادوية والعقاقير ...</td>\n",
       "      <td>شركة تقنية الدواجن والألبان للتجارة</td>\n",
       "      <td>1-2415250</td>\n",
       "      <td>خاص</td>\n",
       "      <td>صغيرة فئة ب</td>\n",
       "      <td>NaN</td>\n",
       "      <td>['Professional certificate \\\\ License data', '...</td>\n",
       "      <td>الرياض</td>\n",
       "      <td>AR RIYADH...</td>\n",
       "      <td>['Salary', '7000.0']</td>\n",
       "      <td>دوام كامل</td>\n",
       "      <td>0 / 1</td>\n",
       "      <td>20202026399061</td>\n",
       "      <td>0 Years</td>\n",
       "      <td>both</td>\n",
       "    </tr>\n",
       "    <tr>\n",
       "      <th>1468</th>\n",
       "      <td>مشغل آلة تشطيب رخام</td>\n",
       "      <td>18/06/1444</td>\n",
       "      <td>['تشغيل آلة تشطيب الرخام وابعادء الأجزاء المتف...</td>\n",
       "      <td>['   تسوية الرخام بواسطة أقراص الألماس الحديدي...</td>\n",
       "      <td>مصنع عبدالرحمن بن محمد بن عبدالعزيز العبدالقاد...</td>\n",
       "      <td>15-1971895</td>\n",
       "      <td>خاص</td>\n",
       "      <td>صغيرة فئة أ</td>\n",
       "      <td>NaN</td>\n",
       "      <td>['Skill data', 'متقن للعمل وشغوف ويرغب بالتطور...</td>\n",
       "      <td>المنطقة الشرقية</td>\n",
       "      <td>AL KHUBAR...</td>\n",
       "      <td>['Salary', '4000.0', 'Benefits', 'اجازة سنوية ...</td>\n",
       "      <td>دوام كامل</td>\n",
       "      <td>0 / 3</td>\n",
       "      <td>20202026398972</td>\n",
       "      <td>0 Years</td>\n",
       "      <td>M</td>\n",
       "    </tr>\n",
       "    <tr>\n",
       "      <th>1469</th>\n",
       "      <td>صيدلي</td>\n",
       "      <td>18/06/1444</td>\n",
       "      <td>['دراسة التركيبات الدوائية للعقاقير والعلاجات ...</td>\n",
       "      <td>['   دراسة مواصفات وتركيبات الادوية والعقاقير ...</td>\n",
       "      <td>شركة تقنية الدواجن والألبان للتجارة</td>\n",
       "      <td>1-2415250</td>\n",
       "      <td>خاص</td>\n",
       "      <td>صغيرة فئة ب</td>\n",
       "      <td>NaN</td>\n",
       "      <td>['Professional certificate \\\\ License data', '...</td>\n",
       "      <td>الرياض</td>\n",
       "      <td>AR RIYADH...</td>\n",
       "      <td>['Salary', '7000.0']</td>\n",
       "      <td>دوام كامل</td>\n",
       "      <td>0 / 1</td>\n",
       "      <td>20202026399061</td>\n",
       "      <td>0 Years</td>\n",
       "      <td>both</td>\n",
       "    </tr>\n",
       "  </tbody>\n",
       "</table>\n",
       "<p>1470 rows × 18 columns</p>\n",
       "</div>"
      ],
      "text/plain": [
       "                      job_title    job_date  \\\n",
       "0                         محاسب  27/05/1444   \n",
       "1                          بائع  27/05/1444   \n",
       "2     أخصائي عمليات موارد بشرية  27/05/1444   \n",
       "3               ميكانيكي سيارات  27/05/1444   \n",
       "4                         محاسب  27/05/1444   \n",
       "...                         ...         ...   \n",
       "1465        مهندس تقنية معلومات  19/06/1444   \n",
       "1466                     سكرتير  19/06/1444   \n",
       "1467                      صيدلي  18/06/1444   \n",
       "1468        مشغل آلة تشطيب رخام  18/06/1444   \n",
       "1469                      صيدلي  18/06/1444   \n",
       "\n",
       "                                               job_desc  \\\n",
       "0     ['إعداد وتنظيم مستندات الصرف ومتابعة تحصيل الإ...   \n",
       "1     ['بيع مجموعة من السلع والخدمات للعملاء، وتوفير...   \n",
       "2     ['تنفيذ الإجراءات والأنظمة والنماذج الخاصة بمر...   \n",
       "3     ['تشخيص أعطال السيارات وإصلاحها وتنفيذ برامج ا...   \n",
       "4     ['إعداد وتنظيم مستندات الصرف ومتابعة تحصيل الإ...   \n",
       "...                                                 ...   \n",
       "1465  ['دراسة احتياجات العميل من الأجهزة الحاسوبية و...   \n",
       "1466  ['دعم المدير أو الإدارة من خلال كتابة الوثائق ...   \n",
       "1467  ['دراسة التركيبات الدوائية للعقاقير والعلاجات ...   \n",
       "1468  ['تشغيل آلة تشطيب الرخام وابعادء الأجزاء المتف...   \n",
       "1469  ['دراسة التركيبات الدوائية للعقاقير والعلاجات ...   \n",
       "\n",
       "                                              job_tasks  \\\n",
       "0     ['   تدقيق المطالبات المالية والتأكد من اكتمال...   \n",
       "1     ['   بيع مجموعة من السلع والخدمات للعملاء.', '...   \n",
       "2     ['   تنفيذ الإجراءات والأنظمة والنماذج الخاصة ...   \n",
       "3     ['   فحص أداء المعدّات الكهربائية والميكانيكية...   \n",
       "4     ['   تدقيق المطالبات المالية والتأكد من اكتمال...   \n",
       "...                                                 ...   \n",
       "1465  ['   متابعة وتقييم عملية جمع وتحليل المعطيات و...   \n",
       "1466  ['   تدوين الملاحظات، التي يتم إملاؤها، بطريقة...   \n",
       "1467  ['   دراسة مواصفات وتركيبات الادوية والعقاقير ...   \n",
       "1468  ['   تسوية الرخام بواسطة أقراص الألماس الحديدي...   \n",
       "1469  ['   دراسة مواصفات وتركيبات الادوية والعقاقير ...   \n",
       "\n",
       "                                              comp_name     comp_no comp_type  \\\n",
       "0                              شركة مقر العالم للسفريات    1-317262       خاص   \n",
       "1                          شركة عالم الكهرباء للمقاولات   4-1324428       خاص   \n",
       "2                                       شركه دار السلام    1-155294       خاص   \n",
       "3                               مؤسسة لمكو لغيار الزيوت   8-1925495       خاص   \n",
       "4                          مؤسسة فكرة اليمامة للمقاولات   1-2356639       خاص   \n",
       "...                                                 ...         ...       ...   \n",
       "1465                  مطعم الاوراق الخضر لتقديم الوجبات  15-1698448       خاص   \n",
       "1466         شركة ملتقى التجار لحاضنات و مسرعات الأعمال   9-2013930       خاص   \n",
       "1467                شركة تقنية الدواجن والألبان للتجارة   1-2415250       خاص   \n",
       "1468  مصنع عبدالرحمن بن محمد بن عبدالعزيز العبدالقاد...  15-1971895       خاص   \n",
       "1469                شركة تقنية الدواجن والألبان للتجارة   1-2415250       خاص   \n",
       "\n",
       "         comp_size                                       eco_activity  \\\n",
       "0     متوسطة فئة أ                        أنشطة وكالات السياحة والسفر   \n",
       "1     متوسطة فئة ب  تركيب انظمة التبريد وتكييف الهواء وصيانتها واص...   \n",
       "2     متوسطة فئة أ               ترميمات المباني السكنية والغير سكنية   \n",
       "3      صغيرة فئة ب                                                NaN   \n",
       "4            كبيرة                   الإنشاءات العامة للمباني السكنية   \n",
       "...            ...                                                ...   \n",
       "1465   صغيرة فئة ب                                  المطاعم مع الخدمة   \n",
       "1466   صغيرة فئة ب                       أنشطة حاضنات ومسرعات الأعمال   \n",
       "1467   صغيرة فئة ب                                                NaN   \n",
       "1468   صغيرة فئة أ                                                NaN   \n",
       "1469   صغيرة فئة ب                                                NaN   \n",
       "\n",
       "                                                 qualif           region  \\\n",
       "0        ['Language data', 'اللغة الانجليزية', 'محترف']           الرياض   \n",
       "1                                                   NaN  المنطقة الشرقية   \n",
       "2              ['Language data', 'الانجليزيه', 'محترف']           الرياض   \n",
       "3     ['Skill data', 'صيانة السيارات وتقييم الاعطال'...  المنطقة الشرقية   \n",
       "4     ['Skill data', 'تحمل ضغط العمل', 'محترف', 'Lan...           الرياض   \n",
       "...                                                 ...              ...   \n",
       "1465                                                NaN           الرياض   \n",
       "1466  ['Skill data', 'فن التواصل', 'محترف', 'Languag...      مكة المكرمة   \n",
       "1467  ['Professional certificate \\\\ License data', '...           الرياض   \n",
       "1468  ['Skill data', 'متقن للعمل وشغوف ويرغب بالتطور...  المنطقة الشرقية   \n",
       "1469  ['Professional certificate \\\\ License data', '...           الرياض   \n",
       "\n",
       "              city                                           benefits  \\\n",
       "0     AR RIYADH...                               ['Salary', '5000.0']   \n",
       "1     AD DAMMAM...                               ['Salary', '5000.0']   \n",
       "2     ATH THUMA...                               ['Salary', '4000.0']   \n",
       "3      AL HUFUF...                               ['Salary', '5000.0']   \n",
       "4     AR RIYADH...                               ['Salary', '5000.0']   \n",
       "...            ...                                                ...   \n",
       "1465  AR RIYADH...                               ['Salary', '5500.0']   \n",
       "1466     JEDDAH...                               ['Salary', '4000.0']   \n",
       "1467  AR RIYADH...                               ['Salary', '7000.0']   \n",
       "1468  AL KHUBAR...  ['Salary', '4000.0', 'Benefits', 'اجازة سنوية ...   \n",
       "1469  AR RIYADH...                               ['Salary', '7000.0']   \n",
       "\n",
       "       contract positions     job_post_id    exper gender  \n",
       "0     دوام كامل     0 / 1  20202026350419  0 Years   both  \n",
       "1     دوام كامل     0 / 3  20202026350389  0 Years   both  \n",
       "2     دوام كامل     0 / 2  20202026350347  2 Years   both  \n",
       "3     دوام كامل    0 / 10  20202026350219  0 Years      M  \n",
       "4     دوام كامل     0 / 1  20202026350043  0 Years   both  \n",
       "...         ...       ...             ...      ...    ...  \n",
       "1465  دوام كامل     0 / 1  20202026400353  0 Years   both  \n",
       "1466  دوام كامل     0 / 1  20202026399849  2 Years   both  \n",
       "1467  دوام كامل     0 / 1  20202026399061  0 Years   both  \n",
       "1468  دوام كامل     0 / 3  20202026398972  0 Years      M  \n",
       "1469  دوام كامل     0 / 1  20202026399061  0 Years   both  \n",
       "\n",
       "[1470 rows x 18 columns]"
      ]
     },
     "execution_count": 1201,
     "metadata": {},
     "output_type": "execute_result"
    }
   ],
   "source": [
    "Jadarat_data"
   ]
  },
  {
   "cell_type": "markdown",
   "id": "bd2b5bc4-db37-4432-b666-0714afd0c4ca",
   "metadata": {},
   "source": [
    "## 1. Data Profiling:\n",
    "Data profiling is a comprehensive process of examining the data available in an existing dataset and collecting statistics and information about that data. "
   ]
  },
  {
   "cell_type": "code",
   "execution_count": 1203,
   "id": "672f2081-5a2c-4908-8cbd-29519fb3cac5",
   "metadata": {},
   "outputs": [
    {
     "data": {
      "text/plain": [
       "(1470, 18)"
      ]
     },
     "execution_count": 1203,
     "metadata": {},
     "output_type": "execute_result"
    }
   ],
   "source": [
    "Jadarat_data.shape"
   ]
  },
  {
   "cell_type": "code",
   "execution_count": 1204,
   "id": "942a059a-a912-43e4-bf46-12c7d99e79cb",
   "metadata": {},
   "outputs": [
    {
     "name": "stdout",
     "output_type": "stream",
     "text": [
      "<class 'pandas.core.frame.DataFrame'>\n",
      "RangeIndex: 1470 entries, 0 to 1469\n",
      "Data columns (total 18 columns):\n",
      " #   Column        Non-Null Count  Dtype \n",
      "---  ------        --------------  ----- \n",
      " 0   job_title     1470 non-null   object\n",
      " 1   job_date      1470 non-null   object\n",
      " 2   job_desc      1470 non-null   object\n",
      " 3   job_tasks     1470 non-null   object\n",
      " 4   comp_name     1470 non-null   object\n",
      " 5   comp_no       1470 non-null   object\n",
      " 6   comp_type     1470 non-null   object\n",
      " 7   comp_size     1456 non-null   object\n",
      " 8   eco_activity  1380 non-null   object\n",
      " 9   qualif        780 non-null    object\n",
      " 10  region        1470 non-null   object\n",
      " 11  city          1470 non-null   object\n",
      " 12  benefits      1470 non-null   object\n",
      " 13  contract      1470 non-null   object\n",
      " 14  positions     1470 non-null   object\n",
      " 15  job_post_id   1470 non-null   int64 \n",
      " 16  exper         1470 non-null   object\n",
      " 17  gender        1470 non-null   object\n",
      "dtypes: int64(1), object(17)\n",
      "memory usage: 206.8+ KB\n"
     ]
    }
   ],
   "source": [
    "Jadarat_data.info()"
   ]
  },
  {
   "cell_type": "code",
   "execution_count": 1205,
   "id": "478203e8-bf62-41e2-88a4-767802a7c7ec",
   "metadata": {},
   "outputs": [
    {
     "data": {
      "text/plain": [
       "886"
      ]
     },
     "execution_count": 1205,
     "metadata": {},
     "output_type": "execute_result"
    }
   ],
   "source": [
    "Jadarat_data['comp_name'].nunique()"
   ]
  },
  {
   "cell_type": "code",
   "execution_count": 1206,
   "id": "8664cd81-8028-4fdb-923c-30d954f5db0b",
   "metadata": {},
   "outputs": [],
   "source": [
    "#Jadarat_data['comp_name'].value_counts().sort_values(ascending = False)"
   ]
  },
  {
   "cell_type": "code",
   "execution_count": 1207,
   "id": "461f2f51-1abd-46a2-898d-e0b4acc53dac",
   "metadata": {},
   "outputs": [],
   "source": [
    "#Jadarat_data['comp_no'].value_counts().sort_values(ascending = False)"
   ]
  },
  {
   "cell_type": "code",
   "execution_count": 1208,
   "id": "e1d9400a-19ef-4b04-b1cf-7995c3b85ad5",
   "metadata": {},
   "outputs": [
    {
     "data": {
      "text/plain": [
       "\"['Skill data', 'تسويق', 'مبتدئ']\""
      ]
     },
     "execution_count": 1208,
     "metadata": {},
     "output_type": "execute_result"
    }
   ],
   "source": [
    "Jadarat_data['qualif'][11]"
   ]
  },
  {
   "cell_type": "code",
   "execution_count": 1209,
   "id": "58499b27-5ba8-4a2b-9bfd-2f694836aec8",
   "metadata": {
    "scrolled": true
   },
   "outputs": [
    {
     "data": {
      "text/plain": [
       "benefits\n",
       "['Salary', '4000.0']                                                 449\n",
       "['Salary', '5000.0']                                                 148\n",
       "['Salary', '6000.0']                                                  86\n",
       "['Salary', '4500.0']                                                  85\n",
       "['Salary', '7000.0']                                                  66\n",
       "                                                                    ... \n",
       "['Salary', '4600.0']                                                   1\n",
       "['Salary', '10000.0', 'Benefits', 'راتب أساسي فقط']                    1\n",
       "['Salary', '5000.0', 'Benefits', 'عمولة مستهدفة من ارباح الفرع ']      1\n",
       "['Salary', '5500.0', 'Benefits', 'راتب أساسي بدون بدلات']              1\n",
       "['Salary', '4000.0', 'Benefits', 'اجازة سنوية 30 يوم ']                1\n",
       "Name: count, Length: 393, dtype: int64"
      ]
     },
     "execution_count": 1209,
     "metadata": {},
     "output_type": "execute_result"
    }
   ],
   "source": [
    "Jadarat_data['benefits'].value_counts()"
   ]
  },
  {
   "cell_type": "code",
   "execution_count": 1210,
   "id": "7fa7a745-5d53-43cb-8548-35c980f74254",
   "metadata": {},
   "outputs": [
    {
     "data": {
      "text/plain": [
       "comp_type   comp_size   \n",
       "خاص         صغيرة فئة أ     325\n",
       "            صغيرة فئة ب     635\n",
       "            عملاقة           46\n",
       "            كبيرة            73\n",
       "            متوسطة فئة أ    162\n",
       "            متوسطة فئة ب    134\n",
       "            متوسطة فئة ج     76\n",
       "شبه حكومية  كبيرة             5\n",
       "dtype: int64"
      ]
     },
     "execution_count": 1210,
     "metadata": {},
     "output_type": "execute_result"
    }
   ],
   "source": [
    "Jadarat_data.groupby(['comp_type','comp_size']).size()"
   ]
  },
  {
   "cell_type": "code",
   "execution_count": 1211,
   "id": "d6b5a5d2-be22-4c04-91b7-b2996c4e33b3",
   "metadata": {},
   "outputs": [
    {
     "data": {
      "text/html": [
       "<div>\n",
       "<style scoped>\n",
       "    .dataframe tbody tr th:only-of-type {\n",
       "        vertical-align: middle;\n",
       "    }\n",
       "\n",
       "    .dataframe tbody tr th {\n",
       "        vertical-align: top;\n",
       "    }\n",
       "\n",
       "    .dataframe thead th {\n",
       "        text-align: right;\n",
       "    }\n",
       "</style>\n",
       "<table border=\"1\" class=\"dataframe\">\n",
       "  <thead>\n",
       "    <tr style=\"text-align: right;\">\n",
       "      <th></th>\n",
       "      <th>job_title</th>\n",
       "      <th>job_date</th>\n",
       "      <th>job_desc</th>\n",
       "      <th>job_tasks</th>\n",
       "      <th>comp_name</th>\n",
       "      <th>comp_no</th>\n",
       "      <th>comp_type</th>\n",
       "      <th>comp_size</th>\n",
       "      <th>eco_activity</th>\n",
       "      <th>qualif</th>\n",
       "      <th>region</th>\n",
       "      <th>city</th>\n",
       "      <th>benefits</th>\n",
       "      <th>contract</th>\n",
       "      <th>positions</th>\n",
       "      <th>job_post_id</th>\n",
       "      <th>exper</th>\n",
       "      <th>gender</th>\n",
       "    </tr>\n",
       "  </thead>\n",
       "  <tbody>\n",
       "    <tr>\n",
       "      <th>273</th>\n",
       "      <td>أخصائي خدمة عملاء</td>\n",
       "      <td>18/04/1444</td>\n",
       "      <td>['وضع وتحديد مؤشرات ومعايير الأداء والجودة في ...</td>\n",
       "      <td>['   إجراء الدراسات والتحاليل المتخصصة بهدف وض...</td>\n",
       "      <td>شركه روائع ابداعيه للتدريب المهني</td>\n",
       "      <td>EST-1493</td>\n",
       "      <td>شبه حكومية</td>\n",
       "      <td>كبيرة</td>\n",
       "      <td>المطاعم مع الخدمة</td>\n",
       "      <td>NaN</td>\n",
       "      <td>المنطقة الشرقية</td>\n",
       "      <td>ABRAQIYAH...</td>\n",
       "      <td>['Salary', '6000.0']</td>\n",
       "      <td>دوام كامل</td>\n",
       "      <td>0 / 7</td>\n",
       "      <td>20202026247681</td>\n",
       "      <td>0 Years</td>\n",
       "      <td>both</td>\n",
       "    </tr>\n",
       "    <tr>\n",
       "      <th>274</th>\n",
       "      <td>أخصائي أسرة وطفولة</td>\n",
       "      <td>16/04/1444</td>\n",
       "      <td>['تحديد الاحتياجات والمشاكل والتحديات المتعلقة...</td>\n",
       "      <td>['   إجراء الدراسات والتحاليل المتخصصة المتعلق...</td>\n",
       "      <td>جمعية بناء للإرشاد الأسري</td>\n",
       "      <td>EST-1619</td>\n",
       "      <td>شبه حكومية</td>\n",
       "      <td>كبيرة</td>\n",
       "      <td>المطاعم مع الخدمة</td>\n",
       "      <td>NaN</td>\n",
       "      <td>المدينة المنورة</td>\n",
       "      <td>AL MADINA...</td>\n",
       "      <td>['Salary', '4000.0']</td>\n",
       "      <td>دوام كامل</td>\n",
       "      <td>0 / 2</td>\n",
       "      <td>20202026247680</td>\n",
       "      <td>0 Years</td>\n",
       "      <td>F</td>\n",
       "    </tr>\n",
       "    <tr>\n",
       "      <th>538</th>\n",
       "      <td>محاسب</td>\n",
       "      <td>06/05/1444</td>\n",
       "      <td>['إعداد وتنظيم مستندات الصرف ومتابعة تحصيل الإ...</td>\n",
       "      <td>['   تدقيق المطالبات المالية والتأكد من اكتمال...</td>\n",
       "      <td>جمعية الدعوة والارشاد وتوعية الجاليات في الصنا...</td>\n",
       "      <td>EST-118</td>\n",
       "      <td>شبه حكومية</td>\n",
       "      <td>كبيرة</td>\n",
       "      <td>البيع بالتجزئة لوقود السيارات والدراجات الناري...</td>\n",
       "      <td>NaN</td>\n",
       "      <td>الرياض</td>\n",
       "      <td>AR RIYADH...</td>\n",
       "      <td>['Salary', '7000.0']</td>\n",
       "      <td>دوام كامل</td>\n",
       "      <td>0 / 1</td>\n",
       "      <td>20202026314310</td>\n",
       "      <td>0 Years</td>\n",
       "      <td>M</td>\n",
       "    </tr>\n",
       "    <tr>\n",
       "      <th>742</th>\n",
       "      <td>رئيس تنفيذي</td>\n",
       "      <td>19/05/1444</td>\n",
       "      <td>['المشاركة في وضع الأهداف والخطط الإستراتيجية ...</td>\n",
       "      <td>['   المشاركة في وضع الإستراتيجية العامة وتحقي...</td>\n",
       "      <td>جاروديه الخيريه للخدمات الاجتماعيه /جمعيه</td>\n",
       "      <td>EST-282</td>\n",
       "      <td>شبه حكومية</td>\n",
       "      <td>كبيرة</td>\n",
       "      <td>NaN</td>\n",
       "      <td>['Language data', 'العربيه', 'محترف', 'انجليزي...</td>\n",
       "      <td>المنطقة الشرقية</td>\n",
       "      <td>AL QATIF...</td>\n",
       "      <td>['Salary', '10250.0']</td>\n",
       "      <td>دوام كامل</td>\n",
       "      <td>0 / 1</td>\n",
       "      <td>20202026339202</td>\n",
       "      <td>0 Years</td>\n",
       "      <td>M</td>\n",
       "    </tr>\n",
       "    <tr>\n",
       "      <th>947</th>\n",
       "      <td>أخصائي استشارات أعمال</td>\n",
       "      <td>08/06/1444</td>\n",
       "      <td>['الشؤون الصحية بوزارة الحرس الوطني تبحث عن اخ...</td>\n",
       "      <td>['   تقديم استشارات  لتطوير الأهداف الرئيسيةفي...</td>\n",
       "      <td>برنامج مستشفى الملك فهدللحرس الوطني</td>\n",
       "      <td>EST-1237</td>\n",
       "      <td>شبه حكومية</td>\n",
       "      <td>كبيرة</td>\n",
       "      <td>NaN</td>\n",
       "      <td>['Language data', 'اللغة الإنجليزية ', 'محترف']</td>\n",
       "      <td>الرياض</td>\n",
       "      <td>AR RIYADH...</td>\n",
       "      <td>['Salary', '15532.0']</td>\n",
       "      <td>دوام كامل</td>\n",
       "      <td>0 / 1</td>\n",
       "      <td>20202026390144</td>\n",
       "      <td>10 Years</td>\n",
       "      <td>both</td>\n",
       "    </tr>\n",
       "  </tbody>\n",
       "</table>\n",
       "</div>"
      ],
      "text/plain": [
       "                 job_title    job_date  \\\n",
       "273      أخصائي خدمة عملاء  18/04/1444   \n",
       "274     أخصائي أسرة وطفولة  16/04/1444   \n",
       "538                  محاسب  06/05/1444   \n",
       "742            رئيس تنفيذي  19/05/1444   \n",
       "947  أخصائي استشارات أعمال  08/06/1444   \n",
       "\n",
       "                                              job_desc  \\\n",
       "273  ['وضع وتحديد مؤشرات ومعايير الأداء والجودة في ...   \n",
       "274  ['تحديد الاحتياجات والمشاكل والتحديات المتعلقة...   \n",
       "538  ['إعداد وتنظيم مستندات الصرف ومتابعة تحصيل الإ...   \n",
       "742  ['المشاركة في وضع الأهداف والخطط الإستراتيجية ...   \n",
       "947  ['الشؤون الصحية بوزارة الحرس الوطني تبحث عن اخ...   \n",
       "\n",
       "                                             job_tasks  \\\n",
       "273  ['   إجراء الدراسات والتحاليل المتخصصة بهدف وض...   \n",
       "274  ['   إجراء الدراسات والتحاليل المتخصصة المتعلق...   \n",
       "538  ['   تدقيق المطالبات المالية والتأكد من اكتمال...   \n",
       "742  ['   المشاركة في وضع الإستراتيجية العامة وتحقي...   \n",
       "947  ['   تقديم استشارات  لتطوير الأهداف الرئيسيةفي...   \n",
       "\n",
       "                                             comp_name   comp_no   comp_type  \\\n",
       "273                  شركه روائع ابداعيه للتدريب المهني  EST-1493  شبه حكومية   \n",
       "274                          جمعية بناء للإرشاد الأسري  EST-1619  شبه حكومية   \n",
       "538  جمعية الدعوة والارشاد وتوعية الجاليات في الصنا...   EST-118  شبه حكومية   \n",
       "742          جاروديه الخيريه للخدمات الاجتماعيه /جمعيه   EST-282  شبه حكومية   \n",
       "947                برنامج مستشفى الملك فهدللحرس الوطني  EST-1237  شبه حكومية   \n",
       "\n",
       "    comp_size                                       eco_activity  \\\n",
       "273     كبيرة                                  المطاعم مع الخدمة   \n",
       "274     كبيرة                                  المطاعم مع الخدمة   \n",
       "538     كبيرة  البيع بالتجزئة لوقود السيارات والدراجات الناري...   \n",
       "742     كبيرة                                                NaN   \n",
       "947     كبيرة                                                NaN   \n",
       "\n",
       "                                                qualif           region  \\\n",
       "273                                                NaN  المنطقة الشرقية   \n",
       "274                                                NaN  المدينة المنورة   \n",
       "538                                                NaN           الرياض   \n",
       "742  ['Language data', 'العربيه', 'محترف', 'انجليزي...  المنطقة الشرقية   \n",
       "947    ['Language data', 'اللغة الإنجليزية ', 'محترف']           الرياض   \n",
       "\n",
       "             city               benefits   contract positions     job_post_id  \\\n",
       "273  ABRAQIYAH...   ['Salary', '6000.0']  دوام كامل     0 / 7  20202026247681   \n",
       "274  AL MADINA...   ['Salary', '4000.0']  دوام كامل     0 / 2  20202026247680   \n",
       "538  AR RIYADH...   ['Salary', '7000.0']  دوام كامل     0 / 1  20202026314310   \n",
       "742   AL QATIF...  ['Salary', '10250.0']  دوام كامل     0 / 1  20202026339202   \n",
       "947  AR RIYADH...  ['Salary', '15532.0']  دوام كامل     0 / 1  20202026390144   \n",
       "\n",
       "        exper gender  \n",
       "273   0 Years   both  \n",
       "274   0 Years      F  \n",
       "538   0 Years      M  \n",
       "742   0 Years      M  \n",
       "947  10 Years   both  "
      ]
     },
     "execution_count": 1211,
     "metadata": {},
     "output_type": "execute_result"
    }
   ],
   "source": [
    "Jadarat_data[Jadarat_data['comp_type'] == 'شبه حكومية']"
   ]
  },
  {
   "cell_type": "markdown",
   "id": "e979c147-51a6-4c73-aca9-17a9f5787d41",
   "metadata": {},
   "source": [
    "## Data Quality Checks\n",
    "Data quality checks involve the process of ensuring that the data is accurate, complete, consistent, relevant, and reliable. \n",
    "\n",
    "\n",
    "**Here are typical steps involved in checking data quality:**"
   ]
  },
  {
   "cell_type": "markdown",
   "id": "d5e0f045-287a-4247-9368-49287f08789d",
   "metadata": {},
   "source": [
    "#### 1. Reliability:\n"
   ]
  },
  {
   "cell_type": "markdown",
   "id": "8bbb1a03-0436-42a3-96d4-7737662e740a",
   "metadata": {},
   "source": [
    "The data's source is trustworthiness"
   ]
  },
  {
   "cell_type": "markdown",
   "id": "d8b9074b-ee7a-429e-bffe-f3ba04bdd500",
   "metadata": {},
   "source": [
    "#### 2. Timeliness: \n"
   ]
  },
  {
   "cell_type": "markdown",
   "id": "cac0bee6-eb7f-4fa6-a3d0-f42b5d28a911",
   "metadata": {},
   "source": [
    "the data is reflective of the current situation or the period of interest for the analysis from 2022 to 2023 "
   ]
  },
  {
   "cell_type": "markdown",
   "id": "16f680d2-6919-4c2b-adc5-b897fcb456a0",
   "metadata": {},
   "source": [
    "#### 3. Consistency: \n",
    "\n",
    "\n"
   ]
  },
  {
   "cell_type": "markdown",
   "id": "33aad459-9d4d-46e8-9bae-61ad04db56e3",
   "metadata": {},
   "source": [
    "Since we have a single data source, there is no issue with consistency."
   ]
  },
  {
   "cell_type": "markdown",
   "id": "1dbc6643-c986-4aac-ae03-0eaa7d30e807",
   "metadata": {},
   "source": [
    "#### 4. Relevance: \n",
    "\n"
   ]
  },
  {
   "cell_type": "markdown",
   "id": "0b21ba93-9fb7-4f24-8b20-6b754630637e",
   "metadata": {
    "scrolled": true
   },
   "source": [
    "Sample Appropriatenes the data sample aligine with analysis objectives\n",
    "Variable Selection:job_desc, job_tasks coulmns  not be relevant for a analysis"
   ]
  },
  {
   "cell_type": "code",
   "execution_count": 1221,
   "id": "b9d1caff-4108-45da-8e7e-c60ad6588cf5",
   "metadata": {},
   "outputs": [
    {
     "data": {
      "text/plain": [
       "Index(['job_title', 'job_date', 'job_desc', 'job_tasks', 'comp_name',\n",
       "       'comp_no', 'comp_type', 'comp_size', 'eco_activity', 'qualif', 'region',\n",
       "       'city', 'benefits', 'contract', 'positions', 'job_post_id', 'exper',\n",
       "       'gender'],\n",
       "      dtype='object')"
      ]
     },
     "execution_count": 1221,
     "metadata": {},
     "output_type": "execute_result"
    }
   ],
   "source": [
    "Jadarat_data.columns"
   ]
  },
  {
   "cell_type": "markdown",
   "id": "3bd54f91-608a-4639-bf11-a41d6a592bfd",
   "metadata": {},
   "source": [
    "#### 5. Uniqueness: \n",
    "Check for and remove duplicate records to prevent skewed analysis results.\n"
   ]
  },
  {
   "cell_type": "code",
   "execution_count": 1223,
   "id": "a509a7aa-58f4-4d39-8eb8-e8298a21f2a7",
   "metadata": {},
   "outputs": [
    {
     "data": {
      "text/plain": [
       "1"
      ]
     },
     "execution_count": 1223,
     "metadata": {},
     "output_type": "execute_result"
    }
   ],
   "source": [
    "Jadarat_data.duplicated().sum()"
   ]
  },
  {
   "cell_type": "code",
   "execution_count": 1224,
   "id": "04c62559-3b48-48cf-a4e9-857e2e0ff416",
   "metadata": {},
   "outputs": [
    {
     "data": {
      "text/html": [
       "<div>\n",
       "<style scoped>\n",
       "    .dataframe tbody tr th:only-of-type {\n",
       "        vertical-align: middle;\n",
       "    }\n",
       "\n",
       "    .dataframe tbody tr th {\n",
       "        vertical-align: top;\n",
       "    }\n",
       "\n",
       "    .dataframe thead th {\n",
       "        text-align: right;\n",
       "    }\n",
       "</style>\n",
       "<table border=\"1\" class=\"dataframe\">\n",
       "  <thead>\n",
       "    <tr style=\"text-align: right;\">\n",
       "      <th></th>\n",
       "      <th>job_title</th>\n",
       "      <th>job_date</th>\n",
       "      <th>job_desc</th>\n",
       "      <th>job_tasks</th>\n",
       "      <th>comp_name</th>\n",
       "      <th>comp_no</th>\n",
       "      <th>comp_type</th>\n",
       "      <th>comp_size</th>\n",
       "      <th>eco_activity</th>\n",
       "      <th>qualif</th>\n",
       "      <th>region</th>\n",
       "      <th>city</th>\n",
       "      <th>benefits</th>\n",
       "      <th>contract</th>\n",
       "      <th>positions</th>\n",
       "      <th>job_post_id</th>\n",
       "      <th>exper</th>\n",
       "      <th>gender</th>\n",
       "    </tr>\n",
       "  </thead>\n",
       "  <tbody>\n",
       "    <tr>\n",
       "      <th>1467</th>\n",
       "      <td>صيدلي</td>\n",
       "      <td>18/06/1444</td>\n",
       "      <td>['دراسة التركيبات الدوائية للعقاقير والعلاجات ...</td>\n",
       "      <td>['   دراسة مواصفات وتركيبات الادوية والعقاقير ...</td>\n",
       "      <td>شركة تقنية الدواجن والألبان للتجارة</td>\n",
       "      <td>1-2415250</td>\n",
       "      <td>خاص</td>\n",
       "      <td>صغيرة فئة ب</td>\n",
       "      <td>NaN</td>\n",
       "      <td>['Professional certificate \\\\ License data', '...</td>\n",
       "      <td>الرياض</td>\n",
       "      <td>AR RIYADH...</td>\n",
       "      <td>['Salary', '7000.0']</td>\n",
       "      <td>دوام كامل</td>\n",
       "      <td>0 / 1</td>\n",
       "      <td>20202026399061</td>\n",
       "      <td>0 Years</td>\n",
       "      <td>both</td>\n",
       "    </tr>\n",
       "    <tr>\n",
       "      <th>1469</th>\n",
       "      <td>صيدلي</td>\n",
       "      <td>18/06/1444</td>\n",
       "      <td>['دراسة التركيبات الدوائية للعقاقير والعلاجات ...</td>\n",
       "      <td>['   دراسة مواصفات وتركيبات الادوية والعقاقير ...</td>\n",
       "      <td>شركة تقنية الدواجن والألبان للتجارة</td>\n",
       "      <td>1-2415250</td>\n",
       "      <td>خاص</td>\n",
       "      <td>صغيرة فئة ب</td>\n",
       "      <td>NaN</td>\n",
       "      <td>['Professional certificate \\\\ License data', '...</td>\n",
       "      <td>الرياض</td>\n",
       "      <td>AR RIYADH...</td>\n",
       "      <td>['Salary', '7000.0']</td>\n",
       "      <td>دوام كامل</td>\n",
       "      <td>0 / 1</td>\n",
       "      <td>20202026399061</td>\n",
       "      <td>0 Years</td>\n",
       "      <td>both</td>\n",
       "    </tr>\n",
       "  </tbody>\n",
       "</table>\n",
       "</div>"
      ],
      "text/plain": [
       "     job_title    job_date                                           job_desc  \\\n",
       "1467     صيدلي  18/06/1444  ['دراسة التركيبات الدوائية للعقاقير والعلاجات ...   \n",
       "1469     صيدلي  18/06/1444  ['دراسة التركيبات الدوائية للعقاقير والعلاجات ...   \n",
       "\n",
       "                                              job_tasks  \\\n",
       "1467  ['   دراسة مواصفات وتركيبات الادوية والعقاقير ...   \n",
       "1469  ['   دراسة مواصفات وتركيبات الادوية والعقاقير ...   \n",
       "\n",
       "                                comp_name    comp_no comp_type    comp_size  \\\n",
       "1467  شركة تقنية الدواجن والألبان للتجارة  1-2415250       خاص  صغيرة فئة ب   \n",
       "1469  شركة تقنية الدواجن والألبان للتجارة  1-2415250       خاص  صغيرة فئة ب   \n",
       "\n",
       "     eco_activity                                             qualif  region  \\\n",
       "1467          NaN  ['Professional certificate \\\\ License data', '...  الرياض   \n",
       "1469          NaN  ['Professional certificate \\\\ License data', '...  الرياض   \n",
       "\n",
       "              city              benefits   contract positions     job_post_id  \\\n",
       "1467  AR RIYADH...  ['Salary', '7000.0']  دوام كامل     0 / 1  20202026399061   \n",
       "1469  AR RIYADH...  ['Salary', '7000.0']  دوام كامل     0 / 1  20202026399061   \n",
       "\n",
       "        exper gender  \n",
       "1467  0 Years   both  \n",
       "1469  0 Years   both  "
      ]
     },
     "execution_count": 1224,
     "metadata": {},
     "output_type": "execute_result"
    }
   ],
   "source": [
    "Jadarat_data[Jadarat_data.duplicated(keep=False)]"
   ]
  },
  {
   "cell_type": "code",
   "execution_count": 1225,
   "id": "bb5f4183-dab6-4add-a875-173d40d5b435",
   "metadata": {},
   "outputs": [],
   "source": [
    "Jadarat_data.drop_duplicates(inplace =True)"
   ]
  },
  {
   "cell_type": "code",
   "execution_count": 1226,
   "id": "e0468bbd-f2d5-4110-afbe-6f8f4c8c05e2",
   "metadata": {},
   "outputs": [
    {
     "data": {
      "text/plain": [
       "0"
      ]
     },
     "execution_count": 1226,
     "metadata": {},
     "output_type": "execute_result"
    }
   ],
   "source": [
    "Jadarat_data.duplicated().sum()"
   ]
  },
  {
   "cell_type": "markdown",
   "id": "49529834-33ec-4e20-afb0-f4a474efa2c4",
   "metadata": {},
   "source": [
    "#### 6. Completeness: \n",
    "Ensure that no critical data is missing. This might mean checking for null values or required fields that are empty.\n",
    "\n",
    "We will start by checking the dataset for missing or null values. For this, we can use the isna() method which returns a dataframe of boolean values indicating if a field is null or not. To group all missing values by column, we can include the sum() method."
   ]
  },
  {
   "cell_type": "code",
   "execution_count": 1228,
   "id": "30ed7976-57a4-4409-9244-ada794d844fe",
   "metadata": {},
   "outputs": [
    {
     "data": {
      "text/plain": [
       "job_title         0\n",
       "job_date          0\n",
       "job_desc          0\n",
       "job_tasks         0\n",
       "comp_name         0\n",
       "comp_no           0\n",
       "comp_type         0\n",
       "comp_size        14\n",
       "eco_activity     89\n",
       "qualif          690\n",
       "region            0\n",
       "city              0\n",
       "benefits          0\n",
       "contract          0\n",
       "positions         0\n",
       "job_post_id       0\n",
       "exper             0\n",
       "gender            0\n",
       "dtype: int64"
      ]
     },
     "execution_count": 1228,
     "metadata": {},
     "output_type": "execute_result"
    }
   ],
   "source": [
    "Jadarat_data.isnull().sum()"
   ]
  },
  {
   "cell_type": "code",
   "execution_count": 1229,
   "id": "34fdf5f4-6c24-49a7-9706-923535efb3eb",
   "metadata": {},
   "outputs": [],
   "source": [
    "# Fill missing values with a default value\n",
    "Jadarat_data['comp_size'] = Jadarat_data['comp_size'].fillna('Unknown')\n",
    "Jadarat_data['eco_activity'] = Jadarat_data['eco_activity'].fillna('Not Specified')\n",
    "Jadarat_data['qualif'] = Jadarat_data['qualif'].fillna('No Qualification')"
   ]
  },
  {
   "cell_type": "markdown",
   "id": "250ac274-3120-488d-82d7-df314013f613",
   "metadata": {},
   "source": [
    "#### 7. Check Accuracy:\n",
    "\n"
   ]
  },
  {
   "cell_type": "code",
   "execution_count": 1231,
   "id": "0cebc946-ec56-417c-bc01-4839ca3f16af",
   "metadata": {},
   "outputs": [
    {
     "name": "stdout",
     "output_type": "stream",
     "text": [
      "<class 'pandas.core.frame.DataFrame'>\n",
      "Index: 1469 entries, 0 to 1468\n",
      "Data columns (total 18 columns):\n",
      " #   Column        Non-Null Count  Dtype \n",
      "---  ------        --------------  ----- \n",
      " 0   job_title     1469 non-null   object\n",
      " 1   job_date      1469 non-null   object\n",
      " 2   job_desc      1469 non-null   object\n",
      " 3   job_tasks     1469 non-null   object\n",
      " 4   comp_name     1469 non-null   object\n",
      " 5   comp_no       1469 non-null   object\n",
      " 6   comp_type     1469 non-null   object\n",
      " 7   comp_size     1469 non-null   object\n",
      " 8   eco_activity  1469 non-null   object\n",
      " 9   qualif        1469 non-null   object\n",
      " 10  region        1469 non-null   object\n",
      " 11  city          1469 non-null   object\n",
      " 12  benefits      1469 non-null   object\n",
      " 13  contract      1469 non-null   object\n",
      " 14  positions     1469 non-null   object\n",
      " 15  job_post_id   1469 non-null   int64 \n",
      " 16  exper         1469 non-null   object\n",
      " 17  gender        1469 non-null   object\n",
      "dtypes: int64(1), object(17)\n",
      "memory usage: 218.1+ KB\n"
     ]
    }
   ],
   "source": [
    "Jadarat_data.info()"
   ]
  },
  {
   "cell_type": "markdown",
   "id": "bb7c85f4-ef0a-45f9-a3bd-25dff5836598",
   "metadata": {},
   "source": [
    "## Data Clean"
   ]
  },
  {
   "cell_type": "markdown",
   "id": "0fd9e837-e1e9-4b49-a407-c3918a44d845",
   "metadata": {},
   "source": []
  },
  {
   "cell_type": "code",
   "execution_count": 1234,
   "id": "1eaf40f2-c834-4990-bc59-6b59605870e5",
   "metadata": {},
   "outputs": [],
   "source": [
    "import ast\n",
    "# Convert string to list in benefits coulmns\n",
    "Jadarat_data['benefits'] = Jadarat_data['benefits'].apply(lambda x: ast.literal_eval(x) if isinstance(x, str) else x)"
   ]
  },
  {
   "cell_type": "code",
   "execution_count": 1235,
   "id": "53f730fc-48b5-4736-adf3-0b11aefc1ba2",
   "metadata": {},
   "outputs": [
    {
     "name": "stdout",
     "output_type": "stream",
     "text": [
      "benefits\n",
      "<class 'list'>    1469\n",
      "Name: count, dtype: int64\n"
     ]
    }
   ],
   "source": [
    "# Check the data types in the benefits column\n",
    "print(Jadarat_data['benefits'].apply(type).value_counts())"
   ]
  },
  {
   "cell_type": "code",
   "execution_count": 1236,
   "id": "64a30e0f-422a-40c7-a6e5-858cac2e8a9e",
   "metadata": {},
   "outputs": [],
   "source": [
    "# import ast\n",
    "# converted_list = ast.literal_eval(x)\n",
    "# converted_list"
   ]
  },
  {
   "cell_type": "code",
   "execution_count": 1237,
   "id": "7756cdad-d491-448e-85cb-4698ea078678",
   "metadata": {},
   "outputs": [],
   "source": [
    "#step 1: Extract the salary to a new coulm \n",
    "Jadarat_data['salary'] = Jadarat_data['benefits'].apply(lambda x:x[1] if isinstance(x, list) and len(x) > 1 else None)\n",
    "\n"
   ]
  },
  {
   "cell_type": "code",
   "execution_count": 1238,
   "id": "48f4de45-9767-4d9e-8d1e-9c71ac6f2ae9",
   "metadata": {},
   "outputs": [
    {
     "data": {
      "text/plain": [
       "0       5000.0\n",
       "1       5000.0\n",
       "2       4000.0\n",
       "3       5000.0\n",
       "4       5000.0\n",
       "         ...  \n",
       "1464    4000.0\n",
       "1465    5500.0\n",
       "1466    4000.0\n",
       "1467    7000.0\n",
       "1468    4000.0\n",
       "Name: salary, Length: 1469, dtype: object"
      ]
     },
     "execution_count": 1238,
     "metadata": {},
     "output_type": "execute_result"
    }
   ],
   "source": [
    "Jadarat_data['salary']"
   ]
  },
  {
   "cell_type": "code",
   "execution_count": 1239,
   "id": "6b92ad15-e11f-43d9-98a7-17c34c3176b1",
   "metadata": {},
   "outputs": [],
   "source": [
    "Jadarat_data['salary'] = pd.to_numeric(Jadarat_data['salary'], errors='coerce')"
   ]
  },
  {
   "cell_type": "code",
   "execution_count": 1240,
   "id": "bb3a40b5-14d1-49b0-90fb-a244cd771b44",
   "metadata": {},
   "outputs": [],
   "source": [
    "#step 2: Remove 'Salary' and its value from the benefits column\n",
    "Jadarat_data['benefits'] = Jadarat_data['benefits'].apply(lambda x: x[3:] if isinstance(x, list) and len(x) > 2 and x[0] == 'Salary' else \n",
    "              None if isinstance(x, list) and len(x) == 2 and x[0] == 'Salary' else x)\n",
    "\n"
   ]
  },
  {
   "cell_type": "code",
   "execution_count": 1241,
   "id": "6f90bd43-ab93-4b9f-988e-aa3c83f2d58e",
   "metadata": {},
   "outputs": [
    {
     "data": {
      "text/html": [
       "<div>\n",
       "<style scoped>\n",
       "    .dataframe tbody tr th:only-of-type {\n",
       "        vertical-align: middle;\n",
       "    }\n",
       "\n",
       "    .dataframe tbody tr th {\n",
       "        vertical-align: top;\n",
       "    }\n",
       "\n",
       "    .dataframe thead th {\n",
       "        text-align: right;\n",
       "    }\n",
       "</style>\n",
       "<table border=\"1\" class=\"dataframe\">\n",
       "  <thead>\n",
       "    <tr style=\"text-align: right;\">\n",
       "      <th></th>\n",
       "      <th>benefits</th>\n",
       "    </tr>\n",
       "  </thead>\n",
       "  <tbody>\n",
       "    <tr>\n",
       "      <th>1464</th>\n",
       "      <td>None</td>\n",
       "    </tr>\n",
       "    <tr>\n",
       "      <th>1465</th>\n",
       "      <td>None</td>\n",
       "    </tr>\n",
       "    <tr>\n",
       "      <th>1466</th>\n",
       "      <td>None</td>\n",
       "    </tr>\n",
       "    <tr>\n",
       "      <th>1467</th>\n",
       "      <td>None</td>\n",
       "    </tr>\n",
       "    <tr>\n",
       "      <th>1468</th>\n",
       "      <td>[اجازة سنوية 30 يوم ]</td>\n",
       "    </tr>\n",
       "  </tbody>\n",
       "</table>\n",
       "</div>"
      ],
      "text/plain": [
       "                   benefits\n",
       "1464                   None\n",
       "1465                   None\n",
       "1466                   None\n",
       "1467                   None\n",
       "1468  [اجازة سنوية 30 يوم ]"
      ]
     },
     "execution_count": 1241,
     "metadata": {},
     "output_type": "execute_result"
    }
   ],
   "source": [
    "#verfiy the result\n",
    "Jadarat_data[['benefits']].tail()"
   ]
  },
  {
   "cell_type": "code",
   "execution_count": 1242,
   "id": "6313b931-feb6-483c-ae82-0c8ce1a8969f",
   "metadata": {},
   "outputs": [],
   "source": [
    "# Function to clean and standardize benefits\n",
    "def clean_benefits(benefit):\n",
    "    if benefit is None:\n",
    "        return None  # Leave None as is\n",
    "\n",
    "    if isinstance(benefit, list):\n",
    "        # Normalize text: Remove extra spaces, lowercase, unify terms\n",
    "        benefit = [b.strip() for b in benefit]  # Strip spaces\n",
    "        benefit = [b.replace('تامين طبي', 'تأمين طبي') for b in benefit]  # Unify 'تامين طبي'\n",
    "        benefit = [b.replace('بدل نقل', 'بدل مواصلات') for b in benefit]  # Unify 'بدل نقل'\n",
    "        benefit = [b.replace('اجازه', 'إجازة') for b in benefit]  # Normalize Arabic words\n",
    "        benefit = [b.replace('0', '').strip() for b in benefit]  # Remove invalid entries like '0'\n",
    "\n",
    "        # Remove empty strings or irrelevant text\n",
    "        benefit = [b for b in benefit if b and b not in ['-', '']]\n",
    "\n",
    "        # Join list into a single string (if multiple benefits)\n",
    "        return ', '.join(benefit)\n",
    "    elif isinstance(benefit, str):\n",
    "        # Handle single string values (normalize and clean)\n",
    "        benefit = benefit.strip()\n",
    "        benefit = benefit.replace('تامين طبي', 'تأمين طبي')\n",
    "        benefit = benefit.replace('بدل نقل', 'بدل مواصلات')\n",
    "        benefit = benefit.replace('اجازه', 'إجازة')\n",
    "        if benefit in ['-', '', '0']:\n",
    "            return None  # Remove invalid entries\n",
    "        return benefit\n",
    "    else:\n",
    "        return None  # Handle unexpected data types\n",
    "\n",
    "# Apply cleaning function to the 'benefits' column\n",
    "Jadarat_data['benefits_cleaned'] = Jadarat_data['benefits'].apply(clean_benefits)\n"
   ]
  },
  {
   "cell_type": "code",
   "execution_count": 1243,
   "id": "04d86c1c-4da5-4d5d-99a2-af561af63615",
   "metadata": {},
   "outputs": [],
   "source": [
    "# Mapping of common terms to standardized values\n",
    "standardized_terms = {\n",
    "    \"تامين طبي\": \"تأمين طبي\",\n",
    "    \"تأمين طبي.\": \"تأمين طبي\",\n",
    "    \"تأمين طبي \": \"تأمين طبي\",\n",
    "    \"بدل نقل\": \"بدل مواصلات\",\n",
    "    \"بدل المواصلات\": \"بدل مواصلات\",\n",
    "    \"اجازه\": \"إجازة\",\n",
    "    \"اجازة\": \"إجازة\",\n",
    "    \"عمولات \": \"عمولات\",\n",
    "    \"عمولة مبيعات\": \"عمولات\",\n",
    "    \"عموله\": \"عمولات\",\n",
    "    \"حوافز و مكافات شهرية\": \"حوافز\",\n",
    "    \"حوافز بيعية\": \"حوافز\",\n",
    "    \"لايوجد\": \"لا يوجد\",\n",
    "    \"تامينات اجتماعية\": \"تأمينات اجتماعية\",\n",
    "    \"تامين طبي \": \"تأمين طبي\",\n",
    "    \"تامين صحي.\": \"تأمين طبي\",\n",
    "    \"0\": None,\n",
    "    \"-\": None,\n",
    "    \" \": None\n",
    "}\n",
    "\n",
    "# Function to clean and standardize benefits\n",
    "def clean_benefits(benefit):\n",
    "    if benefit is None:\n",
    "        return None  # Leave None as is\n",
    "\n",
    "    if isinstance(benefit, list):\n",
    "        # Normalize each item in the list\n",
    "        cleaned_benefit = []\n",
    "        for b in benefit:\n",
    "            b = b.strip()  # Remove extra spaces\n",
    "            b = standardized_terms.get(b, b)  # Replace with standardized term if in the dictionary\n",
    "            if b:  # Skip empty or None values\n",
    "                cleaned_benefit.append(b)\n",
    "        # Remove duplicates in the list and join into a single string\n",
    "        return ', '.join(sorted(set(cleaned_benefit))) if cleaned_benefit else None\n",
    "    elif isinstance(benefit, str):\n",
    "        # Clean single string value\n",
    "        benefit = benefit.strip()  # Remove extra spaces\n",
    "        benefit = standardized_terms.get(benefit, benefit)  # Replace with standardized term\n",
    "        return benefit if benefit not in [None, \"\", \" \"] else None\n",
    "    else:\n",
    "        return None  # Handle unexpected data types\n",
    "\n",
    "# Apply cleaning function to the 'benefits' column\n",
    "Jadarat_data['benefits_cleaned'] = Jadarat_data['benefits'].apply(clean_benefits)\n"
   ]
  },
  {
   "cell_type": "code",
   "execution_count": 1244,
   "id": "3a5381a2-2139-4567-808d-078d296b45ad",
   "metadata": {},
   "outputs": [],
   "source": [
    "#  Mapping of common terms to standardized values\n",
    "benefit_mapping = {\n",
    "    # General categories\n",
    "    \"تأمين طبي\": \"تأمين طبي\",\n",
    "    \"تامين طبي\": \"تأمين طبي\",\n",
    "    \"تامين طبي \": \"تأمين طبي\",\n",
    "    \"تأمين طبي.\": \"تأمين طبي\",\n",
    "    \"تأمين طبي, تأمينات\": \"تأمين طبي\",\n",
    "    \"تأمين طبي وتأمين اجتماعي\": \"تأمين طبي\",\n",
    "    \"إجازة سنوية\": \"إجازة سنوية\",\n",
    "    \"اجازة سنوية\": \"إجازة سنوية\",\n",
    "    \"اجازه يومين بالاسبوع\": \"إجازة يومين\",\n",
    "    \"اجازة يومي الجمعة والسبت\": \"إجازة يومين\",\n",
    "    \"إجازة يومين بالاسبوع\": \"إجازة يومين\",\n",
    "    \"اجازه سنويه\": \"إجازة سنوية\",\n",
    "    \"بدل نقل\": \"بدل مواصلات\",\n",
    "    \"بدل مواصلات\": \"بدل مواصلات\",\n",
    "    \"بدل مواصلات 500\": \"بدل مواصلات\",\n",
    "    \"بدل مواصلات + عمولة مبيعات + تأمين طبي\": \"بدل مواصلات, تأمين طبي, عمولات\",\n",
    "    \"بدل مواصلات, تأمين طبي\": \"بدل مواصلات, تأمين طبي\",\n",
    "    \"عمولات\": \"عمولات\",\n",
    "    \"عمولات بيع\": \"عمولات\",\n",
    "    \"عمولات مجزية\": \"عمولات\",\n",
    "    \"عمولة مبيعات\": \"عمولات\",\n",
    "    \"عمولات ربع سنوية\": \"عمولات\",\n",
    "    \"حوافز\": \"حوافز\",\n",
    "    \"حوافز بيعية\": \"حوافز\",\n",
    "    \"حوافز و مكافات شهرية\": \"حوافز\",\n",
    "    \"لا يوجد\": \"لا يوجد\",\n",
    "    \"لايوجد\": \"لا يوجد\",\n",
    "    # Rare or compound entries\n",
    "    \"نسبة الخصم ال10% من التأمينات الاجتماعية مستردة للموظف\": \"خصومات\",\n",
    "    \"خصم أبناء 40%\": \"خصومات\",\n",
    "    \"خصم أبناء 40% من رسوم الأبناء\": \"خصومات\",\n",
    "    \"خصومات لدى منسوبين, ومزايا اخرى تحدد وقت المقابلة الشخصية\": \"خصومات, مزايا أخرى\",\n",
    "    \"مزايا أخرى\": \"مزايا أخرى\",\n",
    "    \"ستكون مزايا اخرى في حال اتقان العمل\": \"مزايا أخرى\",\n",
    "    # Irrelevant data\n",
    "    \"salih_1434h@hotmail.com, ارسال السيرة الذاتية على اميل\": None,\n",
    "    \"أرسال السيره على الجوال0563952421\": None,\n",
    "    # Miscellaneous\n",
    "    \"اجازة مدفوعة الاجر 30 يوم بالسنة, بدل نقل 400 ريال, تأمين طبي للموظف وعائلته\": \"إجازة سنوية, بدل مواصلات, تأمين طبي\",\n",
    "    \"اجازه سنويه 21 مدفعة الاجر, تأمين طبي\": \"إجازة سنوية, تأمين طبي\",\n",
    "    \"اجازة سنوية 21 يوم, تأمين طبي\": \"إجازة سنوية, تأمين طبي\",\n",
    "    \"اجازة سنوية 21 وبعد 5 سنوات تصبح 30 يوم\": \"إجازة سنوية\",\n",
    "}\n",
    "\n",
    "# Function to further clean and consolidate the benefits\n",
    "def consolidate_benefits(benefit):\n",
    "    if benefit is None:\n",
    "        return None\n",
    "    if isinstance(benefit, str):\n",
    "        # Clean single string\n",
    "        return benefit_mapping.get(benefit, \"مزايا أخرى\")  # Default to \"مزايا أخرى\" for unexpected values\n",
    "    if isinstance(benefit, list):\n",
    "        # Clean lists by mapping each term\n",
    "        cleaned = [benefit_mapping.get(b.strip(), \"مزايا أخرى\") for b in benefit]\n",
    "        cleaned = [b for b in cleaned if b is not None]  # Remove None values\n",
    "        return ', '.join(sorted(set(cleaned))) if cleaned else None\n",
    "    return None\n",
    "\n",
    "# Apply the function to the cleaned column\n",
    "Jadarat_data['benefits_final'] = Jadarat_data['benefits_cleaned'].apply(consolidate_benefits)"
   ]
  },
  {
   "cell_type": "code",
   "execution_count": 1245,
   "id": "26b56b9e-03e5-457c-b4a9-d803991d17d5",
   "metadata": {},
   "outputs": [
    {
     "data": {
      "text/plain": [
       "benefits_final\n",
       "مزايا أخرى                             281\n",
       "تأمين طبي                               33\n",
       "عمولات                                  21\n",
       "خصومات                                  12\n",
       "بدل مواصلات                              9\n",
       "حوافز                                    9\n",
       "لا يوجد                                  6\n",
       "إجازة سنوية, تأمين طبي                   2\n",
       "بدل مواصلات, تأمين طبي, عمولات           2\n",
       "بدل مواصلات, تأمين طبي                   2\n",
       "إجازة يومين                              1\n",
       "إجازة سنوية, بدل مواصلات, تأمين طبي      1\n",
       "إجازة سنوية                              1\n",
       "Name: count, dtype: int64"
      ]
     },
     "execution_count": 1245,
     "metadata": {},
     "output_type": "execute_result"
    }
   ],
   "source": [
    "# Count occurrences of the final cleaned values\n",
    "benefit_counts = Jadarat_data['benefits_final'].value_counts()\n",
    "benefit_counts"
   ]
  },
  {
   "cell_type": "code",
   "execution_count": 1246,
   "id": "6ff60f18-22a8-401d-9ace-3caf1ac31b94",
   "metadata": {},
   "outputs": [
    {
     "data": {
      "text/html": [
       "\n",
       "        <iframe\n",
       "            width=\"100%\"\n",
       "            height=\"475\"\n",
       "            src=\"http://munirahs-MacBook-Pro-2.local:40000/dtale/iframe/3\"\n",
       "            frameborder=\"0\"\n",
       "            allowfullscreen\n",
       "            \n",
       "        ></iframe>\n",
       "        "
      ],
      "text/plain": [
       "<IPython.lib.display.IFrame at 0x32c6a3fb0>"
      ]
     },
     "metadata": {},
     "output_type": "display_data"
    },
    {
     "data": {
      "text/plain": []
     },
     "execution_count": 1246,
     "metadata": {},
     "output_type": "execute_result"
    }
   ],
   "source": [
    "dtale.show(Jadarat_data)"
   ]
  },
  {
   "cell_type": "code",
   "execution_count": 1247,
   "id": "15bbc236-9f5f-475a-adc0-529736d087b1",
   "metadata": {},
   "outputs": [],
   "source": [
    "benefits = [\n",
    "    \"تأمين طبي\",\n",
    "    \"عمولات\",\n",
    "    \"خصومات\",\n",
    "    \"بدل مواصلات\",\n",
    "    \"حوافز\",\n",
    "    \"إجازة سنوية\",\n",
    "    \"إجازة يومين\",\n",
    "    \"لا يوجد\"\n",
    "]\n",
    "\n",
    "# Create columns for each benefit\n",
    "for benefit in benefits:\n",
    "    Jadarat_data[benefit] = Jadarat_data['benefits_final'].apply(\n",
    "        lambda x: benefit in x if isinstance(x, str) else False\n",
    "    )\n",
    "\n",
    "# Separate column for \"لا يوجد\"\n",
    "#df['لا يوجد'] = df['benefits_final'].apply(lambda x: \"لا يوجد\" in x)\n",
    "\n",
    "\n",
    "\n"
   ]
  },
  {
   "cell_type": "code",
   "execution_count": 1248,
   "id": "8025eb17-56e3-4d0d-a706-debab52f0855",
   "metadata": {},
   "outputs": [],
   "source": [
    "#Drop the unneeded columns benefits,benefits_cleaned,benefits_final\n",
    "Jadarat_data = Jadarat_data.drop(columns=['benefits','benefits_cleaned','benefits_final'], axis = 1)"
   ]
  },
  {
   "cell_type": "code",
   "execution_count": 1249,
   "id": "9e3fb855-1bd8-44e7-be36-3d96bdd87b37",
   "metadata": {},
   "outputs": [
    {
     "data": {
      "text/plain": [
       "(1469, 26)"
      ]
     },
     "execution_count": 1249,
     "metadata": {},
     "output_type": "execute_result"
    }
   ],
   "source": [
    "Jadarat_data.shape"
   ]
  },
  {
   "cell_type": "code",
   "execution_count": 1250,
   "id": "356faab4-a1b2-4756-9a6f-5025b28d14a4",
   "metadata": {},
   "outputs": [],
   "source": [
    "Jadarat_data.drop('لا يوجد' , axis=1, inplace=True)"
   ]
  },
  {
   "cell_type": "code",
   "execution_count": 1251,
   "id": "403bc92c-e364-401b-bfd1-c1e2449bbce7",
   "metadata": {},
   "outputs": [
    {
     "data": {
      "text/html": [
       "\n",
       "        <iframe\n",
       "            width=\"100%\"\n",
       "            height=\"475\"\n",
       "            src=\"http://munirahs-MacBook-Pro-2.local:40000/dtale/iframe/4\"\n",
       "            frameborder=\"0\"\n",
       "            allowfullscreen\n",
       "            \n",
       "        ></iframe>\n",
       "        "
      ],
      "text/plain": [
       "<IPython.lib.display.IFrame at 0x32a04ef90>"
      ]
     },
     "metadata": {},
     "output_type": "display_data"
    },
    {
     "data": {
      "text/plain": []
     },
     "execution_count": 1251,
     "metadata": {},
     "output_type": "execute_result"
    }
   ],
   "source": [
    "dtale.show(Jadarat_data)"
   ]
  },
  {
   "cell_type": "code",
   "execution_count": 1252,
   "id": "11657afb-1089-4ce9-a0a5-24125c30a1fa",
   "metadata": {},
   "outputs": [
    {
     "name": "stdout",
     "output_type": "stream",
     "text": [
      "<class 'pandas.core.frame.DataFrame'>\n",
      "Index: 1469 entries, 0 to 1468\n",
      "Data columns (total 25 columns):\n",
      " #   Column        Non-Null Count  Dtype  \n",
      "---  ------        --------------  -----  \n",
      " 0   job_title     1469 non-null   object \n",
      " 1   job_date      1469 non-null   object \n",
      " 2   job_desc      1469 non-null   object \n",
      " 3   job_tasks     1469 non-null   object \n",
      " 4   comp_name     1469 non-null   object \n",
      " 5   comp_no       1469 non-null   object \n",
      " 6   comp_type     1469 non-null   object \n",
      " 7   comp_size     1469 non-null   object \n",
      " 8   eco_activity  1469 non-null   object \n",
      " 9   qualif        1469 non-null   object \n",
      " 10  region        1469 non-null   object \n",
      " 11  city          1469 non-null   object \n",
      " 12  contract      1469 non-null   object \n",
      " 13  positions     1469 non-null   object \n",
      " 14  job_post_id   1469 non-null   int64  \n",
      " 15  exper         1469 non-null   object \n",
      " 16  gender        1469 non-null   object \n",
      " 17  salary        1469 non-null   float64\n",
      " 18  تأمين طبي     1469 non-null   bool   \n",
      " 19  عمولات        1469 non-null   bool   \n",
      " 20  خصومات        1469 non-null   bool   \n",
      " 21  بدل مواصلات   1469 non-null   bool   \n",
      " 22  حوافز         1469 non-null   bool   \n",
      " 23  إجازة سنوية   1469 non-null   bool   \n",
      " 24  إجازة يومين   1469 non-null   bool   \n",
      "dtypes: bool(7), float64(1), int64(1), object(16)\n",
      "memory usage: 228.1+ KB\n"
     ]
    }
   ],
   "source": [
    "Jadarat_data.info()"
   ]
  },
  {
   "cell_type": "code",
   "execution_count": 1253,
   "id": "4c702150-7642-4622-acab-550bd6ec539d",
   "metadata": {},
   "outputs": [
    {
     "name": "stdout",
     "output_type": "stream",
     "text": [
      "Requirement already satisfied: hijri-converter in /opt/anaconda3/lib/python3.12/site-packages (2.3.1)\n"
     ]
    }
   ],
   "source": [
    "# to extract the years from job_date \n",
    "#step 1: install the necessary library for Hijri to Gregorian conversion\n",
    "!pip install hijri-converter\n"
   ]
  },
  {
   "cell_type": "code",
   "execution_count": 1254,
   "id": "18e69ae1-d63c-4398-8ac8-a04347e0d95b",
   "metadata": {},
   "outputs": [],
   "source": [
    "from hijri_converter import convert\n",
    "\n",
    "# Function to convert Arabic numerals to Western numerals\n",
    "def arabic_to_western_numbers(arabic_str):\n",
    "    if not isinstance(arabic_str, str):\n",
    "        return arabic_str\n",
    "    arabic_digits = \"٠١٢٣٤٥٦٧٨٩\"\n",
    "    western_digits = \"0123456789\"\n",
    "    translation_table = str.maketrans(arabic_digits, western_digits)\n",
    "    return arabic_str.translate(translation_table)\n",
    "\n",
    "# Function to convert Hijri date in DD/MM/YYYY format to Gregorian year\n",
    "def hijri_to_gregorian_year(hijri_date):\n",
    "    if hijri_date is None or pd.isna(hijri_date):\n",
    "        return None\n",
    "    try:\n",
    "        # Check if the date is in the correct format (e.g., DD/MM/YYYY)\n",
    "        if '/' not in hijri_date:\n",
    "            return None  # Skip invalid formats like 'Publish date'\n",
    "        # Convert Arabic numerals to Western numerals\n",
    "        western_date = arabic_to_western_numbers(hijri_date)\n",
    "        # Split the Hijri date into day, month, and year\n",
    "        hijri_day, hijri_month, hijri_year = map(int, western_date.split('/'))\n",
    "        # Convert Hijri to Gregorian\n",
    "        gregorian_date = convert.Hijri(hijri_year, hijri_month, hijri_day).to_gregorian()\n",
    "        # Extract and return the Gregorian year\n",
    "        return gregorian_date.year\n",
    "    except Exception as e:\n",
    "        print(f\"Error converting date {hijri_date}: {e}\")\n",
    "        return None\n",
    "\n",
    "# Apply the conversion function to the job_date column\n",
    "Jadarat_data['job_date'] = Jadarat_data['job_date'].apply(arabic_to_western_numbers)  # Convert Arabic numerals\n",
    "Jadarat_data['job_year'] = Jadarat_data['job_date'].apply(hijri_to_gregorian_year)  # Convert to Gregorian year"
   ]
  },
  {
   "cell_type": "code",
   "execution_count": 1255,
   "id": "cc38e823-cfad-405f-976e-3471c149cdf6",
   "metadata": {},
   "outputs": [
    {
     "data": {
      "text/plain": [
       "job_year\n",
       "2022.0    1052\n",
       "2023.0     370\n",
       "Name: count, dtype: int64"
      ]
     },
     "execution_count": 1255,
     "metadata": {},
     "output_type": "execute_result"
    }
   ],
   "source": [
    "Jadarat_data['job_year'].value_counts()"
   ]
  },
  {
   "cell_type": "code",
   "execution_count": 1256,
   "id": "21272d10-be08-43bf-a330-276e93b06a4e",
   "metadata": {},
   "outputs": [],
   "source": [
    "Jadarat_data['job_year'] = Jadarat_data['job_year'].fillna(0).astype(int)"
   ]
  },
  {
   "cell_type": "code",
   "execution_count": 1257,
   "id": "af32f051-39d2-4fd1-be18-8ef6680847fd",
   "metadata": {},
   "outputs": [],
   "source": [
    "# Function to clean and group eco_activity values\n",
    "import re\n",
    "\n",
    "def standardize_eco_activity(activity):\n",
    "    if not isinstance(activity, str):\n",
    "        return activity\n",
    "\n",
    "    # Step 1: Remove numbers and parentheses\n",
    "    activity = re.sub(r\"\\(.*?\\)\", \"\", activity).strip()\n",
    "\n",
    "    # Step 2: Group similar activities\n",
    "    activity_mappings = {\n",
    "        \"مطاعم\": \"أنشطة المطاعم\",\n",
    "        \"محلات الوجبات السريعة\": \"أنشطة المطاعم\",\n",
    "        \"الخدمات الطبية\": \"الخدمات الطبية\",\n",
    "        \"صيانة المباني\": \"أنشطة الصيانة\",\n",
    "        \"ترميمات المباني\": \"أعمال الترميم\",\n",
    "        \"الإنشاءات العامة للمباني\": \"الإنشاءات العامة\",\n",
    "        \"الاستشارات الهندسية\": \"الاستشارات الهندسية\",\n",
    "        \"التعليم\": \"أنشطة التعليم\",\n",
    "        \"النقل البري\": \"أنشطة النقل\",\n",
    "        \"إصلاح وصيانة\": \"أعمال الصيانة\",\n",
    "        \"أنشطة المحاماة\": \"الخدمات القانونية\",\n",
    "        \"إدارة المشاريع\": \"إدارة المشاريع\"\n",
    "    }\n",
    "\n",
    "    # Match and replace based on the mapping dictionary\n",
    "    for key, value in activity_mappings.items():\n",
    "        if key in activity:\n",
    "            return value\n",
    "\n",
    "    # Step 3: Return cleaned activity if no mapping is found\n",
    "    return activity\n",
    "\n",
    "# Apply the standardization function\n",
    "Jadarat_data[\"standardized_eco_activity\"] = Jadarat_data[\"eco_activity\"].apply(standardize_eco_activity)\n"
   ]
  },
  {
   "cell_type": "code",
   "execution_count": 1258,
   "id": "5e359040-5ed7-4f0e-b8fa-0133be3d9a16",
   "metadata": {},
   "outputs": [],
   "source": [
    "def standardize_eco_activity(activity):\n",
    "    \"\"\"\n",
    "    Cleans and standardizes the eco_activity string by removing redundant text,\n",
    "    grouping similar activities, and ensuring consistent formatting.\n",
    "    \n",
    "    Args:\n",
    "        activity (str): The eco_activity string to be standardized.\n",
    "        \n",
    "    Returns:\n",
    "        str: The standardized eco_activity string.\n",
    "    \"\"\"\n",
    "    if not isinstance(activity, str):\n",
    "        return activity  # Return as-is if the value is not a string\n",
    "    \n",
    "    # Step 1: Remove text inside parentheses and extra spaces\n",
    "    activity = re.sub(r\"\\(.*?\\)\", \"\", activity).strip()\n",
    "    \n",
    "    # Step 2: Remove redundant phrases like \"يشمل\"\n",
    "    activity = re.sub(r\"يشمل.*$\", \"\", activity).strip()\n",
    "    \n",
    "    # Step 3: Map similar activities to standardized categories\n",
    "    activity_mappings = {\n",
    "        # Example mappings\n",
    "        \"أنشطة المطاعم\": \"أنشطة المطاعم\",\n",
    "        \"محلات تقديم المشروبات\": \"أنشطة المطاعم\",\n",
    "        \"الخدمات الطبية\": \"الخدمات الطبية\",\n",
    "        \"المجمعات الطبية\": \"الخدمات الطبية\",\n",
    "        \"أنشطة الصيانة\": \"أعمال الصيانة\",\n",
    "        \"أعمال الصيانة\": \"أعمال الصيانة\",\n",
    "        \"إدارة المشاريع\": \"إدارة المشاريع\",\n",
    "        \"الاستشارات الهندسية\": \"الاستشارات الهندسية\",\n",
    "        \"أنشطة التعليم\": \"أنشطة التعليم\",\n",
    "        \"بيع الأغذية والمشروبات\": \"أنشطة البيع بالتجزئة\",\n",
    "        \"التنظيف العام للمباني\": \"أنشطة التنظيف\",\n",
    "        \"أنشطة نقل السلع\": \"أنشطة النقل\",\n",
    "        \"أنشطة وكالات السياحة والسفر\": \"أنشطة السياحة\",\n",
    "        \"إصلاح وصيانة السيارات\": \"أعمال الصيانة\",\n",
    "        \"إدارة وتاجير العقارات\": \"إدارة العقارات\",\n",
    "        \"شراء وبيع الاراضى والعقارات\": \"إدارة العقارات\",\n",
    "        \"الإنشاءات العامة\": \"أعمال الإنشاءات\",\n",
    "        \"أعمال الترميم\": \"أعمال الإنشاءات\",\n",
    "        # Add more mappings as required\n",
    "    }\n",
    "    \n",
    "    # Step 4: Group similar activities using the mapping\n",
    "    for key, value in activity_mappings.items():\n",
    "        if key in activity:\n",
    "            return value\n",
    "    \n",
    "    # Return the cleaned activity if no mapping is found\n",
    "    return activity"
   ]
  },
  {
   "cell_type": "code",
   "execution_count": 1259,
   "id": "32d54646-0755-4733-bbb5-6e7721267f81",
   "metadata": {},
   "outputs": [],
   "source": [
    "# Apply the standardization function\n",
    "Jadarat_data[\"standardized_eco_activity\"] = Jadarat_data[\"eco_activity\"].apply(standardize_eco_activity)\n",
    "\n"
   ]
  },
  {
   "cell_type": "code",
   "execution_count": 1260,
   "id": "d8e44dcd-c1e3-4381-932b-df985e1f9d36",
   "metadata": {},
   "outputs": [
    {
     "data": {
      "text/html": [
       "\n",
       "        <iframe\n",
       "            width=\"100%\"\n",
       "            height=\"475\"\n",
       "            src=\"http://munirahs-MacBook-Pro-2.local:40000/dtale/iframe/5\"\n",
       "            frameborder=\"0\"\n",
       "            allowfullscreen\n",
       "            \n",
       "        ></iframe>\n",
       "        "
      ],
      "text/plain": [
       "<IPython.lib.display.IFrame at 0x32c6b9490>"
      ]
     },
     "metadata": {},
     "output_type": "display_data"
    },
    {
     "data": {
      "text/plain": []
     },
     "execution_count": 1260,
     "metadata": {},
     "output_type": "execute_result"
    }
   ],
   "source": [
    "dtale.show(Jadarat_data)"
   ]
  },
  {
   "cell_type": "code",
   "execution_count": 1261,
   "id": "e14202e9-4760-4a2e-8337-c01a5c20454a",
   "metadata": {},
   "outputs": [],
   "source": [
    "# Function to classify experience levels\n",
    "def classify_experience(exper):\n",
    "    try:\n",
    "        # Extract the numeric value from the \"exper\" string\n",
    "        years = int(exper.split()[0])\n",
    "        \n",
    "        # Classify based on the years of experience\n",
    "        if years == 0:\n",
    "            return 'خريج'  # Graduate\n",
    "        elif 0 < years <= 2:\n",
    "            return 'مبتدئ'  # Beginner\n",
    "        elif 3 <= years <= 5:\n",
    "            return 'متوسط'  # Intermediate\n",
    "        elif years >= 6:\n",
    "            return 'خبير'  # Expert\n",
    "    except (ValueError, AttributeError, IndexError):\n",
    "        # Handle cases where the string doesn't contain a numeric value\n",
    "        return 'غير معروف'  # Unknown\n",
    "\n",
    "# Apply the function to create a new column\n",
    "Jadarat_data['level_experience'] = Jadarat_data['exper'].apply(classify_experience)"
   ]
  },
  {
   "cell_type": "code",
   "execution_count": 1262,
   "id": "50918fbf-ac60-4df4-ad57-7243054456aa",
   "metadata": {},
   "outputs": [
    {
     "name": "stdout",
     "output_type": "stream",
     "text": [
      "<class 'pandas.core.frame.DataFrame'>\n",
      "Index: 1469 entries, 0 to 1468\n",
      "Data columns (total 28 columns):\n",
      " #   Column                     Non-Null Count  Dtype  \n",
      "---  ------                     --------------  -----  \n",
      " 0   job_title                  1469 non-null   object \n",
      " 1   job_date                   1469 non-null   object \n",
      " 2   job_desc                   1469 non-null   object \n",
      " 3   job_tasks                  1469 non-null   object \n",
      " 4   comp_name                  1469 non-null   object \n",
      " 5   comp_no                    1469 non-null   object \n",
      " 6   comp_type                  1469 non-null   object \n",
      " 7   comp_size                  1469 non-null   object \n",
      " 8   eco_activity               1469 non-null   object \n",
      " 9   qualif                     1469 non-null   object \n",
      " 10  region                     1469 non-null   object \n",
      " 11  city                       1469 non-null   object \n",
      " 12  contract                   1469 non-null   object \n",
      " 13  positions                  1469 non-null   object \n",
      " 14  job_post_id                1469 non-null   int64  \n",
      " 15  exper                      1469 non-null   object \n",
      " 16  gender                     1469 non-null   object \n",
      " 17  salary                     1469 non-null   float64\n",
      " 18  تأمين طبي                  1469 non-null   bool   \n",
      " 19  عمولات                     1469 non-null   bool   \n",
      " 20  خصومات                     1469 non-null   bool   \n",
      " 21  بدل مواصلات                1469 non-null   bool   \n",
      " 22  حوافز                      1469 non-null   bool   \n",
      " 23  إجازة سنوية                1469 non-null   bool   \n",
      " 24  إجازة يومين                1469 non-null   bool   \n",
      " 25  job_year                   1469 non-null   int64  \n",
      " 26  standardized_eco_activity  1469 non-null   object \n",
      " 27  level_experience           1469 non-null   object \n",
      "dtypes: bool(7), float64(1), int64(2), object(18)\n",
      "memory usage: 262.5+ KB\n"
     ]
    }
   ],
   "source": [
    "Jadarat_data.info()"
   ]
  },
  {
   "cell_type": "code",
   "execution_count": 1263,
   "id": "40fde7c6-ca87-4a3c-9c59-4c4059e7a7cb",
   "metadata": {},
   "outputs": [
    {
     "data": {
      "text/html": [
       "\n",
       "        <iframe\n",
       "            width=\"100%\"\n",
       "            height=\"475\"\n",
       "            src=\"http://munirahs-MacBook-Pro-2.local:40000/dtale/iframe/6\"\n",
       "            frameborder=\"0\"\n",
       "            allowfullscreen\n",
       "            \n",
       "        ></iframe>\n",
       "        "
      ],
      "text/plain": [
       "<IPython.lib.display.IFrame at 0x30fa86d20>"
      ]
     },
     "metadata": {},
     "output_type": "display_data"
    },
    {
     "data": {
      "text/plain": []
     },
     "execution_count": 1263,
     "metadata": {},
     "output_type": "execute_result"
    }
   ],
   "source": [
    "dtale.show(Jadarat_data)"
   ]
  },
  {
   "cell_type": "code",
   "execution_count": null,
   "id": "b6b8e577-d04a-47d0-ace1-a7add842ebc1",
   "metadata": {},
   "outputs": [],
   "source": []
  },
  {
   "cell_type": "markdown",
   "id": "c14b197b-9064-4cee-a90b-33f5bec1360f",
   "metadata": {},
   "source": [
    "#### outliers"
   ]
  },
  {
   "cell_type": "code",
   "execution_count": 1265,
   "id": "68be5334-ae10-4abd-8097-3259fe5e72c8",
   "metadata": {},
   "outputs": [
    {
     "data": {
      "image/png": "[encoded data removed]",
      "text/plain": [
       "<Figure size 1000x600 with 1 Axes>"
      ]
     },
     "metadata": {},
     "output_type": "display_data"
    }
   ],
   "source": [
    "# Plot a histogram of the salary column\n",
    "plt.figure(figsize=(10, 6))\n",
    "sns.histplot(Jadarat_data['salary'], kde=True, bins=20, color='blue')\n",
    "\n",
    "# Add titles and labels\n",
    "plt.title('Histogram of Salaries', fontsize=16)\n",
    "plt.xlabel('Salary', fontsize=12)\n",
    "plt.ylabel('Frequency', fontsize=12)\n",
    "\n",
    "# Show the plot\n",
    "plt.show()"
   ]
  },
  {
   "cell_type": "code",
   "execution_count": 1266,
   "id": "6a0114ec-fc54-4d87-9012-fad91d697f0f",
   "metadata": {},
   "outputs": [
    {
     "data": {
      "text/plain": [
       "35000.0"
      ]
     },
     "execution_count": 1266,
     "metadata": {},
     "output_type": "execute_result"
    }
   ],
   "source": [
    "Jadarat_data['salary'].max()"
   ]
  },
  {
   "cell_type": "code",
   "execution_count": 1267,
   "id": "2ee790ba-dcc0-45f1-b6f8-0133e913e149",
   "metadata": {},
   "outputs": [
    {
     "data": {
      "text/plain": [
       "3000.0"
      ]
     },
     "execution_count": 1267,
     "metadata": {},
     "output_type": "execute_result"
    }
   ],
   "source": [
    "Jadarat_data['salary'].min()"
   ]
  },
  {
   "cell_type": "code",
   "execution_count": 1268,
   "id": "c69b303a-5459-45f9-a28e-fcee45c21c05",
   "metadata": {},
   "outputs": [
    {
     "data": {
      "text/plain": [
       "4500.0"
      ]
     },
     "execution_count": 1268,
     "metadata": {},
     "output_type": "execute_result"
    }
   ],
   "source": [
    "Jadarat_data['salary'].median()"
   ]
  },
  {
   "cell_type": "code",
   "execution_count": 1269,
   "id": "10565572-ddd7-4200-8911-678e9179358a",
   "metadata": {},
   "outputs": [
    {
     "data": {
      "text/plain": [
       "5293.489448604493"
      ]
     },
     "execution_count": 1269,
     "metadata": {},
     "output_type": "execute_result"
    }
   ],
   "source": [
    "Jadarat_data['salary'].mean()"
   ]
  },
  {
   "cell_type": "code",
   "execution_count": 1270,
   "id": "0cb314fd-b314-495e-9485-be043d2cebf0",
   "metadata": {},
   "outputs": [
    {
     "data": {
      "text/html": [
       "<div>\n",
       "<style scoped>\n",
       "    .dataframe tbody tr th:only-of-type {\n",
       "        vertical-align: middle;\n",
       "    }\n",
       "\n",
       "    .dataframe tbody tr th {\n",
       "        vertical-align: top;\n",
       "    }\n",
       "\n",
       "    .dataframe thead th {\n",
       "        text-align: right;\n",
       "    }\n",
       "</style>\n",
       "<table border=\"1\" class=\"dataframe\">\n",
       "  <thead>\n",
       "    <tr style=\"text-align: right;\">\n",
       "      <th></th>\n",
       "      <th>job_title</th>\n",
       "      <th>job_date</th>\n",
       "      <th>job_desc</th>\n",
       "      <th>job_tasks</th>\n",
       "      <th>comp_name</th>\n",
       "      <th>comp_no</th>\n",
       "      <th>comp_type</th>\n",
       "      <th>comp_size</th>\n",
       "      <th>eco_activity</th>\n",
       "      <th>qualif</th>\n",
       "      <th>region</th>\n",
       "      <th>city</th>\n",
       "      <th>contract</th>\n",
       "      <th>positions</th>\n",
       "      <th>job_post_id</th>\n",
       "      <th>exper</th>\n",
       "      <th>gender</th>\n",
       "      <th>salary</th>\n",
       "      <th>تأمين طبي</th>\n",
       "      <th>عمولات</th>\n",
       "      <th>خصومات</th>\n",
       "      <th>بدل مواصلات</th>\n",
       "      <th>حوافز</th>\n",
       "      <th>إجازة سنوية</th>\n",
       "      <th>إجازة يومين</th>\n",
       "      <th>job_year</th>\n",
       "      <th>standardized_eco_activity</th>\n",
       "      <th>level_experience</th>\n",
       "    </tr>\n",
       "  </thead>\n",
       "  <tbody>\n",
       "    <tr>\n",
       "      <th>170</th>\n",
       "      <td>مهندس نظم تقنية معلومات</td>\n",
       "      <td>22/04/1444</td>\n",
       "      <td>['متابعة وتقييم عملية جمع المعطيات ومتطلبات نظ...</td>\n",
       "      <td>['   إجراء الابحاث والدراسات اللازمة لتطوير بي...</td>\n",
       "      <td>شركه العرض المتقن للخدمات التجارية شركة مساهمة...</td>\n",
       "      <td>1-169123</td>\n",
       "      <td>خاص</td>\n",
       "      <td>عملاقة</td>\n",
       "      <td>التسجيل لتقديم خدمات الحوسبة السحابية</td>\n",
       "      <td>No Qualification</td>\n",
       "      <td>الرياض</td>\n",
       "      <td>ABA ASLAB...</td>\n",
       "      <td>دوام كامل</td>\n",
       "      <td>0 / 1</td>\n",
       "      <td>20202026273632</td>\n",
       "      <td>7 Years</td>\n",
       "      <td>both</td>\n",
       "      <td>15000.0</td>\n",
       "      <td>False</td>\n",
       "      <td>False</td>\n",
       "      <td>False</td>\n",
       "      <td>False</td>\n",
       "      <td>False</td>\n",
       "      <td>False</td>\n",
       "      <td>False</td>\n",
       "      <td>2022</td>\n",
       "      <td>التسجيل لتقديم خدمات الحوسبة السحابية</td>\n",
       "      <td>خبير</td>\n",
       "    </tr>\n",
       "    <tr>\n",
       "      <th>174</th>\n",
       "      <td>فني شبكات تقنية معلومات</td>\n",
       "      <td>22/04/1444</td>\n",
       "      <td>['تقديم الدعم والمساعدة الفنية للموظفين والعمل...</td>\n",
       "      <td>['   تقديم الدعم والمساعدة الفنية للموظفين وال...</td>\n",
       "      <td>شركه العرض المتقن للخدمات التجارية شركة مساهمة...</td>\n",
       "      <td>1-169123</td>\n",
       "      <td>خاص</td>\n",
       "      <td>عملاقة</td>\n",
       "      <td>التسجيل لتقديم خدمات الحوسبة السحابية</td>\n",
       "      <td>['Language data', 'الانجليزية', 'محترف']</td>\n",
       "      <td>الرياض</td>\n",
       "      <td>ABA ASLAB...</td>\n",
       "      <td>دوام كامل</td>\n",
       "      <td>0 / 1</td>\n",
       "      <td>20202026273598</td>\n",
       "      <td>7 Years</td>\n",
       "      <td>both</td>\n",
       "      <td>15000.0</td>\n",
       "      <td>False</td>\n",
       "      <td>False</td>\n",
       "      <td>False</td>\n",
       "      <td>False</td>\n",
       "      <td>False</td>\n",
       "      <td>False</td>\n",
       "      <td>False</td>\n",
       "      <td>2022</td>\n",
       "      <td>التسجيل لتقديم خدمات الحوسبة السحابية</td>\n",
       "      <td>خبير</td>\n",
       "    </tr>\n",
       "    <tr>\n",
       "      <th>229</th>\n",
       "      <td>مدير مكتب</td>\n",
       "      <td>20/04/1444</td>\n",
       "      <td>['الإشراف المباشرعلى أنشطة إدارة وتخطيط وتنظيم...</td>\n",
       "      <td>['   إدارة وتوجيه عمليات وإجراءات تنسيق اجتماع...</td>\n",
       "      <td>مكتب محمد طه عبدالقادر السقاف للاستشارات الهندسية</td>\n",
       "      <td>13-2004606</td>\n",
       "      <td>خاص</td>\n",
       "      <td>صغيرة فئة ب</td>\n",
       "      <td>الاستشارات الهندسية للتخطيط الحضري</td>\n",
       "      <td>['Language data', 'العربية', 'محترف', 'الانجلي...</td>\n",
       "      <td>مكة المكرمة</td>\n",
       "      <td>MAKKAH AL...</td>\n",
       "      <td>دوام كامل</td>\n",
       "      <td>0 / 1</td>\n",
       "      <td>20202026270424</td>\n",
       "      <td>12 Years</td>\n",
       "      <td>both</td>\n",
       "      <td>15000.0</td>\n",
       "      <td>False</td>\n",
       "      <td>False</td>\n",
       "      <td>False</td>\n",
       "      <td>False</td>\n",
       "      <td>False</td>\n",
       "      <td>False</td>\n",
       "      <td>False</td>\n",
       "      <td>2022</td>\n",
       "      <td>الاستشارات الهندسية</td>\n",
       "      <td>خبير</td>\n",
       "    </tr>\n",
       "    <tr>\n",
       "      <th>559</th>\n",
       "      <td>مدير تسويق</td>\n",
       "      <td>05/05/1444</td>\n",
       "      <td>['المشاركة في وضع الأهداف والسياسات والخطط الت...</td>\n",
       "      <td>['   المشاركة في وضع الأهداف والسياسات والمباد...</td>\n",
       "      <td>شركة روافد الحقول للوجبات السريعة شركة شخص واحد</td>\n",
       "      <td>9-2075281</td>\n",
       "      <td>خاص</td>\n",
       "      <td>صغيرة فئة ب</td>\n",
       "      <td>المطاعم مع الخدمة</td>\n",
       "      <td>No Qualification</td>\n",
       "      <td>مكة المكرمة</td>\n",
       "      <td>JEDDAH...</td>\n",
       "      <td>دوام كامل</td>\n",
       "      <td>0 / 1</td>\n",
       "      <td>20202026313724</td>\n",
       "      <td>4 Years</td>\n",
       "      <td>both</td>\n",
       "      <td>15000.0</td>\n",
       "      <td>False</td>\n",
       "      <td>False</td>\n",
       "      <td>False</td>\n",
       "      <td>False</td>\n",
       "      <td>False</td>\n",
       "      <td>False</td>\n",
       "      <td>False</td>\n",
       "      <td>2022</td>\n",
       "      <td>المطاعم مع الخدمة</td>\n",
       "      <td>متوسط</td>\n",
       "    </tr>\n",
       "    <tr>\n",
       "      <th>749</th>\n",
       "      <td>رئيس تنفيذي</td>\n",
       "      <td>19/05/1444</td>\n",
       "      <td>['المشاركة في وضع الأهداف والخطط الإستراتيجية ...</td>\n",
       "      <td>['   المشاركة في وضع الإستراتيجية العامة وتحقي...</td>\n",
       "      <td>مؤسسة لحظات القهوة لتقديم المشروبات</td>\n",
       "      <td>13-1978270</td>\n",
       "      <td>خاص</td>\n",
       "      <td>صغيرة فئة ب</td>\n",
       "      <td>محلات تقديم المشروبات ( الكوفي شوب )</td>\n",
       "      <td>['Skill data', 'تطوير نشاط المؤسسة', 'محترف', ...</td>\n",
       "      <td>مكة المكرمة</td>\n",
       "      <td>MAKKAH AL...</td>\n",
       "      <td>دوام كامل</td>\n",
       "      <td>0 / 1</td>\n",
       "      <td>20202026338994</td>\n",
       "      <td>10 Years</td>\n",
       "      <td>both</td>\n",
       "      <td>15000.0</td>\n",
       "      <td>False</td>\n",
       "      <td>False</td>\n",
       "      <td>False</td>\n",
       "      <td>False</td>\n",
       "      <td>False</td>\n",
       "      <td>False</td>\n",
       "      <td>False</td>\n",
       "      <td>2022</td>\n",
       "      <td>أنشطة المطاعم</td>\n",
       "      <td>خبير</td>\n",
       "    </tr>\n",
       "    <tr>\n",
       "      <th>841</th>\n",
       "      <td>مهندس مدني</td>\n",
       "      <td>26/05/1444</td>\n",
       "      <td>[' فهم مبادئ إدارة المشاريع والبرامج ،مهارات ت...</td>\n",
       "      <td>[' فهم مبادئ إدارة المشاريع والبرامج ،مهارات ت...</td>\n",
       "      <td>مكتب مدارات للاستشارات الهندسية</td>\n",
       "      <td>3-1971776</td>\n",
       "      <td>خاص</td>\n",
       "      <td>متوسطة فئة ب</td>\n",
       "      <td>إدارة المشاريع الانشائية</td>\n",
       "      <td>No Qualification</td>\n",
       "      <td>حائل</td>\n",
       "      <td>HAIL...</td>\n",
       "      <td>دوام كامل</td>\n",
       "      <td>0 / 1</td>\n",
       "      <td>20202026349401</td>\n",
       "      <td>10 Years</td>\n",
       "      <td>M</td>\n",
       "      <td>15000.0</td>\n",
       "      <td>False</td>\n",
       "      <td>False</td>\n",
       "      <td>False</td>\n",
       "      <td>False</td>\n",
       "      <td>False</td>\n",
       "      <td>False</td>\n",
       "      <td>False</td>\n",
       "      <td>2022</td>\n",
       "      <td>إدارة المشاريع</td>\n",
       "      <td>خبير</td>\n",
       "    </tr>\n",
       "    <tr>\n",
       "      <th>1239</th>\n",
       "      <td>مهندس معماري</td>\n",
       "      <td>15/06/1444</td>\n",
       "      <td>['تصميم المباني الجديدة أو الملحقات أو التعديل...</td>\n",
       "      <td>['   وضع التصاميم لمشاريع الإنشاءات وإدارة فري...</td>\n",
       "      <td>شركة المساحون العرب نصر أحمد اسحاق الحسيني للا...</td>\n",
       "      <td>1-155268</td>\n",
       "      <td>خاص</td>\n",
       "      <td>صغيرة فئة ب</td>\n",
       "      <td>إستشارات الهندسة الالكترونية</td>\n",
       "      <td>['Skill data', 'التصميم', 'متوسط', 'Language d...</td>\n",
       "      <td>الرياض</td>\n",
       "      <td>AR RIYADH...</td>\n",
       "      <td>دوام كامل</td>\n",
       "      <td>0 / 1</td>\n",
       "      <td>20202026395337</td>\n",
       "      <td>7 Years</td>\n",
       "      <td>both</td>\n",
       "      <td>15000.0</td>\n",
       "      <td>False</td>\n",
       "      <td>False</td>\n",
       "      <td>False</td>\n",
       "      <td>False</td>\n",
       "      <td>False</td>\n",
       "      <td>False</td>\n",
       "      <td>False</td>\n",
       "      <td>2023</td>\n",
       "      <td>إستشارات الهندسة الالكترونية</td>\n",
       "      <td>خبير</td>\n",
       "    </tr>\n",
       "  </tbody>\n",
       "</table>\n",
       "</div>"
      ],
      "text/plain": [
       "                    job_title    job_date  \\\n",
       "170   مهندس نظم تقنية معلومات  22/04/1444   \n",
       "174   فني شبكات تقنية معلومات  22/04/1444   \n",
       "229                 مدير مكتب  20/04/1444   \n",
       "559                مدير تسويق  05/05/1444   \n",
       "749               رئيس تنفيذي  19/05/1444   \n",
       "841                مهندس مدني  26/05/1444   \n",
       "1239             مهندس معماري  15/06/1444   \n",
       "\n",
       "                                               job_desc  \\\n",
       "170   ['متابعة وتقييم عملية جمع المعطيات ومتطلبات نظ...   \n",
       "174   ['تقديم الدعم والمساعدة الفنية للموظفين والعمل...   \n",
       "229   ['الإشراف المباشرعلى أنشطة إدارة وتخطيط وتنظيم...   \n",
       "559   ['المشاركة في وضع الأهداف والسياسات والخطط الت...   \n",
       "749   ['المشاركة في وضع الأهداف والخطط الإستراتيجية ...   \n",
       "841   [' فهم مبادئ إدارة المشاريع والبرامج ،مهارات ت...   \n",
       "1239  ['تصميم المباني الجديدة أو الملحقات أو التعديل...   \n",
       "\n",
       "                                              job_tasks  \\\n",
       "170   ['   إجراء الابحاث والدراسات اللازمة لتطوير بي...   \n",
       "174   ['   تقديم الدعم والمساعدة الفنية للموظفين وال...   \n",
       "229   ['   إدارة وتوجيه عمليات وإجراءات تنسيق اجتماع...   \n",
       "559   ['   المشاركة في وضع الأهداف والسياسات والمباد...   \n",
       "749   ['   المشاركة في وضع الإستراتيجية العامة وتحقي...   \n",
       "841   [' فهم مبادئ إدارة المشاريع والبرامج ،مهارات ت...   \n",
       "1239  ['   وضع التصاميم لمشاريع الإنشاءات وإدارة فري...   \n",
       "\n",
       "                                              comp_name     comp_no comp_type  \\\n",
       "170   شركه العرض المتقن للخدمات التجارية شركة مساهمة...    1-169123       خاص   \n",
       "174   شركه العرض المتقن للخدمات التجارية شركة مساهمة...    1-169123       خاص   \n",
       "229   مكتب محمد طه عبدالقادر السقاف للاستشارات الهندسية  13-2004606       خاص   \n",
       "559     شركة روافد الحقول للوجبات السريعة شركة شخص واحد   9-2075281       خاص   \n",
       "749                 مؤسسة لحظات القهوة لتقديم المشروبات  13-1978270       خاص   \n",
       "841                     مكتب مدارات للاستشارات الهندسية   3-1971776       خاص   \n",
       "1239  شركة المساحون العرب نصر أحمد اسحاق الحسيني للا...    1-155268       خاص   \n",
       "\n",
       "         comp_size                           eco_activity  \\\n",
       "170         عملاقة  التسجيل لتقديم خدمات الحوسبة السحابية   \n",
       "174         عملاقة  التسجيل لتقديم خدمات الحوسبة السحابية   \n",
       "229    صغيرة فئة ب     الاستشارات الهندسية للتخطيط الحضري   \n",
       "559    صغيرة فئة ب                      المطاعم مع الخدمة   \n",
       "749    صغيرة فئة ب   محلات تقديم المشروبات ( الكوفي شوب )   \n",
       "841   متوسطة فئة ب               إدارة المشاريع الانشائية   \n",
       "1239   صغيرة فئة ب           إستشارات الهندسة الالكترونية   \n",
       "\n",
       "                                                 qualif       region  \\\n",
       "170                                    No Qualification       الرياض   \n",
       "174            ['Language data', 'الانجليزية', 'محترف']       الرياض   \n",
       "229   ['Language data', 'العربية', 'محترف', 'الانجلي...  مكة المكرمة   \n",
       "559                                    No Qualification  مكة المكرمة   \n",
       "749   ['Skill data', 'تطوير نشاط المؤسسة', 'محترف', ...  مكة المكرمة   \n",
       "841                                    No Qualification         حائل   \n",
       "1239  ['Skill data', 'التصميم', 'متوسط', 'Language d...       الرياض   \n",
       "\n",
       "              city   contract positions     job_post_id     exper gender  \\\n",
       "170   ABA ASLAB...  دوام كامل     0 / 1  20202026273632   7 Years   both   \n",
       "174   ABA ASLAB...  دوام كامل     0 / 1  20202026273598   7 Years   both   \n",
       "229   MAKKAH AL...  دوام كامل     0 / 1  20202026270424  12 Years   both   \n",
       "559      JEDDAH...  دوام كامل     0 / 1  20202026313724   4 Years   both   \n",
       "749   MAKKAH AL...  دوام كامل     0 / 1  20202026338994  10 Years   both   \n",
       "841        HAIL...  دوام كامل     0 / 1  20202026349401  10 Years      M   \n",
       "1239  AR RIYADH...  دوام كامل     0 / 1  20202026395337   7 Years   both   \n",
       "\n",
       "       salary  تأمين طبي  عمولات  خصومات  بدل مواصلات  حوافز  إجازة سنوية  \\\n",
       "170   15000.0      False   False   False        False  False        False   \n",
       "174   15000.0      False   False   False        False  False        False   \n",
       "229   15000.0      False   False   False        False  False        False   \n",
       "559   15000.0      False   False   False        False  False        False   \n",
       "749   15000.0      False   False   False        False  False        False   \n",
       "841   15000.0      False   False   False        False  False        False   \n",
       "1239  15000.0      False   False   False        False  False        False   \n",
       "\n",
       "      إجازة يومين  job_year              standardized_eco_activity  \\\n",
       "170         False      2022  التسجيل لتقديم خدمات الحوسبة السحابية   \n",
       "174         False      2022  التسجيل لتقديم خدمات الحوسبة السحابية   \n",
       "229         False      2022                    الاستشارات الهندسية   \n",
       "559         False      2022                      المطاعم مع الخدمة   \n",
       "749         False      2022                          أنشطة المطاعم   \n",
       "841         False      2022                         إدارة المشاريع   \n",
       "1239        False      2023           إستشارات الهندسة الالكترونية   \n",
       "\n",
       "     level_experience  \n",
       "170              خبير  \n",
       "174              خبير  \n",
       "229              خبير  \n",
       "559             متوسط  \n",
       "749              خبير  \n",
       "841              خبير  \n",
       "1239             خبير  "
      ]
     },
     "execution_count": 1270,
     "metadata": {},
     "output_type": "execute_result"
    }
   ],
   "source": [
    "Jadarat_data[Jadarat_data['salary'] == 15000]"
   ]
  },
  {
   "cell_type": "code",
   "execution_count": 1271,
   "id": "769b7eb8-5dfa-4890-9007-36eef928cb1e",
   "metadata": {},
   "outputs": [
    {
     "data": {
      "image/png": "[encoded data removed]",
      "text/plain": [
       "<Figure size 1000x600 with 1 Axes>"
      ]
     },
     "metadata": {},
     "output_type": "display_data"
    }
   ],
   "source": [
    "# Filter the DataFrame for 'مبتدئ' and 'متوسط' in the level_experience column\n",
    "filtered_data = Jadarat_data[Jadarat_data['level_experience'].isin(['مبتدئ', 'متوسط'])]\n",
    "\n",
    "# Plot a histogram of the salary column for the filtered data\n",
    "plt.figure(figsize=(10, 6))\n",
    "sns.histplot(filtered_data['salary'], kde=True, bins=20, color='blue')\n",
    "\n",
    "# Add titles and labels\n",
    "plt.title('Histogram of Salaries (Entry level and Intermediat)', fontsize=16)\n",
    "plt.xlabel('Salary', fontsize=12)\n",
    "plt.ylabel('Frequency', fontsize=12)\n",
    "\n",
    "# Show the plot\n",
    "plt.show()"
   ]
  },
  {
   "cell_type": "code",
   "execution_count": 1272,
   "id": "1f2adacf-0037-488b-9dc5-0cd4130da24a",
   "metadata": {},
   "outputs": [
    {
     "data": {
      "image/png": "[encoded data removed]",
      "text/plain": [
       "<Figure size 1000x600 with 1 Axes>"
      ]
     },
     "metadata": {},
     "output_type": "display_data"
    }
   ],
   "source": [
    "# Filter the DataFrame for 'مبتدئ' in the level_experience column\n",
    "filtered_data = Jadarat_data[Jadarat_data['level_experience'].isin(['مبتدئ'])]\n",
    "\n",
    "# Plot a histogram of the salary column for the filtered data\n",
    "plt.figure(figsize=(10, 6))\n",
    "sns.histplot(filtered_data['salary'], kde=True, bins=20, color='blue')\n",
    "\n",
    "# Add titles and labels\n",
    "plt.title('Histogram of Salaries (Entry level)', fontsize=16)\n",
    "plt.xlabel('Salary', fontsize=12)\n",
    "plt.ylabel('Frequency', fontsize=12)\n",
    "\n",
    "# Show the plot\n",
    "plt.show()"
   ]
  },
  {
   "cell_type": "code",
   "execution_count": 1273,
   "id": "5e2a1528-8891-4792-b145-73f8dbf59c97",
   "metadata": {},
   "outputs": [
    {
     "data": {
      "text/html": [
       "<div>\n",
       "<style scoped>\n",
       "    .dataframe tbody tr th:only-of-type {\n",
       "        vertical-align: middle;\n",
       "    }\n",
       "\n",
       "    .dataframe tbody tr th {\n",
       "        vertical-align: top;\n",
       "    }\n",
       "\n",
       "    .dataframe thead th {\n",
       "        text-align: right;\n",
       "    }\n",
       "</style>\n",
       "<table border=\"1\" class=\"dataframe\">\n",
       "  <thead>\n",
       "    <tr style=\"text-align: right;\">\n",
       "      <th></th>\n",
       "      <th>job_title</th>\n",
       "      <th>job_date</th>\n",
       "      <th>job_desc</th>\n",
       "      <th>job_tasks</th>\n",
       "      <th>comp_name</th>\n",
       "      <th>comp_no</th>\n",
       "      <th>comp_type</th>\n",
       "      <th>comp_size</th>\n",
       "      <th>eco_activity</th>\n",
       "      <th>qualif</th>\n",
       "      <th>region</th>\n",
       "      <th>city</th>\n",
       "      <th>contract</th>\n",
       "      <th>positions</th>\n",
       "      <th>job_post_id</th>\n",
       "      <th>exper</th>\n",
       "      <th>gender</th>\n",
       "      <th>salary</th>\n",
       "      <th>تأمين طبي</th>\n",
       "      <th>عمولات</th>\n",
       "      <th>خصومات</th>\n",
       "      <th>بدل مواصلات</th>\n",
       "      <th>حوافز</th>\n",
       "      <th>إجازة سنوية</th>\n",
       "      <th>إجازة يومين</th>\n",
       "      <th>job_year</th>\n",
       "      <th>standardized_eco_activity</th>\n",
       "      <th>level_experience</th>\n",
       "    </tr>\n",
       "  </thead>\n",
       "  <tbody>\n",
       "    <tr>\n",
       "      <th>481</th>\n",
       "      <td>مصمم جرافيك</td>\n",
       "      <td>29/03/1444</td>\n",
       "      <td>['تطوير الأفكار الإبداعية والمفاهيم لتوصيل الر...</td>\n",
       "      <td>['   التنسيق مع مالك التصميم (عملاء محليون أو ...</td>\n",
       "      <td>مؤسسة عبدالعزيز محمد ابراهيم العجمي التجارية</td>\n",
       "      <td>15-1971648</td>\n",
       "      <td>خاص</td>\n",
       "      <td>صغيرة فئة أ</td>\n",
       "      <td>البيع بالتجزئة للكماليات وللإكسسوارات الملابس،...</td>\n",
       "      <td>['Skill data', 'اتقان في  البرامج التصميم ', '...</td>\n",
       "      <td>المنطقة الشرقية</td>\n",
       "      <td>AL KHUBAR...</td>\n",
       "      <td>دوام كامل</td>\n",
       "      <td>0 / 2</td>\n",
       "      <td>20202026229765</td>\n",
       "      <td>2 Years</td>\n",
       "      <td>both</td>\n",
       "      <td>12000.0</td>\n",
       "      <td>False</td>\n",
       "      <td>False</td>\n",
       "      <td>False</td>\n",
       "      <td>False</td>\n",
       "      <td>False</td>\n",
       "      <td>False</td>\n",
       "      <td>False</td>\n",
       "      <td>2022</td>\n",
       "      <td>البيع بالتجزئة للكماليات وللإكسسوارات الملابس،</td>\n",
       "      <td>مبتدئ</td>\n",
       "    </tr>\n",
       "    <tr>\n",
       "      <th>1087</th>\n",
       "      <td>أخصائي مختبرات طبية</td>\n",
       "      <td>10/06/1444</td>\n",
       "      <td>['تحديد احتياجات المختبر من المواد الأولية الل...</td>\n",
       "      <td>['   تحديد احتياجات المختبر من المواد الطبية و...</td>\n",
       "      <td>شركة النور السامي الطبي العام</td>\n",
       "      <td>35-2320</td>\n",
       "      <td>خاص</td>\n",
       "      <td>متوسطة فئة أ</td>\n",
       "      <td>الخدمات الطبية بالمصحات المتخصصة ومراكز إعادة ...</td>\n",
       "      <td>No Qualification</td>\n",
       "      <td>مكة المكرمة</td>\n",
       "      <td>NUMARAH...</td>\n",
       "      <td>دوام كامل</td>\n",
       "      <td>0 / 2</td>\n",
       "      <td>20202026391958</td>\n",
       "      <td>2 Years</td>\n",
       "      <td>both</td>\n",
       "      <td>12000.0</td>\n",
       "      <td>False</td>\n",
       "      <td>False</td>\n",
       "      <td>False</td>\n",
       "      <td>False</td>\n",
       "      <td>False</td>\n",
       "      <td>False</td>\n",
       "      <td>False</td>\n",
       "      <td>2023</td>\n",
       "      <td>الخدمات الطبية</td>\n",
       "      <td>مبتدئ</td>\n",
       "    </tr>\n",
       "    <tr>\n",
       "      <th>1090</th>\n",
       "      <td>أخصائي مختبرات طبية</td>\n",
       "      <td>10/06/1444</td>\n",
       "      <td>['تحديد احتياجات المختبر من المواد الأولية الل...</td>\n",
       "      <td>['   تحديد احتياجات المختبر من المواد الطبية و...</td>\n",
       "      <td>شركة سعيد علي الغامدي الطبي العام</td>\n",
       "      <td>20-2184</td>\n",
       "      <td>خاص</td>\n",
       "      <td>متوسطة فئة أ</td>\n",
       "      <td>الخدمات الطبية بالمصحات المتخصصة ومراكز إعادة ...</td>\n",
       "      <td>No Qualification</td>\n",
       "      <td>الباحة</td>\n",
       "      <td>AL MUKHWA...</td>\n",
       "      <td>دوام كامل</td>\n",
       "      <td>0 / 2</td>\n",
       "      <td>20202026391929</td>\n",
       "      <td>2 Years</td>\n",
       "      <td>both</td>\n",
       "      <td>12000.0</td>\n",
       "      <td>False</td>\n",
       "      <td>False</td>\n",
       "      <td>False</td>\n",
       "      <td>False</td>\n",
       "      <td>False</td>\n",
       "      <td>False</td>\n",
       "      <td>False</td>\n",
       "      <td>2023</td>\n",
       "      <td>الخدمات الطبية</td>\n",
       "      <td>مبتدئ</td>\n",
       "    </tr>\n",
       "    <tr>\n",
       "      <th>1091</th>\n",
       "      <td>أخصائي مختبرات طبية</td>\n",
       "      <td>10/06/1444</td>\n",
       "      <td>['تحديد احتياجات المختبر من المواد الأولية الل...</td>\n",
       "      <td>['   تحديد احتياجات المختبر من المواد الطبية و...</td>\n",
       "      <td>شركة سعيد علي الغامدي الطبي العام</td>\n",
       "      <td>20-2184</td>\n",
       "      <td>خاص</td>\n",
       "      <td>متوسطة فئة أ</td>\n",
       "      <td>الخدمات الطبية بالمصحات المتخصصة ومراكز إعادة ...</td>\n",
       "      <td>No Qualification</td>\n",
       "      <td>الباحة</td>\n",
       "      <td>AL MUKHWA...</td>\n",
       "      <td>دوام كامل</td>\n",
       "      <td>0 / 2</td>\n",
       "      <td>20202026391922</td>\n",
       "      <td>2 Years</td>\n",
       "      <td>both</td>\n",
       "      <td>12000.0</td>\n",
       "      <td>False</td>\n",
       "      <td>False</td>\n",
       "      <td>False</td>\n",
       "      <td>False</td>\n",
       "      <td>False</td>\n",
       "      <td>False</td>\n",
       "      <td>False</td>\n",
       "      <td>2023</td>\n",
       "      <td>الخدمات الطبية</td>\n",
       "      <td>مبتدئ</td>\n",
       "    </tr>\n",
       "    <tr>\n",
       "      <th>1094</th>\n",
       "      <td>أخصائي مختبرات طبية</td>\n",
       "      <td>10/06/1444</td>\n",
       "      <td>['تحديد احتياجات المختبر من المواد الأولية الل...</td>\n",
       "      <td>['   تحديد احتياجات المختبر من المواد الطبية و...</td>\n",
       "      <td>شركة الرافق الطبي</td>\n",
       "      <td>20-2185</td>\n",
       "      <td>خاص</td>\n",
       "      <td>متوسطة فئة أ</td>\n",
       "      <td>الخدمات الطبية بالمصحات المتخصصة ومراكز إعادة ...</td>\n",
       "      <td>['Language data', 'الانجليزية', 'متوسط', 'Prof...</td>\n",
       "      <td>الباحة</td>\n",
       "      <td>QILWAH...</td>\n",
       "      <td>دوام كامل</td>\n",
       "      <td>0 / 2</td>\n",
       "      <td>20202026391885</td>\n",
       "      <td>2 Years</td>\n",
       "      <td>both</td>\n",
       "      <td>12000.0</td>\n",
       "      <td>False</td>\n",
       "      <td>False</td>\n",
       "      <td>False</td>\n",
       "      <td>False</td>\n",
       "      <td>False</td>\n",
       "      <td>False</td>\n",
       "      <td>False</td>\n",
       "      <td>2023</td>\n",
       "      <td>الخدمات الطبية</td>\n",
       "      <td>مبتدئ</td>\n",
       "    </tr>\n",
       "  </tbody>\n",
       "</table>\n",
       "</div>"
      ],
      "text/plain": [
       "                job_title    job_date  \\\n",
       "481           مصمم جرافيك  29/03/1444   \n",
       "1087  أخصائي مختبرات طبية  10/06/1444   \n",
       "1090  أخصائي مختبرات طبية  10/06/1444   \n",
       "1091  أخصائي مختبرات طبية  10/06/1444   \n",
       "1094  أخصائي مختبرات طبية  10/06/1444   \n",
       "\n",
       "                                               job_desc  \\\n",
       "481   ['تطوير الأفكار الإبداعية والمفاهيم لتوصيل الر...   \n",
       "1087  ['تحديد احتياجات المختبر من المواد الأولية الل...   \n",
       "1090  ['تحديد احتياجات المختبر من المواد الأولية الل...   \n",
       "1091  ['تحديد احتياجات المختبر من المواد الأولية الل...   \n",
       "1094  ['تحديد احتياجات المختبر من المواد الأولية الل...   \n",
       "\n",
       "                                              job_tasks  \\\n",
       "481   ['   التنسيق مع مالك التصميم (عملاء محليون أو ...   \n",
       "1087  ['   تحديد احتياجات المختبر من المواد الطبية و...   \n",
       "1090  ['   تحديد احتياجات المختبر من المواد الطبية و...   \n",
       "1091  ['   تحديد احتياجات المختبر من المواد الطبية و...   \n",
       "1094  ['   تحديد احتياجات المختبر من المواد الطبية و...   \n",
       "\n",
       "                                         comp_name     comp_no comp_type  \\\n",
       "481   مؤسسة عبدالعزيز محمد ابراهيم العجمي التجارية  15-1971648       خاص   \n",
       "1087                 شركة النور السامي الطبي العام     35-2320       خاص   \n",
       "1090             شركة سعيد علي الغامدي الطبي العام     20-2184       خاص   \n",
       "1091             شركة سعيد علي الغامدي الطبي العام     20-2184       خاص   \n",
       "1094                             شركة الرافق الطبي     20-2185       خاص   \n",
       "\n",
       "         comp_size                                       eco_activity  \\\n",
       "481    صغيرة فئة أ  البيع بالتجزئة للكماليات وللإكسسوارات الملابس،...   \n",
       "1087  متوسطة فئة أ  الخدمات الطبية بالمصحات المتخصصة ومراكز إعادة ...   \n",
       "1090  متوسطة فئة أ  الخدمات الطبية بالمصحات المتخصصة ومراكز إعادة ...   \n",
       "1091  متوسطة فئة أ  الخدمات الطبية بالمصحات المتخصصة ومراكز إعادة ...   \n",
       "1094  متوسطة فئة أ  الخدمات الطبية بالمصحات المتخصصة ومراكز إعادة ...   \n",
       "\n",
       "                                                 qualif           region  \\\n",
       "481   ['Skill data', 'اتقان في  البرامج التصميم ', '...  المنطقة الشرقية   \n",
       "1087                                   No Qualification      مكة المكرمة   \n",
       "1090                                   No Qualification           الباحة   \n",
       "1091                                   No Qualification           الباحة   \n",
       "1094  ['Language data', 'الانجليزية', 'متوسط', 'Prof...           الباحة   \n",
       "\n",
       "              city   contract positions     job_post_id    exper gender  \\\n",
       "481   AL KHUBAR...  دوام كامل     0 / 2  20202026229765  2 Years   both   \n",
       "1087    NUMARAH...  دوام كامل     0 / 2  20202026391958  2 Years   both   \n",
       "1090  AL MUKHWA...  دوام كامل     0 / 2  20202026391929  2 Years   both   \n",
       "1091  AL MUKHWA...  دوام كامل     0 / 2  20202026391922  2 Years   both   \n",
       "1094     QILWAH...  دوام كامل     0 / 2  20202026391885  2 Years   both   \n",
       "\n",
       "       salary  تأمين طبي  عمولات  خصومات  بدل مواصلات  حوافز  إجازة سنوية  \\\n",
       "481   12000.0      False   False   False        False  False        False   \n",
       "1087  12000.0      False   False   False        False  False        False   \n",
       "1090  12000.0      False   False   False        False  False        False   \n",
       "1091  12000.0      False   False   False        False  False        False   \n",
       "1094  12000.0      False   False   False        False  False        False   \n",
       "\n",
       "      إجازة يومين  job_year                       standardized_eco_activity  \\\n",
       "481         False      2022  البيع بالتجزئة للكماليات وللإكسسوارات الملابس،   \n",
       "1087        False      2023                                  الخدمات الطبية   \n",
       "1090        False      2023                                  الخدمات الطبية   \n",
       "1091        False      2023                                  الخدمات الطبية   \n",
       "1094        False      2023                                  الخدمات الطبية   \n",
       "\n",
       "     level_experience  \n",
       "481             مبتدئ  \n",
       "1087            مبتدئ  \n",
       "1090            مبتدئ  \n",
       "1091            مبتدئ  \n",
       "1094            مبتدئ  "
      ]
     },
     "execution_count": 1273,
     "metadata": {},
     "output_type": "execute_result"
    }
   ],
   "source": [
    "filtered_data[filtered_data['salary'] >10000]"
   ]
  },
  {
   "cell_type": "code",
   "execution_count": 1274,
   "id": "eb6b9ece-9bf7-452e-82a7-80f7702dc33b",
   "metadata": {},
   "outputs": [
    {
     "data": {
      "image/png": "[encoded data removed]",
      "text/plain": [
       "<Figure size 1000x600 with 1 Axes>"
      ]
     },
     "metadata": {},
     "output_type": "display_data"
    }
   ],
   "source": [
    "# Filter the DataFrame for 'مبتدئ' in the level_experience column\n",
    "filtered_data = Jadarat_data[Jadarat_data['level_experience'].isin(['متوسط'])]\n",
    "\n",
    "# Plot a histogram of the salary column for the filtered data\n",
    "plt.figure(figsize=(10, 6))\n",
    "sns.histplot(filtered_data['salary'], kde=True, bins=20, color='blue')\n",
    "\n",
    "# Add titles and labels\n",
    "plt.title('Histogram of Salaries (Intermediate level)', fontsize=16)\n",
    "plt.xlabel('Salary', fontsize=12)\n",
    "plt.ylabel('Frequency', fontsize=12)\n",
    "\n",
    "# Show the plot\n",
    "plt.show()"
   ]
  },
  {
   "cell_type": "code",
   "execution_count": 1275,
   "id": "c76781f3-18a1-48e4-81c9-ef2ea149b39f",
   "metadata": {
    "scrolled": true
   },
   "outputs": [
    {
     "data": {
      "text/html": [
       "<div>\n",
       "<style scoped>\n",
       "    .dataframe tbody tr th:only-of-type {\n",
       "        vertical-align: middle;\n",
       "    }\n",
       "\n",
       "    .dataframe tbody tr th {\n",
       "        vertical-align: top;\n",
       "    }\n",
       "\n",
       "    .dataframe thead th {\n",
       "        text-align: right;\n",
       "    }\n",
       "</style>\n",
       "<table border=\"1\" class=\"dataframe\">\n",
       "  <thead>\n",
       "    <tr style=\"text-align: right;\">\n",
       "      <th></th>\n",
       "      <th>job_title</th>\n",
       "      <th>job_date</th>\n",
       "      <th>job_desc</th>\n",
       "      <th>job_tasks</th>\n",
       "      <th>comp_name</th>\n",
       "      <th>comp_no</th>\n",
       "      <th>comp_type</th>\n",
       "      <th>comp_size</th>\n",
       "      <th>eco_activity</th>\n",
       "      <th>qualif</th>\n",
       "      <th>region</th>\n",
       "      <th>city</th>\n",
       "      <th>contract</th>\n",
       "      <th>positions</th>\n",
       "      <th>job_post_id</th>\n",
       "      <th>exper</th>\n",
       "      <th>gender</th>\n",
       "      <th>salary</th>\n",
       "      <th>تأمين طبي</th>\n",
       "      <th>عمولات</th>\n",
       "      <th>خصومات</th>\n",
       "      <th>بدل مواصلات</th>\n",
       "      <th>حوافز</th>\n",
       "      <th>إجازة سنوية</th>\n",
       "      <th>إجازة يومين</th>\n",
       "      <th>job_year</th>\n",
       "      <th>standardized_eco_activity</th>\n",
       "      <th>level_experience</th>\n",
       "    </tr>\n",
       "  </thead>\n",
       "  <tbody>\n",
       "    <tr>\n",
       "      <th>171</th>\n",
       "      <td>مدير برمجيات</td>\n",
       "      <td>22/04/1444</td>\n",
       "      <td>['المشاركة في تخطيط استراتيجية وأنشطة تطوير ال...</td>\n",
       "      <td>['   إنشاء برامج تطوير البرامج وفقاً لاستراتيج...</td>\n",
       "      <td>شركه العرض المتقن للخدمات التجارية شركة مساهمة...</td>\n",
       "      <td>1-169123</td>\n",
       "      <td>خاص</td>\n",
       "      <td>عملاقة</td>\n",
       "      <td>التسجيل لتقديم خدمات الحوسبة السحابية</td>\n",
       "      <td>No Qualification</td>\n",
       "      <td>الرياض</td>\n",
       "      <td>ABA ASLAB...</td>\n",
       "      <td>دوام كامل</td>\n",
       "      <td>0 / 1</td>\n",
       "      <td>20202026273626</td>\n",
       "      <td>4 Years</td>\n",
       "      <td>both</td>\n",
       "      <td>16000.0</td>\n",
       "      <td>False</td>\n",
       "      <td>False</td>\n",
       "      <td>False</td>\n",
       "      <td>False</td>\n",
       "      <td>False</td>\n",
       "      <td>False</td>\n",
       "      <td>False</td>\n",
       "      <td>2022</td>\n",
       "      <td>التسجيل لتقديم خدمات الحوسبة السحابية</td>\n",
       "      <td>متوسط</td>\n",
       "    </tr>\n",
       "    <tr>\n",
       "      <th>470</th>\n",
       "      <td>مدير عمليات موارد بشرية</td>\n",
       "      <td>01/04/1444</td>\n",
       "      <td>['المشاركة في وضع الأهداف الرئيسية وخطط وبرامج...</td>\n",
       "      <td>['   المشاركة في تطوير الأهداف الرئيسية لإدارة...</td>\n",
       "      <td>شركة ال جي شاكر المحدوده</td>\n",
       "      <td>1-180211</td>\n",
       "      <td>خاص</td>\n",
       "      <td>متوسطة فئة ج</td>\n",
       "      <td>صناعة أجهزة تكييف الهواء (وحدات أو مركزي ) فريون</td>\n",
       "      <td>['Language data', 'انجليزية', 'محترف', 'Profes...</td>\n",
       "      <td>الرياض</td>\n",
       "      <td>ABA ASLAB...</td>\n",
       "      <td>دوام كامل</td>\n",
       "      <td>0 / 1</td>\n",
       "      <td>20202026231523</td>\n",
       "      <td>4 Years</td>\n",
       "      <td>both</td>\n",
       "      <td>27000.0</td>\n",
       "      <td>False</td>\n",
       "      <td>False</td>\n",
       "      <td>False</td>\n",
       "      <td>False</td>\n",
       "      <td>False</td>\n",
       "      <td>False</td>\n",
       "      <td>False</td>\n",
       "      <td>2022</td>\n",
       "      <td>صناعة أجهزة تكييف الهواء  فريون</td>\n",
       "      <td>متوسط</td>\n",
       "    </tr>\n",
       "    <tr>\n",
       "      <th>559</th>\n",
       "      <td>مدير تسويق</td>\n",
       "      <td>05/05/1444</td>\n",
       "      <td>['المشاركة في وضع الأهداف والسياسات والخطط الت...</td>\n",
       "      <td>['   المشاركة في وضع الأهداف والسياسات والمباد...</td>\n",
       "      <td>شركة روافد الحقول للوجبات السريعة شركة شخص واحد</td>\n",
       "      <td>9-2075281</td>\n",
       "      <td>خاص</td>\n",
       "      <td>صغيرة فئة ب</td>\n",
       "      <td>المطاعم مع الخدمة</td>\n",
       "      <td>No Qualification</td>\n",
       "      <td>مكة المكرمة</td>\n",
       "      <td>JEDDAH...</td>\n",
       "      <td>دوام كامل</td>\n",
       "      <td>0 / 1</td>\n",
       "      <td>20202026313724</td>\n",
       "      <td>4 Years</td>\n",
       "      <td>both</td>\n",
       "      <td>15000.0</td>\n",
       "      <td>False</td>\n",
       "      <td>False</td>\n",
       "      <td>False</td>\n",
       "      <td>False</td>\n",
       "      <td>False</td>\n",
       "      <td>False</td>\n",
       "      <td>False</td>\n",
       "      <td>2022</td>\n",
       "      <td>المطاعم مع الخدمة</td>\n",
       "      <td>متوسط</td>\n",
       "    </tr>\n",
       "  </tbody>\n",
       "</table>\n",
       "</div>"
      ],
      "text/plain": [
       "                   job_title    job_date  \\\n",
       "171             مدير برمجيات  22/04/1444   \n",
       "470  مدير عمليات موارد بشرية  01/04/1444   \n",
       "559               مدير تسويق  05/05/1444   \n",
       "\n",
       "                                              job_desc  \\\n",
       "171  ['المشاركة في تخطيط استراتيجية وأنشطة تطوير ال...   \n",
       "470  ['المشاركة في وضع الأهداف الرئيسية وخطط وبرامج...   \n",
       "559  ['المشاركة في وضع الأهداف والسياسات والخطط الت...   \n",
       "\n",
       "                                             job_tasks  \\\n",
       "171  ['   إنشاء برامج تطوير البرامج وفقاً لاستراتيج...   \n",
       "470  ['   المشاركة في تطوير الأهداف الرئيسية لإدارة...   \n",
       "559  ['   المشاركة في وضع الأهداف والسياسات والمباد...   \n",
       "\n",
       "                                             comp_name    comp_no comp_type  \\\n",
       "171  شركه العرض المتقن للخدمات التجارية شركة مساهمة...   1-169123       خاص   \n",
       "470                           شركة ال جي شاكر المحدوده   1-180211       خاص   \n",
       "559    شركة روافد الحقول للوجبات السريعة شركة شخص واحد  9-2075281       خاص   \n",
       "\n",
       "        comp_size                                      eco_activity  \\\n",
       "171        عملاقة             التسجيل لتقديم خدمات الحوسبة السحابية   \n",
       "470  متوسطة فئة ج  صناعة أجهزة تكييف الهواء (وحدات أو مركزي ) فريون   \n",
       "559   صغيرة فئة ب                                 المطاعم مع الخدمة   \n",
       "\n",
       "                                                qualif       region  \\\n",
       "171                                   No Qualification       الرياض   \n",
       "470  ['Language data', 'انجليزية', 'محترف', 'Profes...       الرياض   \n",
       "559                                   No Qualification  مكة المكرمة   \n",
       "\n",
       "             city   contract positions     job_post_id    exper gender  \\\n",
       "171  ABA ASLAB...  دوام كامل     0 / 1  20202026273626  4 Years   both   \n",
       "470  ABA ASLAB...  دوام كامل     0 / 1  20202026231523  4 Years   both   \n",
       "559     JEDDAH...  دوام كامل     0 / 1  20202026313724  4 Years   both   \n",
       "\n",
       "      salary  تأمين طبي  عمولات  خصومات  بدل مواصلات  حوافز  إجازة سنوية  \\\n",
       "171  16000.0      False   False   False        False  False        False   \n",
       "470  27000.0      False   False   False        False  False        False   \n",
       "559  15000.0      False   False   False        False  False        False   \n",
       "\n",
       "     إجازة يومين  job_year              standardized_eco_activity  \\\n",
       "171        False      2022  التسجيل لتقديم خدمات الحوسبة السحابية   \n",
       "470        False      2022        صناعة أجهزة تكييف الهواء  فريون   \n",
       "559        False      2022                      المطاعم مع الخدمة   \n",
       "\n",
       "    level_experience  \n",
       "171            متوسط  \n",
       "470            متوسط  \n",
       "559            متوسط  "
      ]
     },
     "execution_count": 1275,
     "metadata": {},
     "output_type": "execute_result"
    }
   ],
   "source": [
    "filtered_data[filtered_data['salary'] >14000]"
   ]
  },
  {
   "cell_type": "code",
   "execution_count": 1276,
   "id": "7ac71b24-a0bc-425f-942a-eac22272abab",
   "metadata": {
    "scrolled": true
   },
   "outputs": [
    {
     "data": {
      "image/png": "[encoded data removed]",
      "text/plain": [
       "<Figure size 1000x600 with 1 Axes>"
      ]
     },
     "metadata": {},
     "output_type": "display_data"
    }
   ],
   "source": [
    "# Filter the DataFrame for 'مبتدئ' in the level_experience column\n",
    "filtered_data = Jadarat_data[Jadarat_data['level_experience'].isin(['خبير'])]\n",
    "\n",
    "# Plot a histogram of the salary column for the filtered data\n",
    "plt.figure(figsize=(10, 6))\n",
    "sns.histplot(filtered_data['salary'], kde=True, bins=20, color='blue')\n",
    "\n",
    "# Add titles and labels\n",
    "plt.title('Histogram of Salaries (Expert level)', fontsize=16)\n",
    "plt.xlabel('Salary', fontsize=12)\n",
    "plt.ylabel('Frequency', fontsize=12)\n",
    "\n",
    "# Show the plot\n",
    "plt.show()"
   ]
  },
  {
   "cell_type": "code",
   "execution_count": 1277,
   "id": "3ed88bbd-e193-4b2a-ad7b-008a8139f148",
   "metadata": {
    "scrolled": true
   },
   "outputs": [
    {
     "data": {
      "text/html": [
       "<div>\n",
       "<style scoped>\n",
       "    .dataframe tbody tr th:only-of-type {\n",
       "        vertical-align: middle;\n",
       "    }\n",
       "\n",
       "    .dataframe tbody tr th {\n",
       "        vertical-align: top;\n",
       "    }\n",
       "\n",
       "    .dataframe thead th {\n",
       "        text-align: right;\n",
       "    }\n",
       "</style>\n",
       "<table border=\"1\" class=\"dataframe\">\n",
       "  <thead>\n",
       "    <tr style=\"text-align: right;\">\n",
       "      <th></th>\n",
       "      <th>job_title</th>\n",
       "      <th>job_date</th>\n",
       "      <th>job_desc</th>\n",
       "      <th>job_tasks</th>\n",
       "      <th>comp_name</th>\n",
       "      <th>comp_no</th>\n",
       "      <th>comp_type</th>\n",
       "      <th>comp_size</th>\n",
       "      <th>eco_activity</th>\n",
       "      <th>qualif</th>\n",
       "      <th>region</th>\n",
       "      <th>city</th>\n",
       "      <th>contract</th>\n",
       "      <th>positions</th>\n",
       "      <th>job_post_id</th>\n",
       "      <th>exper</th>\n",
       "      <th>gender</th>\n",
       "      <th>salary</th>\n",
       "      <th>تأمين طبي</th>\n",
       "      <th>عمولات</th>\n",
       "      <th>خصومات</th>\n",
       "      <th>بدل مواصلات</th>\n",
       "      <th>حوافز</th>\n",
       "      <th>إجازة سنوية</th>\n",
       "      <th>إجازة يومين</th>\n",
       "      <th>job_year</th>\n",
       "      <th>standardized_eco_activity</th>\n",
       "      <th>level_experience</th>\n",
       "    </tr>\n",
       "  </thead>\n",
       "  <tbody>\n",
       "    <tr>\n",
       "      <th>530</th>\n",
       "      <td>مدير عمليات موارد بشرية</td>\n",
       "      <td>06/05/1444</td>\n",
       "      <td>['المشاركة في وضع الأهداف الرئيسية وخطط وبرامج...</td>\n",
       "      <td>['   المشاركة في تطوير الأهداف الرئيسية لإدارة...</td>\n",
       "      <td>شركة انكر اليابان</td>\n",
       "      <td>1-391480</td>\n",
       "      <td>خاص</td>\n",
       "      <td>صغيرة فئة ب</td>\n",
       "      <td>خدمات المكاتب العلمية والفنية للمنتجات عدا الم...</td>\n",
       "      <td>['Language data', 'الانجليزية', 'محترف', 'Prof...</td>\n",
       "      <td>الرياض</td>\n",
       "      <td>AR RIYADH...</td>\n",
       "      <td>دوام كامل</td>\n",
       "      <td>0 / 1</td>\n",
       "      <td>20202026314815</td>\n",
       "      <td>7 Years</td>\n",
       "      <td>both</td>\n",
       "      <td>32000.0</td>\n",
       "      <td>False</td>\n",
       "      <td>False</td>\n",
       "      <td>False</td>\n",
       "      <td>False</td>\n",
       "      <td>False</td>\n",
       "      <td>False</td>\n",
       "      <td>False</td>\n",
       "      <td>2022</td>\n",
       "      <td>خدمات المكاتب العلمية والفنية للمنتجات عدا الم...</td>\n",
       "      <td>خبير</td>\n",
       "    </tr>\n",
       "    <tr>\n",
       "      <th>888</th>\n",
       "      <td>طيار جناح ثابت</td>\n",
       "      <td>Publish date</td>\n",
       "      <td>['تدقيق بيانات الرحلة وخطة الطيران، وتفقد وتجه...</td>\n",
       "      <td>['   دراسة بيانات الرحلة ومخططها والتحقق من ال...</td>\n",
       "      <td>شركة طيران اديل</td>\n",
       "      <td>9-1432020</td>\n",
       "      <td>خاص</td>\n",
       "      <td>كبيرة</td>\n",
       "      <td>النقل الجوي للبضائع المحدد بمواعيد</td>\n",
       "      <td>['Language data', 'الانجليزي ', 'محترف', 'Prof...</td>\n",
       "      <td>مكة المكرمة</td>\n",
       "      <td>JEDDAH...</td>\n",
       "      <td>دوام كامل</td>\n",
       "      <td>0 / 50</td>\n",
       "      <td>20202026377730</td>\n",
       "      <td>10 Years</td>\n",
       "      <td>both</td>\n",
       "      <td>35000.0</td>\n",
       "      <td>False</td>\n",
       "      <td>False</td>\n",
       "      <td>False</td>\n",
       "      <td>False</td>\n",
       "      <td>False</td>\n",
       "      <td>False</td>\n",
       "      <td>False</td>\n",
       "      <td>0</td>\n",
       "      <td>النقل الجوي للبضائع المحدد بمواعيد</td>\n",
       "      <td>خبير</td>\n",
       "    </tr>\n",
       "    <tr>\n",
       "      <th>1132</th>\n",
       "      <td>طيار جناح ثابت</td>\n",
       "      <td>07/06/1444</td>\n",
       "      <td>['تدقيق بيانات الرحلة وخطة الطيران، وتفقد وتجه...</td>\n",
       "      <td>['   دراسة بيانات الرحلة ومخططها والتحقق من ال...</td>\n",
       "      <td>شركة طيران اديل</td>\n",
       "      <td>9-1432020</td>\n",
       "      <td>خاص</td>\n",
       "      <td>كبيرة</td>\n",
       "      <td>النقل الجوي للبضائع المحدد بمواعيد</td>\n",
       "      <td>['Language data', 'الانجليزي ', 'محترف', 'Prof...</td>\n",
       "      <td>مكة المكرمة</td>\n",
       "      <td>JEDDAH...</td>\n",
       "      <td>دوام كامل</td>\n",
       "      <td>0 / 50</td>\n",
       "      <td>20202026377730</td>\n",
       "      <td>10 Years</td>\n",
       "      <td>both</td>\n",
       "      <td>35000.0</td>\n",
       "      <td>False</td>\n",
       "      <td>False</td>\n",
       "      <td>False</td>\n",
       "      <td>False</td>\n",
       "      <td>False</td>\n",
       "      <td>False</td>\n",
       "      <td>False</td>\n",
       "      <td>2022</td>\n",
       "      <td>النقل الجوي للبضائع المحدد بمواعيد</td>\n",
       "      <td>خبير</td>\n",
       "    </tr>\n",
       "  </tbody>\n",
       "</table>\n",
       "</div>"
      ],
      "text/plain": [
       "                    job_title      job_date  \\\n",
       "530   مدير عمليات موارد بشرية    06/05/1444   \n",
       "888            طيار جناح ثابت  Publish date   \n",
       "1132           طيار جناح ثابت    07/06/1444   \n",
       "\n",
       "                                               job_desc  \\\n",
       "530   ['المشاركة في وضع الأهداف الرئيسية وخطط وبرامج...   \n",
       "888   ['تدقيق بيانات الرحلة وخطة الطيران، وتفقد وتجه...   \n",
       "1132  ['تدقيق بيانات الرحلة وخطة الطيران، وتفقد وتجه...   \n",
       "\n",
       "                                              job_tasks          comp_name  \\\n",
       "530   ['   المشاركة في تطوير الأهداف الرئيسية لإدارة...  شركة انكر اليابان   \n",
       "888   ['   دراسة بيانات الرحلة ومخططها والتحقق من ال...    شركة طيران اديل   \n",
       "1132  ['   دراسة بيانات الرحلة ومخططها والتحقق من ال...    شركة طيران اديل   \n",
       "\n",
       "        comp_no comp_type    comp_size  \\\n",
       "530    1-391480       خاص  صغيرة فئة ب   \n",
       "888   9-1432020       خاص        كبيرة   \n",
       "1132  9-1432020       خاص        كبيرة   \n",
       "\n",
       "                                           eco_activity  \\\n",
       "530   خدمات المكاتب العلمية والفنية للمنتجات عدا الم...   \n",
       "888                  النقل الجوي للبضائع المحدد بمواعيد   \n",
       "1132                 النقل الجوي للبضائع المحدد بمواعيد   \n",
       "\n",
       "                                                 qualif       region  \\\n",
       "530   ['Language data', 'الانجليزية', 'محترف', 'Prof...       الرياض   \n",
       "888   ['Language data', 'الانجليزي ', 'محترف', 'Prof...  مكة المكرمة   \n",
       "1132  ['Language data', 'الانجليزي ', 'محترف', 'Prof...  مكة المكرمة   \n",
       "\n",
       "              city   contract positions     job_post_id     exper gender  \\\n",
       "530   AR RIYADH...  دوام كامل     0 / 1  20202026314815   7 Years   both   \n",
       "888      JEDDAH...  دوام كامل    0 / 50  20202026377730  10 Years   both   \n",
       "1132     JEDDAH...  دوام كامل    0 / 50  20202026377730  10 Years   both   \n",
       "\n",
       "       salary  تأمين طبي  عمولات  خصومات  بدل مواصلات  حوافز  إجازة سنوية  \\\n",
       "530   32000.0      False   False   False        False  False        False   \n",
       "888   35000.0      False   False   False        False  False        False   \n",
       "1132  35000.0      False   False   False        False  False        False   \n",
       "\n",
       "      إجازة يومين  job_year  \\\n",
       "530         False      2022   \n",
       "888         False         0   \n",
       "1132        False      2022   \n",
       "\n",
       "                              standardized_eco_activity level_experience  \n",
       "530   خدمات المكاتب العلمية والفنية للمنتجات عدا الم...             خبير  \n",
       "888                  النقل الجوي للبضائع المحدد بمواعيد             خبير  \n",
       "1132                 النقل الجوي للبضائع المحدد بمواعيد             خبير  "
      ]
     },
     "execution_count": 1277,
     "metadata": {},
     "output_type": "execute_result"
    }
   ],
   "source": [
    "filtered_data[filtered_data['salary']>30000]"
   ]
  },
  {
   "cell_type": "markdown",
   "id": "834929aa-fd6a-4ec5-84d4-77c4b3c1a506",
   "metadata": {},
   "source": [
    "The process of profiling differs slightly for categorical and numerical variables due to their inherent differences.\n",
    "\n",
    "**The two main types of data are:**\n",
    "- Quantitative (numerical) data\n",
    "- Qualitative (categorical) data"
   ]
  },
  {
   "cell_type": "markdown",
   "id": "76013666-b53d-42d9-9e68-a3bc1ebdea04",
   "metadata": {},
   "source": [
    "# problem statment"
   ]
  },
  {
   "cell_type": "markdown",
   "id": "a47623d0-2ea3-4b3c-96b7-bbaef2df59f1",
   "metadata": {},
   "source": [
    "###  What proportion of job postings is attributed to each region within the kingdom?"
   ]
  },
  {
   "cell_type": "code",
   "execution_count": 1281,
   "id": "73f9f2ac-8477-49ea-9c68-4fe44d4395b6",
   "metadata": {},
   "outputs": [
    {
     "data": {
      "text/plain": [
       "region\n",
       "الرياض             621\n",
       "مكة المكرمة        369\n",
       "المنطقة الشرقية    219\n",
       "المدينة المنورة     86\n",
       "الباحة              46\n",
       "عسير                42\n",
       "القصيم              32\n",
       "حائل                18\n",
       "تبوك                11\n",
       "نجران                8\n",
       "جازان                7\n",
       "الجوف                5\n",
       "الحدود الشمالية      4\n",
       "اخرى                 1\n",
       "Name: count, dtype: int64"
      ]
     },
     "execution_count": 1281,
     "metadata": {},
     "output_type": "execute_result"
    }
   ],
   "source": [
    "Jadarat_data['region'].value_counts()"
   ]
  },
  {
   "cell_type": "code",
   "execution_count": 1282,
   "id": "3590e345-2051-4215-91ac-07d196b510ef",
   "metadata": {},
   "outputs": [],
   "source": [
    "total_jobe = Jadarat_data.shape[0]"
   ]
  },
  {
   "cell_type": "code",
   "execution_count": 1283,
   "id": "41023177-01cb-4f39-a750-12be71b13bda",
   "metadata": {},
   "outputs": [
    {
     "data": {
      "image/png": "[encoded data removed]",
      "text/plain": [
       "<Figure size 1000x700 with 1 Axes>"
      ]
     },
     "metadata": {},
     "output_type": "display_data"
    }
   ],
   "source": [
    "import arabic_reshaper\n",
    "from bidi.algorithm import get_display\n",
    "\n",
    "# Assuming `region_proportions` is already calculated (with English region names)\n",
    "region_proportions = round(((Jadarat_data.groupby('region').size()) / total_jobe) * 100, 1)\n",
    "\n",
    "# Dynamically reshape and reverse the region names (assuming they are in Arabic or need to be processed)\n",
    "reshaped_regions = [arabic_reshaper.reshape(region) for region in region_proportions.index]\n",
    "bidi_regions = [get_display(region) for region in reshaped_regions]\n",
    "\n",
    "# Update the index of the region_proportions to use the reshaped Arabic names\n",
    "region_proportions.index = bidi_regions\n",
    "\n",
    "# Create the bar chart\n",
    "plt.figure(figsize=(10, 7))\n",
    "region_proportions.plot(kind='bar', color='skyblue', edgecolor='black')\n",
    "\n",
    "# Add labels and title (Arabic reshaped and reversed for correct display)\n",
    "plt.title(get_display(arabic_reshaper.reshape(\"نسبة الوظائف حسب المدينة\")), fontsize=16)\n",
    "plt.xlabel(get_display(arabic_reshaper.reshape(\"المدينة\")), fontsize=14)\n",
    "plt.ylabel(get_display(arabic_reshaper.reshape(\"النسبة المئوية (%)\")), fontsize=14)\n",
    "plt.xticks(rotation=45, fontsize=12)  # Rotate x-axis labels for better visibility\n",
    "plt.yticks(fontsize=12)\n",
    "\n",
    "# Display the values on top of the bars\n",
    "for index, value in enumerate(region_proportions):\n",
    "    plt.text(index, value + 0.5, f\"{value}%\", ha='center', fontsize=12)\n",
    "\n",
    "# Show the chart\n",
    "plt.tight_layout()\n",
    "\n",
    "plt.show()"
   ]
  },
  {
   "cell_type": "markdown",
   "id": "5c01fa8e-78f8-483e-badb-6cc5976ec45b",
   "metadata": {},
   "source": [
    "### Is there a gender preference indicated in the job postings?"
   ]
  },
  {
   "cell_type": "code",
   "execution_count": 1285,
   "id": "8406f58f-b825-4a15-8f6e-c68ca66bd483",
   "metadata": {},
   "outputs": [],
   "source": [
    "gender_counts =Jadarat_data['gender'].value_counts()"
   ]
  },
  {
   "cell_type": "code",
   "execution_count": 1286,
   "id": "6068a40a-93b0-4713-8e65-b67e9f45bf58",
   "metadata": {},
   "outputs": [
    {
     "data": {
      "image/png": "[encoded data removed]",
      "text/plain": [
       "<Figure size 800x500 with 1 Axes>"
      ]
     },
     "metadata": {},
     "output_type": "display_data"
    }
   ],
   "source": [
    "# Convert Series to lists\n",
    "labels = gender_counts.index.tolist()  # Gender categories\n",
    "counts = gender_counts.values.tolist()  # Counts\n",
    "\n",
    "# Plotting\n",
    "plt.figure(figsize=(8, 5))\n",
    "plt.bar(labels, counts, color=[\"skyblue\", \"salmon\", \"lightgreen\"])\n",
    "plt.title(\"Gender Distribution\", fontsize=16)\n",
    "plt.xlabel(\"Gender\", fontsize=12)\n",
    "plt.ylabel(\"Count\", fontsize=12)\n",
    "\n",
    "# Adding value labels on top of the bars\n",
    "for i, count in enumerate(counts):\n",
    "    plt.text(i, count + 2, str(count), ha=\"center\", fontsize=10)\n",
    "\n",
    "plt.tight_layout()\n",
    "plt.show()"
   ]
  },
  {
   "cell_type": "markdown",
   "id": "3028463f-8f7d-4af7-8763-50f9d56e55f5",
   "metadata": {},
   "source": [
    "- The slight preference for males over females in job postings (difference of 77).\n",
    "- The fact that most job postings target both genders (587 postings)"
   ]
  },
  {
   "cell_type": "markdown",
   "id": "657bb762-4658-4dd9-a875-776c1beffae7",
   "metadata": {},
   "source": [
    "### What is the expected salary range for fresh graduates?"
   ]
  },
  {
   "cell_type": "code",
   "execution_count": 1290,
   "id": "f433a1c7-78ab-4712-a231-1c35016e3b63",
   "metadata": {},
   "outputs": [
    {
     "name": "stdout",
     "output_type": "stream",
     "text": [
      " The range for fresh graduates is from 3,000 to 12,325 SR\n"
     ]
    }
   ],
   "source": [
    "fresh_graduates =Jadarat_data[Jadarat_data['level_experience'] == 'خريج']\n",
    "print(f' The range for fresh graduates is from {int(fresh_graduates['salary'].min()):,} to {int(fresh_graduates['salary'].max()):,} SR')\n"
   ]
  },
  {
   "cell_type": "code",
   "execution_count": 1291,
   "id": "40d64421-fa91-4f8d-b307-3e7cc557c92d",
   "metadata": {},
   "outputs": [
    {
     "data": {
      "image/png": "[encoded data removed]",
      "text/plain": [
       "<Figure size 1000x600 with 1 Axes>"
      ]
     },
     "metadata": {},
     "output_type": "display_data"
    }
   ],
   "source": [
    "# Plot salary distribution\n",
    "plt.figure(figsize=(10, 6))\n",
    "plt.hist(fresh_graduates['salary'], bins=20, color='skyblue', edgecolor='black')\n",
    "\n",
    "# Add title and labels\n",
    "plt.title('Salary Distribution for Fresh Graduates', fontsize=16)\n",
    "plt.xlabel('Salary (SR)', fontsize=12)\n",
    "plt.ylabel('Frequency', fontsize=12)\n",
    "\n",
    "# Add grid for better readability\n",
    "plt.grid(axis='y', linestyle='--', alpha=0.7)\n",
    "\n",
    "# Display the chart\n",
    "plt.show()"
   ]
  },
  {
   "cell_type": "markdown",
   "id": "12704ffe-42f9-4bd4-ae94-128fdb290d63",
   "metadata": {},
   "source": [
    "### Are job opportunities predominantly targeted at individuals with experience, or is there room for fresh graduates as well?"
   ]
  },
  {
   "cell_type": "code",
   "execution_count": 1293,
   "id": "0ef32b2d-4d6e-492e-a135-25b100ee9cbb",
   "metadata": {},
   "outputs": [],
   "source": [
    "level_experience = Jadarat_data['level_experience'].value_counts()"
   ]
  },
  {
   "cell_type": "code",
   "execution_count": 1294,
   "id": "5b132259-b5a6-44c7-ba20-7782add4c115",
   "metadata": {},
   "outputs": [
    {
     "data": {
      "image/png": "[encoded data removed]",
      "text/plain": [
       "<Figure size 800x800 with 1 Axes>"
      ]
     },
     "metadata": {},
     "output_type": "display_data"
    }
   ],
   "source": [
    "from matplotlib import rcParams\n",
    "\n",
    "# Configure Matplotlib to use a font that supports Arabic\n",
    "rcParams['font.family'] = 'Arial'  # Replace 'Arial' with any Arabic-supported font available on your system\n",
    "\n",
    "\n",
    "reshaped_labels = [get_display(arabic_reshaper.reshape(label)) for label in level_experience.keys()]\n",
    "# Plot\n",
    "plt.figure(figsize=(8, 8))\n",
    "\n",
    "colors = [\"#0088FE\", \"#00C49F\", \"#FFBB28\", \"#FF8042\"]\n",
    "plt.pie(level_experience.values, \n",
    "        labels=reshaped_labels, \n",
    "        autopct='%1.1f%%', \n",
    "        startangle=140, \n",
    "        colors=colors)\n",
    "\n",
    "plt.title(\"Opportunities by Experience Level\", fontsize=16)\n",
    "plt.show()"
   ]
  },
  {
   "cell_type": "markdown",
   "id": "f6783790-41be-4304-8a53-6cbea5f9b286",
   "metadata": {},
   "source": [
    "The data shows that fresh graduates (خريج) have the highest number of opportunities (833),\n",
    "which is significantly greater than any other experience level.\n",
    "This indicate that there are more opportunities avaliable for fresh graduates compared to beginners, intermediates, or experts"
   ]
  },
  {
   "cell_type": "markdown",
   "id": "7e56cca7-4ae0-4194-af33-a6164004e65a",
   "metadata": {
    "jp-MarkdownHeadingCollapsed": true
   },
   "source": [
    "### How many companies are there in jadarate paltform based on their type and size?"
   ]
  },
  {
   "cell_type": "code",
   "execution_count": 1297,
   "id": "0bde74c4-42ec-4926-af04-de35b2cc44ae",
   "metadata": {},
   "outputs": [],
   "source": [
    "filter = Jadarat_data[Jadarat_data['comp_size'] != 'Unknown']"
   ]
  },
  {
   "cell_type": "code",
   "execution_count": 1298,
   "id": "655f0445-8a6b-4494-9dda-49e9352a2dce",
   "metadata": {},
   "outputs": [
    {
     "data": {
      "text/plain": [
       "comp_type   comp_size   \n",
       "خاص         صغيرة فئة أ     325\n",
       "            صغيرة فئة ب     634\n",
       "            عملاقة           46\n",
       "            كبيرة            73\n",
       "            متوسطة فئة أ    162\n",
       "            متوسطة فئة ب    134\n",
       "            متوسطة فئة ج     76\n",
       "شبه حكومية  كبيرة             5\n",
       "dtype: int64"
      ]
     },
     "execution_count": 1298,
     "metadata": {},
     "output_type": "execute_result"
    }
   ],
   "source": [
    "filter.groupby(['comp_type','comp_size']).size()"
   ]
  },
  {
   "cell_type": "markdown",
   "id": "811cd08b-a4ab-4979-b1d2-8cd69fa7f397",
   "metadata": {},
   "source": [
    "### How many companies and entities advertised job vacancies in jadarate paltform?"
   ]
  },
  {
   "cell_type": "code",
   "execution_count": 1300,
   "id": "8bc1b2a2-7bfe-4444-934a-bc4d8be8a158",
   "metadata": {},
   "outputs": [
    {
     "data": {
      "image/png": "[encoded data removed]",
      "text/plain": [
       "<Figure size 1400x800 with 1 Axes>"
      ]
     },
     "metadata": {},
     "output_type": "display_data"
    }
   ],
   "source": [
    "# Grouping by 'comp_type' and 'comp_size'\n",
    "grouped_data = filter.groupby(['comp_type', 'comp_size']).size().unstack(fill_value=0)\n",
    "\n",
    "# Reshape Arabic text for proper display\n",
    "reshaped_columns = [get_display(arabic_reshaper.reshape(col)) for col in grouped_data.columns]\n",
    "reshaped_index = [get_display(arabic_reshaper.reshape(idx)) for idx in grouped_data.index]\n",
    "\n",
    "# Update the column and index labels with reshaped Arabic text\n",
    "grouped_data.columns = reshaped_columns\n",
    "grouped_data.index = reshaped_index\n",
    "\n",
    "# Plotting\n",
    "fig, ax = plt.subplots(figsize=(14, 8))\n",
    "colors = ['#FF5733', '#33FFCE', '#FFC300', '#33C1FF', '#DA33FF']\n",
    "grouped_data.plot(kind='bar', stacked=True, ax=ax, color=colors, edgecolor='black', alpha=0.85, width=0.6)\n",
    "\n",
    "# Add title and axis labels\n",
    "plt.title(get_display(arabic_reshaper.reshape('عدد الشركات حسب النوع والحجم')), fontsize=18, pad=20)\n",
    "plt.xlabel(get_display(arabic_reshaper.reshape('نوع الشركة')), fontsize=14, labelpad=10)\n",
    "plt.ylabel(get_display(arabic_reshaper.reshape('عدد الشركات')), fontsize=14, labelpad=10)\n",
    "\n",
    "# Add gridlines\n",
    "plt.grid(axis='y', linestyle='--', alpha=0.7, color='gray')\n",
    "\n",
    "# Customize x-axis labels\n",
    "plt.xticks(fontsize=12, rotation=0, ha='center')\n",
    "plt.yticks(fontsize=12)\n",
    "\n",
    "# Annotate the bars with values\n",
    "for container in ax.containers:\n",
    "    for bar in container:\n",
    "        height = bar.get_height()\n",
    "        if height > 0:  # Only label non-zero bars\n",
    "            ax.text(\n",
    "                bar.get_x() + bar.get_width() / 2, \n",
    "                bar.get_y() + height + 10,  # Position above the bar\n",
    "                f'{int(height):,}', \n",
    "                ha='center', \n",
    "                va='bottom', \n",
    "                fontsize=10, \n",
    "                color='black'\n",
    "            )\n",
    "\n",
    "# Customize legend\n",
    "plt.legend(\n",
    "    title=get_display(arabic_reshaper.reshape('حجم الشركة')),\n",
    "    fontsize=12,\n",
    "    title_fontsize=14,\n",
    "    loc='upper center',\n",
    "    bbox_to_anchor=(0.5, -0.1),  # Move legend below the chart\n",
    "    ncol=3  # Arrange legend items in multiple columns\n",
    ")\n",
    "\n",
    "# Adjust layout\n",
    "plt.tight_layout()\n",
    "plt.subplots_adjust(bottom=0.2)  # Increase space at the bottom for the legend\n",
    "plt.show()"
   ]
  }
 ],
 "metadata": {
  "kernelspec": {
   "display_name": "Python [conda env:base] *",
   "language": "python",
   "name": "conda-base-py"
  },
  "language_info": {
   "codemirror_mode": {
    "name": "ipython",
    "version": 3
   },
   "file_extension": ".py",
   "mimetype": "text/x-python",
   "name": "python",
   "nbconvert_exporter": "python",
   "pygments_lexer": "ipython3",
   "version": "3.12.4"
  }
 },
 "nbformat": 4,
 "nbformat_minor": 5
}
