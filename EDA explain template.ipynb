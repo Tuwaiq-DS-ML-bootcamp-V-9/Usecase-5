{
 "cells": [
  {
   "cell_type": "code",
   "execution_count": 112,
   "id": "e69c4ba1-85f3-4a02-ae37-c64347a01803",
   "metadata": {},
   "outputs": [],
   "source": [
    "#Import all relevant libraries\n",
    "import numpy as np\n",
    "import pandas as pd\n",
    "import matplotlib.pyplot as plt\n",
    "import seaborn as sns\n",
    "from scipy.stats import zscore\n",
    "import streamlit as st\n",
    "import dtale \n",
    "import plotly.express as px\n",
    "\n",
    "## This statement allows the visuals to render within your Jupyter Notebook.\n",
    "%matplotlib inline"
   ]
  },
  {
   "cell_type": "markdown",
   "id": "e395e8bf-b530-4720-8d0f-26811e927d6e",
   "metadata": {},
   "source": [
    "## Loading the data\n",
    "We can now load the dataset into pandas using the read_csv() function. This converts the CSV file into a Pandas dataframe."
   ]
  },
  {
   "cell_type": "code",
   "execution_count": 113,
   "id": "cf4030b0-aa7f-4bd7-8e9c-c1b7f4d202d0",
   "metadata": {},
   "outputs": [],
   "source": [
    "#Read in the csv file and convert to a Pandas dataframe\n",
    "jops = pd.read_csv(\"Data/Jadarat_data.csv\")"
   ]
  },
  {
   "cell_type": "markdown",
   "id": "ca5ed983-0f72-43eb-8168-6fafd48c562e",
   "metadata": {},
   "source": [
    "### Viewing the dataframe\n",
    "We can get a quick sense of the size of our dataset by using the shape method. This returns a tuple with the number of rows and columns in the dataset."
   ]
  },
  {
   "cell_type": "code",
   "execution_count": 114,
   "id": "5a0e374d",
   "metadata": {},
   "outputs": [
    {
     "data": {
      "text/plain": [
       "(1470, 18)"
      ]
     },
     "execution_count": 114,
     "metadata": {},
     "output_type": "execute_result"
    }
   ],
   "source": [
    "jops.shape "
   ]
  },
  {
   "cell_type": "code",
   "execution_count": 115,
   "id": "5dab9c6f",
   "metadata": {},
   "outputs": [
    {
     "data": {
      "text/html": [
       "<div>\n",
       "<style scoped>\n",
       "    .dataframe tbody tr th:only-of-type {\n",
       "        vertical-align: middle;\n",
       "    }\n",
       "\n",
       "    .dataframe tbody tr th {\n",
       "        vertical-align: top;\n",
       "    }\n",
       "\n",
       "    .dataframe thead th {\n",
       "        text-align: right;\n",
       "    }\n",
       "</style>\n",
       "<table border=\"1\" class=\"dataframe\">\n",
       "  <thead>\n",
       "    <tr style=\"text-align: right;\">\n",
       "      <th></th>\n",
       "      <th>job_title</th>\n",
       "      <th>job_date</th>\n",
       "      <th>job_desc</th>\n",
       "      <th>job_tasks</th>\n",
       "      <th>comp_name</th>\n",
       "      <th>comp_no</th>\n",
       "      <th>comp_type</th>\n",
       "      <th>comp_size</th>\n",
       "      <th>eco_activity</th>\n",
       "      <th>qualif</th>\n",
       "      <th>region</th>\n",
       "      <th>city</th>\n",
       "      <th>benefits</th>\n",
       "      <th>contract</th>\n",
       "      <th>positions</th>\n",
       "      <th>job_post_id</th>\n",
       "      <th>exper</th>\n",
       "      <th>gender</th>\n",
       "    </tr>\n",
       "  </thead>\n",
       "  <tbody>\n",
       "    <tr>\n",
       "      <th>0</th>\n",
       "      <td>محاسب</td>\n",
       "      <td>27/05/1444</td>\n",
       "      <td>['إعداد وتنظيم مستندات الصرف ومتابعة تحصيل الإ...</td>\n",
       "      <td>['   تدقيق المطالبات المالية والتأكد من اكتمال...</td>\n",
       "      <td>شركة مقر العالم للسفريات</td>\n",
       "      <td>1-317262</td>\n",
       "      <td>خاص</td>\n",
       "      <td>متوسطة فئة أ</td>\n",
       "      <td>أنشطة وكالات السياحة والسفر</td>\n",
       "      <td>['Language data', 'اللغة الانجليزية', 'محترف']</td>\n",
       "      <td>الرياض</td>\n",
       "      <td>AR RIYADH...</td>\n",
       "      <td>['Salary', '5000.0']</td>\n",
       "      <td>دوام كامل</td>\n",
       "      <td>0 / 1</td>\n",
       "      <td>20202026350419</td>\n",
       "      <td>0 Years</td>\n",
       "      <td>both</td>\n",
       "    </tr>\n",
       "    <tr>\n",
       "      <th>1</th>\n",
       "      <td>بائع</td>\n",
       "      <td>27/05/1444</td>\n",
       "      <td>['بيع مجموعة من السلع والخدمات للعملاء، وتوفير...</td>\n",
       "      <td>['   بيع مجموعة من السلع والخدمات للعملاء.', '...</td>\n",
       "      <td>شركة عالم الكهرباء للمقاولات</td>\n",
       "      <td>4-1324428</td>\n",
       "      <td>خاص</td>\n",
       "      <td>متوسطة فئة ب</td>\n",
       "      <td>تركيب انظمة التبريد وتكييف الهواء وصيانتها واص...</td>\n",
       "      <td>NaN</td>\n",
       "      <td>المنطقة الشرقية</td>\n",
       "      <td>AD DAMMAM...</td>\n",
       "      <td>['Salary', '5000.0']</td>\n",
       "      <td>دوام كامل</td>\n",
       "      <td>0 / 3</td>\n",
       "      <td>20202026350389</td>\n",
       "      <td>0 Years</td>\n",
       "      <td>both</td>\n",
       "    </tr>\n",
       "    <tr>\n",
       "      <th>2</th>\n",
       "      <td>أخصائي عمليات موارد بشرية</td>\n",
       "      <td>27/05/1444</td>\n",
       "      <td>['تنفيذ الإجراءات والأنظمة والنماذج الخاصة بمر...</td>\n",
       "      <td>['   تنفيذ الإجراءات والأنظمة والنماذج الخاصة ...</td>\n",
       "      <td>شركه دار السلام</td>\n",
       "      <td>1-155294</td>\n",
       "      <td>خاص</td>\n",
       "      <td>متوسطة فئة أ</td>\n",
       "      <td>ترميمات المباني السكنية والغير سكنية</td>\n",
       "      <td>['Language data', 'الانجليزيه', 'محترف']</td>\n",
       "      <td>الرياض</td>\n",
       "      <td>ATH THUMA...</td>\n",
       "      <td>['Salary', '4000.0']</td>\n",
       "      <td>دوام كامل</td>\n",
       "      <td>0 / 2</td>\n",
       "      <td>20202026350347</td>\n",
       "      <td>2 Years</td>\n",
       "      <td>both</td>\n",
       "    </tr>\n",
       "    <tr>\n",
       "      <th>3</th>\n",
       "      <td>ميكانيكي سيارات</td>\n",
       "      <td>27/05/1444</td>\n",
       "      <td>['تشخيص أعطال السيارات وإصلاحها وتنفيذ برامج ا...</td>\n",
       "      <td>['   فحص أداء المعدّات الكهربائية والميكانيكية...</td>\n",
       "      <td>مؤسسة لمكو لغيار الزيوت</td>\n",
       "      <td>8-1925495</td>\n",
       "      <td>خاص</td>\n",
       "      <td>صغيرة فئة ب</td>\n",
       "      <td>NaN</td>\n",
       "      <td>['Skill data', 'صيانة السيارات وتقييم الاعطال'...</td>\n",
       "      <td>المنطقة الشرقية</td>\n",
       "      <td>AL HUFUF...</td>\n",
       "      <td>['Salary', '5000.0']</td>\n",
       "      <td>دوام كامل</td>\n",
       "      <td>0 / 10</td>\n",
       "      <td>20202026350219</td>\n",
       "      <td>0 Years</td>\n",
       "      <td>M</td>\n",
       "    </tr>\n",
       "    <tr>\n",
       "      <th>4</th>\n",
       "      <td>محاسب</td>\n",
       "      <td>27/05/1444</td>\n",
       "      <td>['إعداد وتنظيم مستندات الصرف ومتابعة تحصيل الإ...</td>\n",
       "      <td>['   تدقيق المطالبات المالية والتأكد من اكتمال...</td>\n",
       "      <td>مؤسسة فكرة اليمامة للمقاولات</td>\n",
       "      <td>1-2356639</td>\n",
       "      <td>خاص</td>\n",
       "      <td>كبيرة</td>\n",
       "      <td>الإنشاءات العامة للمباني السكنية</td>\n",
       "      <td>['Skill data', 'تحمل ضغط العمل', 'محترف', 'Lan...</td>\n",
       "      <td>الرياض</td>\n",
       "      <td>AR RIYADH...</td>\n",
       "      <td>['Salary', '5000.0']</td>\n",
       "      <td>دوام كامل</td>\n",
       "      <td>0 / 1</td>\n",
       "      <td>20202026350043</td>\n",
       "      <td>0 Years</td>\n",
       "      <td>both</td>\n",
       "    </tr>\n",
       "  </tbody>\n",
       "</table>\n",
       "</div>"
      ],
      "text/plain": [
       "                   job_title    job_date  \\\n",
       "0                      محاسب  27/05/1444   \n",
       "1                       بائع  27/05/1444   \n",
       "2  أخصائي عمليات موارد بشرية  27/05/1444   \n",
       "3            ميكانيكي سيارات  27/05/1444   \n",
       "4                      محاسب  27/05/1444   \n",
       "\n",
       "                                            job_desc  \\\n",
       "0  ['إعداد وتنظيم مستندات الصرف ومتابعة تحصيل الإ...   \n",
       "1  ['بيع مجموعة من السلع والخدمات للعملاء، وتوفير...   \n",
       "2  ['تنفيذ الإجراءات والأنظمة والنماذج الخاصة بمر...   \n",
       "3  ['تشخيص أعطال السيارات وإصلاحها وتنفيذ برامج ا...   \n",
       "4  ['إعداد وتنظيم مستندات الصرف ومتابعة تحصيل الإ...   \n",
       "\n",
       "                                           job_tasks  \\\n",
       "0  ['   تدقيق المطالبات المالية والتأكد من اكتمال...   \n",
       "1  ['   بيع مجموعة من السلع والخدمات للعملاء.', '...   \n",
       "2  ['   تنفيذ الإجراءات والأنظمة والنماذج الخاصة ...   \n",
       "3  ['   فحص أداء المعدّات الكهربائية والميكانيكية...   \n",
       "4  ['   تدقيق المطالبات المالية والتأكد من اكتمال...   \n",
       "\n",
       "                      comp_name    comp_no comp_type     comp_size  \\\n",
       "0      شركة مقر العالم للسفريات   1-317262       خاص  متوسطة فئة أ   \n",
       "1  شركة عالم الكهرباء للمقاولات  4-1324428       خاص  متوسطة فئة ب   \n",
       "2               شركه دار السلام   1-155294       خاص  متوسطة فئة أ   \n",
       "3       مؤسسة لمكو لغيار الزيوت  8-1925495       خاص   صغيرة فئة ب   \n",
       "4  مؤسسة فكرة اليمامة للمقاولات  1-2356639       خاص         كبيرة   \n",
       "\n",
       "                                        eco_activity  \\\n",
       "0                        أنشطة وكالات السياحة والسفر   \n",
       "1  تركيب انظمة التبريد وتكييف الهواء وصيانتها واص...   \n",
       "2               ترميمات المباني السكنية والغير سكنية   \n",
       "3                                                NaN   \n",
       "4                   الإنشاءات العامة للمباني السكنية   \n",
       "\n",
       "                                              qualif           region  \\\n",
       "0     ['Language data', 'اللغة الانجليزية', 'محترف']           الرياض   \n",
       "1                                                NaN  المنطقة الشرقية   \n",
       "2           ['Language data', 'الانجليزيه', 'محترف']           الرياض   \n",
       "3  ['Skill data', 'صيانة السيارات وتقييم الاعطال'...  المنطقة الشرقية   \n",
       "4  ['Skill data', 'تحمل ضغط العمل', 'محترف', 'Lan...           الرياض   \n",
       "\n",
       "           city              benefits   contract positions     job_post_id  \\\n",
       "0  AR RIYADH...  ['Salary', '5000.0']  دوام كامل     0 / 1  20202026350419   \n",
       "1  AD DAMMAM...  ['Salary', '5000.0']  دوام كامل     0 / 3  20202026350389   \n",
       "2  ATH THUMA...  ['Salary', '4000.0']  دوام كامل     0 / 2  20202026350347   \n",
       "3   AL HUFUF...  ['Salary', '5000.0']  دوام كامل    0 / 10  20202026350219   \n",
       "4  AR RIYADH...  ['Salary', '5000.0']  دوام كامل     0 / 1  20202026350043   \n",
       "\n",
       "     exper gender  \n",
       "0  0 Years   both  \n",
       "1  0 Years   both  \n",
       "2  2 Years   both  \n",
       "3  0 Years      M  \n",
       "4  0 Years   both  "
      ]
     },
     "execution_count": 115,
     "metadata": {},
     "output_type": "execute_result"
    }
   ],
   "source": [
    "jops.head(5)"
   ]
  },
  {
   "cell_type": "code",
   "execution_count": null,
   "id": "3ceeeb37",
   "metadata": {},
   "outputs": [],
   "source": []
  },
  {
   "cell_type": "markdown",
   "id": "bd2b5bc4-db37-4432-b666-0714afd0c4ca",
   "metadata": {},
   "source": [
    "## 1. Data Profiling:\n",
    "Data profiling is a comprehensive process of examining the data available in an existing dataset and collecting statistics and information about that data. "
   ]
  },
  {
   "cell_type": "code",
   "execution_count": 11,
   "id": "693cdaa7",
   "metadata": {},
   "outputs": [
    {
     "data": {
      "text/html": [
       "<div>\n",
       "<style scoped>\n",
       "    .dataframe tbody tr th:only-of-type {\n",
       "        vertical-align: middle;\n",
       "    }\n",
       "\n",
       "    .dataframe tbody tr th {\n",
       "        vertical-align: top;\n",
       "    }\n",
       "\n",
       "    .dataframe thead th {\n",
       "        text-align: right;\n",
       "    }\n",
       "</style>\n",
       "<table border=\"1\" class=\"dataframe\">\n",
       "  <thead>\n",
       "    <tr style=\"text-align: right;\">\n",
       "      <th></th>\n",
       "      <th>job_title</th>\n",
       "      <th>job_date</th>\n",
       "      <th>job_desc</th>\n",
       "      <th>job_tasks</th>\n",
       "      <th>comp_name</th>\n",
       "      <th>comp_no</th>\n",
       "      <th>comp_type</th>\n",
       "      <th>comp_size</th>\n",
       "      <th>eco_activity</th>\n",
       "      <th>qualif</th>\n",
       "      <th>region</th>\n",
       "      <th>city</th>\n",
       "      <th>benefits</th>\n",
       "      <th>contract</th>\n",
       "      <th>positions</th>\n",
       "      <th>job_post_id</th>\n",
       "      <th>exper</th>\n",
       "      <th>gender</th>\n",
       "    </tr>\n",
       "  </thead>\n",
       "  <tbody>\n",
       "    <tr>\n",
       "      <th>0</th>\n",
       "      <td>محاسب</td>\n",
       "      <td>27/05/1444</td>\n",
       "      <td>['إعداد وتنظيم مستندات الصرف ومتابعة تحصيل الإ...</td>\n",
       "      <td>['   تدقيق المطالبات المالية والتأكد من اكتمال...</td>\n",
       "      <td>شركة مقر العالم للسفريات</td>\n",
       "      <td>1-317262</td>\n",
       "      <td>خاص</td>\n",
       "      <td>متوسطة فئة أ</td>\n",
       "      <td>أنشطة وكالات السياحة والسفر</td>\n",
       "      <td>['Language data', 'اللغة الانجليزية', 'محترف']</td>\n",
       "      <td>الرياض</td>\n",
       "      <td>AR RIYADH...</td>\n",
       "      <td>['Salary', '5000.0']</td>\n",
       "      <td>دوام كامل</td>\n",
       "      <td>0 / 1</td>\n",
       "      <td>20202026350419</td>\n",
       "      <td>0 Years</td>\n",
       "      <td>both</td>\n",
       "    </tr>\n",
       "    <tr>\n",
       "      <th>1</th>\n",
       "      <td>بائع</td>\n",
       "      <td>27/05/1444</td>\n",
       "      <td>['بيع مجموعة من السلع والخدمات للعملاء، وتوفير...</td>\n",
       "      <td>['   بيع مجموعة من السلع والخدمات للعملاء.', '...</td>\n",
       "      <td>شركة عالم الكهرباء للمقاولات</td>\n",
       "      <td>4-1324428</td>\n",
       "      <td>خاص</td>\n",
       "      <td>متوسطة فئة ب</td>\n",
       "      <td>تركيب انظمة التبريد وتكييف الهواء وصيانتها واص...</td>\n",
       "      <td>NaN</td>\n",
       "      <td>المنطقة الشرقية</td>\n",
       "      <td>AD DAMMAM...</td>\n",
       "      <td>['Salary', '5000.0']</td>\n",
       "      <td>دوام كامل</td>\n",
       "      <td>0 / 3</td>\n",
       "      <td>20202026350389</td>\n",
       "      <td>0 Years</td>\n",
       "      <td>both</td>\n",
       "    </tr>\n",
       "  </tbody>\n",
       "</table>\n",
       "</div>"
      ],
      "text/plain": [
       "  job_title    job_date                                           job_desc  \\\n",
       "0     محاسب  27/05/1444  ['إعداد وتنظيم مستندات الصرف ومتابعة تحصيل الإ...   \n",
       "1      بائع  27/05/1444  ['بيع مجموعة من السلع والخدمات للعملاء، وتوفير...   \n",
       "\n",
       "                                           job_tasks  \\\n",
       "0  ['   تدقيق المطالبات المالية والتأكد من اكتمال...   \n",
       "1  ['   بيع مجموعة من السلع والخدمات للعملاء.', '...   \n",
       "\n",
       "                      comp_name    comp_no comp_type     comp_size  \\\n",
       "0      شركة مقر العالم للسفريات   1-317262       خاص  متوسطة فئة أ   \n",
       "1  شركة عالم الكهرباء للمقاولات  4-1324428       خاص  متوسطة فئة ب   \n",
       "\n",
       "                                        eco_activity  \\\n",
       "0                        أنشطة وكالات السياحة والسفر   \n",
       "1  تركيب انظمة التبريد وتكييف الهواء وصيانتها واص...   \n",
       "\n",
       "                                           qualif           region  \\\n",
       "0  ['Language data', 'اللغة الانجليزية', 'محترف']           الرياض   \n",
       "1                                             NaN  المنطقة الشرقية   \n",
       "\n",
       "           city              benefits   contract positions     job_post_id  \\\n",
       "0  AR RIYADH...  ['Salary', '5000.0']  دوام كامل     0 / 1  20202026350419   \n",
       "1  AD DAMMAM...  ['Salary', '5000.0']  دوام كامل     0 / 3  20202026350389   \n",
       "\n",
       "     exper gender  \n",
       "0  0 Years   both  \n",
       "1  0 Years   both  "
      ]
     },
     "execution_count": 11,
     "metadata": {},
     "output_type": "execute_result"
    }
   ],
   "source": [
    "jops.head(2)"
   ]
  },
  {
   "cell_type": "code",
   "execution_count": 116,
   "id": "545b085a",
   "metadata": {},
   "outputs": [
    {
     "name": "stdout",
     "output_type": "stream",
     "text": [
      "<class 'pandas.core.frame.DataFrame'>\n",
      "RangeIndex: 1470 entries, 0 to 1469\n",
      "Data columns (total 18 columns):\n",
      " #   Column        Non-Null Count  Dtype \n",
      "---  ------        --------------  ----- \n",
      " 0   job_title     1470 non-null   object\n",
      " 1   job_date      1470 non-null   object\n",
      " 2   job_desc      1470 non-null   object\n",
      " 3   job_tasks     1470 non-null   object\n",
      " 4   comp_name     1470 non-null   object\n",
      " 5   comp_no       1470 non-null   object\n",
      " 6   comp_type     1470 non-null   object\n",
      " 7   comp_size     1456 non-null   object\n",
      " 8   eco_activity  1380 non-null   object\n",
      " 9   qualif        780 non-null    object\n",
      " 10  region        1470 non-null   object\n",
      " 11  city          1470 non-null   object\n",
      " 12  benefits      1470 non-null   object\n",
      " 13  contract      1470 non-null   object\n",
      " 14  positions     1470 non-null   object\n",
      " 15  job_post_id   1470 non-null   int64 \n",
      " 16  exper         1470 non-null   object\n",
      " 17  gender        1470 non-null   object\n",
      "dtypes: int64(1), object(17)\n",
      "memory usage: 206.8+ KB\n"
     ]
    }
   ],
   "source": [
    "jops.info()"
   ]
  },
  {
   "cell_type": "markdown",
   "id": "834929aa-fd6a-4ec5-84d4-77c4b3c1a506",
   "metadata": {},
   "source": [
    "The process of profiling differs slightly for categorical and numerical variables due to their inherent differences.\n",
    "\n",
    "**The two main types of data are:**\n",
    "- Quantitative (numerical) data\n",
    "- Qualitative (categorical) data"
   ]
  },
  {
   "cell_type": "markdown",
   "id": "3a9954f5-6fbc-45b4-ad86-3e21b6e0ca2d",
   "metadata": {},
   "source": [
    "### Data Quality Checks\n",
    "Data quality checks involve the process of ensuring that the data is accurate, complete, consistent, relevant, and reliable. \n",
    "\n",
    "\n",
    "**Here are typical steps involved in checking data quality:**"
   ]
  },
  {
   "cell_type": "markdown",
   "id": "4818c876-173d-4e56-9e7d-b4334d2def25",
   "metadata": {},
   "source": [
    "#### 1. Reliability:\n",
    "Evaluate the data's source and collection process to determine its trustworthiness."
   ]
  },
  {
   "cell_type": "code",
   "execution_count": 58,
   "id": "9034ae7b-dc1d-4cba-8f9e-bb499d021cde",
   "metadata": {},
   "outputs": [],
   "source": []
  },
  {
   "cell_type": "markdown",
   "id": "2ce0cc59-8c92-4acc-8d07-c40764e1a86b",
   "metadata": {},
   "source": [
    "#### 2. Timeliness: \n",
    "Ensure the data is up-to-date and reflective of the current situation or the period of interest for the analysis."
   ]
  },
  {
   "cell_type": "code",
   "execution_count": null,
   "id": "4b78ae35-7226-4cb6-b8b2-a46c2ed17cf9",
   "metadata": {},
   "outputs": [],
   "source": []
  },
  {
   "cell_type": "markdown",
   "id": "7fab0fe2-6624-4615-b9d8-3c3669056bf8",
   "metadata": {},
   "source": [
    "#### 3. Consistency: \n",
    "\n",
    "Confirm that the data is consistent within the dataset and across multiple data sources. For example, the same data point should not have different values in different places.\n"
   ]
  },
  {
   "cell_type": "code",
   "execution_count": 117,
   "id": "7fecc573-959f-4800-8ddd-a67985c68b18",
   "metadata": {},
   "outputs": [],
   "source": [
    "jops = jops.apply(lambda x: x.str.strip() if x.dtype == \"object\" else x)\n"
   ]
  },
  {
   "cell_type": "markdown",
   "id": "bec3d183-bba0-4b12-b963-487daab1e876",
   "metadata": {},
   "source": [
    "#### 4. Relevance: \n",
    "Assess whether the data is appropriate and applicable for the intended analysis. Data that is not relevant can skew results and lead to incorrect conclusions.\n",
    "\n",
    "**Key considerations for relevance include:**\n",
    "\n",
    "> 1. Sample Appropriateness: Confirm that your data sample aligns with your analysis objectives. For instance, utilizing data from the Northern region will not yield accurate insights for the Western region of the Kingdom.\n",
    ">\n",
    "> 2. Variable Selection: Any column will not be relevant for our analysis, we can get rid of these using the drop() method. We will set the “axis” argument to 1 since we’re dealing with columns, and set the “inplace” argument to True to make the change permanent.\n"
   ]
  },
  {
   "cell_type": "code",
   "execution_count": null,
   "id": "a0b10860",
   "metadata": {},
   "outputs": [],
   "source": []
  },
  {
   "cell_type": "code",
   "execution_count": 118,
   "id": "50a934b7-a0cd-443f-8a27-f10e9a6e8647",
   "metadata": {
    "scrolled": true
   },
   "outputs": [],
   "source": [
    "jops = jops.drop(columns=['qualif'], errors='ignore')"
   ]
  },
  {
   "cell_type": "code",
   "execution_count": 119,
   "id": "804e93dc",
   "metadata": {},
   "outputs": [
    {
     "data": {
      "text/html": [
       "<div>\n",
       "<style scoped>\n",
       "    .dataframe tbody tr th:only-of-type {\n",
       "        vertical-align: middle;\n",
       "    }\n",
       "\n",
       "    .dataframe tbody tr th {\n",
       "        vertical-align: top;\n",
       "    }\n",
       "\n",
       "    .dataframe thead th {\n",
       "        text-align: right;\n",
       "    }\n",
       "</style>\n",
       "<table border=\"1\" class=\"dataframe\">\n",
       "  <thead>\n",
       "    <tr style=\"text-align: right;\">\n",
       "      <th></th>\n",
       "      <th>job_title</th>\n",
       "      <th>job_date</th>\n",
       "      <th>job_desc</th>\n",
       "      <th>job_tasks</th>\n",
       "      <th>comp_name</th>\n",
       "      <th>comp_no</th>\n",
       "      <th>comp_type</th>\n",
       "      <th>comp_size</th>\n",
       "      <th>eco_activity</th>\n",
       "      <th>region</th>\n",
       "      <th>city</th>\n",
       "      <th>benefits</th>\n",
       "      <th>contract</th>\n",
       "      <th>positions</th>\n",
       "      <th>job_post_id</th>\n",
       "      <th>exper</th>\n",
       "      <th>gender</th>\n",
       "    </tr>\n",
       "  </thead>\n",
       "  <tbody>\n",
       "    <tr>\n",
       "      <th>0</th>\n",
       "      <td>محاسب</td>\n",
       "      <td>27/05/1444</td>\n",
       "      <td>['إعداد وتنظيم مستندات الصرف ومتابعة تحصيل الإ...</td>\n",
       "      <td>['   تدقيق المطالبات المالية والتأكد من اكتمال...</td>\n",
       "      <td>شركة مقر العالم للسفريات</td>\n",
       "      <td>1-317262</td>\n",
       "      <td>خاص</td>\n",
       "      <td>متوسطة فئة أ</td>\n",
       "      <td>أنشطة وكالات السياحة والسفر</td>\n",
       "      <td>الرياض</td>\n",
       "      <td>AR RIYADH...</td>\n",
       "      <td>['Salary', '5000.0']</td>\n",
       "      <td>دوام كامل</td>\n",
       "      <td>0 / 1</td>\n",
       "      <td>20202026350419</td>\n",
       "      <td>0 Years</td>\n",
       "      <td>both</td>\n",
       "    </tr>\n",
       "    <tr>\n",
       "      <th>1</th>\n",
       "      <td>بائع</td>\n",
       "      <td>27/05/1444</td>\n",
       "      <td>['بيع مجموعة من السلع والخدمات للعملاء، وتوفير...</td>\n",
       "      <td>['   بيع مجموعة من السلع والخدمات للعملاء.', '...</td>\n",
       "      <td>شركة عالم الكهرباء للمقاولات</td>\n",
       "      <td>4-1324428</td>\n",
       "      <td>خاص</td>\n",
       "      <td>متوسطة فئة ب</td>\n",
       "      <td>تركيب انظمة التبريد وتكييف الهواء وصيانتها واص...</td>\n",
       "      <td>المنطقة الشرقية</td>\n",
       "      <td>AD DAMMAM...</td>\n",
       "      <td>['Salary', '5000.0']</td>\n",
       "      <td>دوام كامل</td>\n",
       "      <td>0 / 3</td>\n",
       "      <td>20202026350389</td>\n",
       "      <td>0 Years</td>\n",
       "      <td>both</td>\n",
       "    </tr>\n",
       "  </tbody>\n",
       "</table>\n",
       "</div>"
      ],
      "text/plain": [
       "  job_title    job_date                                           job_desc  \\\n",
       "0     محاسب  27/05/1444  ['إعداد وتنظيم مستندات الصرف ومتابعة تحصيل الإ...   \n",
       "1      بائع  27/05/1444  ['بيع مجموعة من السلع والخدمات للعملاء، وتوفير...   \n",
       "\n",
       "                                           job_tasks  \\\n",
       "0  ['   تدقيق المطالبات المالية والتأكد من اكتمال...   \n",
       "1  ['   بيع مجموعة من السلع والخدمات للعملاء.', '...   \n",
       "\n",
       "                      comp_name    comp_no comp_type     comp_size  \\\n",
       "0      شركة مقر العالم للسفريات   1-317262       خاص  متوسطة فئة أ   \n",
       "1  شركة عالم الكهرباء للمقاولات  4-1324428       خاص  متوسطة فئة ب   \n",
       "\n",
       "                                        eco_activity           region  \\\n",
       "0                        أنشطة وكالات السياحة والسفر           الرياض   \n",
       "1  تركيب انظمة التبريد وتكييف الهواء وصيانتها واص...  المنطقة الشرقية   \n",
       "\n",
       "           city              benefits   contract positions     job_post_id  \\\n",
       "0  AR RIYADH...  ['Salary', '5000.0']  دوام كامل     0 / 1  20202026350419   \n",
       "1  AD DAMMAM...  ['Salary', '5000.0']  دوام كامل     0 / 3  20202026350389   \n",
       "\n",
       "     exper gender  \n",
       "0  0 Years   both  \n",
       "1  0 Years   both  "
      ]
     },
     "execution_count": 119,
     "metadata": {},
     "output_type": "execute_result"
    }
   ],
   "source": [
    "jops.head(2)"
   ]
  },
  {
   "cell_type": "markdown",
   "id": "0f5e3a2a-bbb7-4d06-8220-c93277b70146",
   "metadata": {},
   "source": [
    "#### 5. Uniqueness: \n",
    "Check for and remove duplicate records to prevent skewed analysis results.\n"
   ]
  },
  {
   "cell_type": "code",
   "execution_count": 120,
   "id": "a509a7aa-58f4-4d39-8eb8-e8298a21f2a7",
   "metadata": {},
   "outputs": [
    {
     "data": {
      "text/html": [
       "<div>\n",
       "<style scoped>\n",
       "    .dataframe tbody tr th:only-of-type {\n",
       "        vertical-align: middle;\n",
       "    }\n",
       "\n",
       "    .dataframe tbody tr th {\n",
       "        vertical-align: top;\n",
       "    }\n",
       "\n",
       "    .dataframe thead th {\n",
       "        text-align: right;\n",
       "    }\n",
       "</style>\n",
       "<table border=\"1\" class=\"dataframe\">\n",
       "  <thead>\n",
       "    <tr style=\"text-align: right;\">\n",
       "      <th></th>\n",
       "      <th>job_title</th>\n",
       "      <th>job_date</th>\n",
       "      <th>job_desc</th>\n",
       "      <th>job_tasks</th>\n",
       "      <th>comp_name</th>\n",
       "      <th>comp_no</th>\n",
       "      <th>comp_type</th>\n",
       "      <th>comp_size</th>\n",
       "      <th>eco_activity</th>\n",
       "      <th>region</th>\n",
       "      <th>city</th>\n",
       "      <th>benefits</th>\n",
       "      <th>contract</th>\n",
       "      <th>positions</th>\n",
       "      <th>job_post_id</th>\n",
       "      <th>exper</th>\n",
       "      <th>gender</th>\n",
       "    </tr>\n",
       "  </thead>\n",
       "  <tbody>\n",
       "    <tr>\n",
       "      <th>1467</th>\n",
       "      <td>صيدلي</td>\n",
       "      <td>18/06/1444</td>\n",
       "      <td>['دراسة التركيبات الدوائية للعقاقير والعلاجات ...</td>\n",
       "      <td>['   دراسة مواصفات وتركيبات الادوية والعقاقير ...</td>\n",
       "      <td>شركة تقنية الدواجن والألبان للتجارة</td>\n",
       "      <td>1-2415250</td>\n",
       "      <td>خاص</td>\n",
       "      <td>صغيرة فئة ب</td>\n",
       "      <td>NaN</td>\n",
       "      <td>الرياض</td>\n",
       "      <td>AR RIYADH...</td>\n",
       "      <td>['Salary', '7000.0']</td>\n",
       "      <td>دوام كامل</td>\n",
       "      <td>0 / 1</td>\n",
       "      <td>20202026399061</td>\n",
       "      <td>0 Years</td>\n",
       "      <td>both</td>\n",
       "    </tr>\n",
       "    <tr>\n",
       "      <th>1469</th>\n",
       "      <td>صيدلي</td>\n",
       "      <td>18/06/1444</td>\n",
       "      <td>['دراسة التركيبات الدوائية للعقاقير والعلاجات ...</td>\n",
       "      <td>['   دراسة مواصفات وتركيبات الادوية والعقاقير ...</td>\n",
       "      <td>شركة تقنية الدواجن والألبان للتجارة</td>\n",
       "      <td>1-2415250</td>\n",
       "      <td>خاص</td>\n",
       "      <td>صغيرة فئة ب</td>\n",
       "      <td>NaN</td>\n",
       "      <td>الرياض</td>\n",
       "      <td>AR RIYADH...</td>\n",
       "      <td>['Salary', '7000.0']</td>\n",
       "      <td>دوام كامل</td>\n",
       "      <td>0 / 1</td>\n",
       "      <td>20202026399061</td>\n",
       "      <td>0 Years</td>\n",
       "      <td>both</td>\n",
       "    </tr>\n",
       "  </tbody>\n",
       "</table>\n",
       "</div>"
      ],
      "text/plain": [
       "     job_title    job_date                                           job_desc  \\\n",
       "1467     صيدلي  18/06/1444  ['دراسة التركيبات الدوائية للعقاقير والعلاجات ...   \n",
       "1469     صيدلي  18/06/1444  ['دراسة التركيبات الدوائية للعقاقير والعلاجات ...   \n",
       "\n",
       "                                              job_tasks  \\\n",
       "1467  ['   دراسة مواصفات وتركيبات الادوية والعقاقير ...   \n",
       "1469  ['   دراسة مواصفات وتركيبات الادوية والعقاقير ...   \n",
       "\n",
       "                                comp_name    comp_no comp_type    comp_size  \\\n",
       "1467  شركة تقنية الدواجن والألبان للتجارة  1-2415250       خاص  صغيرة فئة ب   \n",
       "1469  شركة تقنية الدواجن والألبان للتجارة  1-2415250       خاص  صغيرة فئة ب   \n",
       "\n",
       "     eco_activity  region          city              benefits   contract  \\\n",
       "1467          NaN  الرياض  AR RIYADH...  ['Salary', '7000.0']  دوام كامل   \n",
       "1469          NaN  الرياض  AR RIYADH...  ['Salary', '7000.0']  دوام كامل   \n",
       "\n",
       "     positions     job_post_id    exper gender  \n",
       "1467     0 / 1  20202026399061  0 Years   both  \n",
       "1469     0 / 1  20202026399061  0 Years   both  "
      ]
     },
     "execution_count": 120,
     "metadata": {},
     "output_type": "execute_result"
    }
   ],
   "source": [
    "jops[jops.duplicated(keep = False)]"
   ]
  },
  {
   "cell_type": "code",
   "execution_count": 121,
   "id": "2db56278",
   "metadata": {},
   "outputs": [],
   "source": [
    "jops = jops.drop_duplicates().reset_index(drop=True)"
   ]
  },
  {
   "cell_type": "code",
   "execution_count": 122,
   "id": "8077874a",
   "metadata": {},
   "outputs": [
    {
     "data": {
      "text/html": [
       "<div>\n",
       "<style scoped>\n",
       "    .dataframe tbody tr th:only-of-type {\n",
       "        vertical-align: middle;\n",
       "    }\n",
       "\n",
       "    .dataframe tbody tr th {\n",
       "        vertical-align: top;\n",
       "    }\n",
       "\n",
       "    .dataframe thead th {\n",
       "        text-align: right;\n",
       "    }\n",
       "</style>\n",
       "<table border=\"1\" class=\"dataframe\">\n",
       "  <thead>\n",
       "    <tr style=\"text-align: right;\">\n",
       "      <th></th>\n",
       "      <th>job_title</th>\n",
       "      <th>job_date</th>\n",
       "      <th>job_desc</th>\n",
       "      <th>job_tasks</th>\n",
       "      <th>comp_name</th>\n",
       "      <th>comp_no</th>\n",
       "      <th>comp_type</th>\n",
       "      <th>comp_size</th>\n",
       "      <th>eco_activity</th>\n",
       "      <th>region</th>\n",
       "      <th>city</th>\n",
       "      <th>benefits</th>\n",
       "      <th>contract</th>\n",
       "      <th>positions</th>\n",
       "      <th>job_post_id</th>\n",
       "      <th>exper</th>\n",
       "      <th>gender</th>\n",
       "    </tr>\n",
       "  </thead>\n",
       "  <tbody>\n",
       "  </tbody>\n",
       "</table>\n",
       "</div>"
      ],
      "text/plain": [
       "Empty DataFrame\n",
       "Columns: [job_title, job_date, job_desc, job_tasks, comp_name, comp_no, comp_type, comp_size, eco_activity, region, city, benefits, contract, positions, job_post_id, exper, gender]\n",
       "Index: []"
      ]
     },
     "execution_count": 122,
     "metadata": {},
     "output_type": "execute_result"
    }
   ],
   "source": [
    "jops[jops.duplicated(keep = False)]"
   ]
  },
  {
   "cell_type": "code",
   "execution_count": 123,
   "id": "c42f88fa",
   "metadata": {},
   "outputs": [],
   "source": [
    "duplicated_jobs = jops[jops['job_post_id'].duplicated(keep=False)]"
   ]
  },
  {
   "cell_type": "code",
   "execution_count": 124,
   "id": "901a3e1e",
   "metadata": {},
   "outputs": [
    {
     "data": {
      "text/html": [
       "<div>\n",
       "<style scoped>\n",
       "    .dataframe tbody tr th:only-of-type {\n",
       "        vertical-align: middle;\n",
       "    }\n",
       "\n",
       "    .dataframe tbody tr th {\n",
       "        vertical-align: top;\n",
       "    }\n",
       "\n",
       "    .dataframe thead th {\n",
       "        text-align: right;\n",
       "    }\n",
       "</style>\n",
       "<table border=\"1\" class=\"dataframe\">\n",
       "  <thead>\n",
       "    <tr style=\"text-align: right;\">\n",
       "      <th></th>\n",
       "      <th>job_post_id</th>\n",
       "      <th>count</th>\n",
       "    </tr>\n",
       "  </thead>\n",
       "  <tbody>\n",
       "    <tr>\n",
       "      <th>0</th>\n",
       "      <td>20202026271430</td>\n",
       "      <td>2</td>\n",
       "    </tr>\n",
       "    <tr>\n",
       "      <th>1</th>\n",
       "      <td>20202026274543</td>\n",
       "      <td>2</td>\n",
       "    </tr>\n",
       "    <tr>\n",
       "      <th>2</th>\n",
       "      <td>20202026275555</td>\n",
       "      <td>2</td>\n",
       "    </tr>\n",
       "    <tr>\n",
       "      <th>3</th>\n",
       "      <td>20202026276207</td>\n",
       "      <td>2</td>\n",
       "    </tr>\n",
       "    <tr>\n",
       "      <th>4</th>\n",
       "      <td>20202026310433</td>\n",
       "      <td>2</td>\n",
       "    </tr>\n",
       "    <tr>\n",
       "      <th>5</th>\n",
       "      <td>20202026310544</td>\n",
       "      <td>2</td>\n",
       "    </tr>\n",
       "    <tr>\n",
       "      <th>6</th>\n",
       "      <td>20202026310906</td>\n",
       "      <td>2</td>\n",
       "    </tr>\n",
       "    <tr>\n",
       "      <th>7</th>\n",
       "      <td>20202026334277</td>\n",
       "      <td>2</td>\n",
       "    </tr>\n",
       "    <tr>\n",
       "      <th>8</th>\n",
       "      <td>20202026346650</td>\n",
       "      <td>2</td>\n",
       "    </tr>\n",
       "    <tr>\n",
       "      <th>9</th>\n",
       "      <td>20202026346669</td>\n",
       "      <td>2</td>\n",
       "    </tr>\n",
       "    <tr>\n",
       "      <th>10</th>\n",
       "      <td>20202026346708</td>\n",
       "      <td>2</td>\n",
       "    </tr>\n",
       "    <tr>\n",
       "      <th>11</th>\n",
       "      <td>20202026346794</td>\n",
       "      <td>2</td>\n",
       "    </tr>\n",
       "    <tr>\n",
       "      <th>12</th>\n",
       "      <td>20202026346827</td>\n",
       "      <td>2</td>\n",
       "    </tr>\n",
       "    <tr>\n",
       "      <th>13</th>\n",
       "      <td>20202026346879</td>\n",
       "      <td>2</td>\n",
       "    </tr>\n",
       "    <tr>\n",
       "      <th>14</th>\n",
       "      <td>20202026346891</td>\n",
       "      <td>2</td>\n",
       "    </tr>\n",
       "    <tr>\n",
       "      <th>15</th>\n",
       "      <td>20202026347650</td>\n",
       "      <td>2</td>\n",
       "    </tr>\n",
       "    <tr>\n",
       "      <th>16</th>\n",
       "      <td>20202026351412</td>\n",
       "      <td>2</td>\n",
       "    </tr>\n",
       "    <tr>\n",
       "      <th>17</th>\n",
       "      <td>20202026351483</td>\n",
       "      <td>2</td>\n",
       "    </tr>\n",
       "    <tr>\n",
       "      <th>18</th>\n",
       "      <td>20202026357229</td>\n",
       "      <td>2</td>\n",
       "    </tr>\n",
       "    <tr>\n",
       "      <th>19</th>\n",
       "      <td>20202026368859</td>\n",
       "      <td>2</td>\n",
       "    </tr>\n",
       "    <tr>\n",
       "      <th>20</th>\n",
       "      <td>20202026368869</td>\n",
       "      <td>2</td>\n",
       "    </tr>\n",
       "    <tr>\n",
       "      <th>21</th>\n",
       "      <td>20202026372013</td>\n",
       "      <td>2</td>\n",
       "    </tr>\n",
       "    <tr>\n",
       "      <th>22</th>\n",
       "      <td>20202026373225</td>\n",
       "      <td>2</td>\n",
       "    </tr>\n",
       "    <tr>\n",
       "      <th>23</th>\n",
       "      <td>20202026373486</td>\n",
       "      <td>2</td>\n",
       "    </tr>\n",
       "    <tr>\n",
       "      <th>24</th>\n",
       "      <td>20202026373677</td>\n",
       "      <td>2</td>\n",
       "    </tr>\n",
       "    <tr>\n",
       "      <th>25</th>\n",
       "      <td>20202026373876</td>\n",
       "      <td>2</td>\n",
       "    </tr>\n",
       "    <tr>\n",
       "      <th>26</th>\n",
       "      <td>20202026373948</td>\n",
       "      <td>2</td>\n",
       "    </tr>\n",
       "    <tr>\n",
       "      <th>27</th>\n",
       "      <td>20202026373950</td>\n",
       "      <td>2</td>\n",
       "    </tr>\n",
       "    <tr>\n",
       "      <th>28</th>\n",
       "      <td>20202026374077</td>\n",
       "      <td>2</td>\n",
       "    </tr>\n",
       "    <tr>\n",
       "      <th>29</th>\n",
       "      <td>20202026374445</td>\n",
       "      <td>2</td>\n",
       "    </tr>\n",
       "    <tr>\n",
       "      <th>30</th>\n",
       "      <td>20202026374877</td>\n",
       "      <td>2</td>\n",
       "    </tr>\n",
       "    <tr>\n",
       "      <th>31</th>\n",
       "      <td>20202026374934</td>\n",
       "      <td>2</td>\n",
       "    </tr>\n",
       "    <tr>\n",
       "      <th>32</th>\n",
       "      <td>20202026374956</td>\n",
       "      <td>2</td>\n",
       "    </tr>\n",
       "    <tr>\n",
       "      <th>33</th>\n",
       "      <td>20202026375235</td>\n",
       "      <td>2</td>\n",
       "    </tr>\n",
       "    <tr>\n",
       "      <th>34</th>\n",
       "      <td>20202026375465</td>\n",
       "      <td>3</td>\n",
       "    </tr>\n",
       "    <tr>\n",
       "      <th>35</th>\n",
       "      <td>20202026375503</td>\n",
       "      <td>3</td>\n",
       "    </tr>\n",
       "    <tr>\n",
       "      <th>36</th>\n",
       "      <td>20202026375557</td>\n",
       "      <td>2</td>\n",
       "    </tr>\n",
       "    <tr>\n",
       "      <th>37</th>\n",
       "      <td>20202026375917</td>\n",
       "      <td>2</td>\n",
       "    </tr>\n",
       "    <tr>\n",
       "      <th>38</th>\n",
       "      <td>20202026375932</td>\n",
       "      <td>2</td>\n",
       "    </tr>\n",
       "    <tr>\n",
       "      <th>39</th>\n",
       "      <td>20202026375963</td>\n",
       "      <td>2</td>\n",
       "    </tr>\n",
       "    <tr>\n",
       "      <th>40</th>\n",
       "      <td>20202026375968</td>\n",
       "      <td>2</td>\n",
       "    </tr>\n",
       "    <tr>\n",
       "      <th>41</th>\n",
       "      <td>20202026375986</td>\n",
       "      <td>2</td>\n",
       "    </tr>\n",
       "    <tr>\n",
       "      <th>42</th>\n",
       "      <td>20202026376035</td>\n",
       "      <td>2</td>\n",
       "    </tr>\n",
       "    <tr>\n",
       "      <th>43</th>\n",
       "      <td>20202026376399</td>\n",
       "      <td>2</td>\n",
       "    </tr>\n",
       "    <tr>\n",
       "      <th>44</th>\n",
       "      <td>20202026376484</td>\n",
       "      <td>2</td>\n",
       "    </tr>\n",
       "    <tr>\n",
       "      <th>45</th>\n",
       "      <td>20202026376581</td>\n",
       "      <td>2</td>\n",
       "    </tr>\n",
       "    <tr>\n",
       "      <th>46</th>\n",
       "      <td>20202026376631</td>\n",
       "      <td>2</td>\n",
       "    </tr>\n",
       "    <tr>\n",
       "      <th>47</th>\n",
       "      <td>20202026376639</td>\n",
       "      <td>2</td>\n",
       "    </tr>\n",
       "    <tr>\n",
       "      <th>48</th>\n",
       "      <td>20202026376645</td>\n",
       "      <td>2</td>\n",
       "    </tr>\n",
       "    <tr>\n",
       "      <th>49</th>\n",
       "      <td>20202026376668</td>\n",
       "      <td>2</td>\n",
       "    </tr>\n",
       "    <tr>\n",
       "      <th>50</th>\n",
       "      <td>20202026376685</td>\n",
       "      <td>2</td>\n",
       "    </tr>\n",
       "    <tr>\n",
       "      <th>51</th>\n",
       "      <td>20202026376865</td>\n",
       "      <td>2</td>\n",
       "    </tr>\n",
       "    <tr>\n",
       "      <th>52</th>\n",
       "      <td>20202026376997</td>\n",
       "      <td>2</td>\n",
       "    </tr>\n",
       "    <tr>\n",
       "      <th>53</th>\n",
       "      <td>20202026377206</td>\n",
       "      <td>2</td>\n",
       "    </tr>\n",
       "    <tr>\n",
       "      <th>54</th>\n",
       "      <td>20202026377493</td>\n",
       "      <td>2</td>\n",
       "    </tr>\n",
       "    <tr>\n",
       "      <th>55</th>\n",
       "      <td>20202026377559</td>\n",
       "      <td>2</td>\n",
       "    </tr>\n",
       "    <tr>\n",
       "      <th>56</th>\n",
       "      <td>20202026377612</td>\n",
       "      <td>2</td>\n",
       "    </tr>\n",
       "    <tr>\n",
       "      <th>57</th>\n",
       "      <td>20202026377722</td>\n",
       "      <td>2</td>\n",
       "    </tr>\n",
       "    <tr>\n",
       "      <th>58</th>\n",
       "      <td>20202026377730</td>\n",
       "      <td>2</td>\n",
       "    </tr>\n",
       "    <tr>\n",
       "      <th>59</th>\n",
       "      <td>20202026377746</td>\n",
       "      <td>2</td>\n",
       "    </tr>\n",
       "    <tr>\n",
       "      <th>60</th>\n",
       "      <td>20202026378208</td>\n",
       "      <td>2</td>\n",
       "    </tr>\n",
       "    <tr>\n",
       "      <th>61</th>\n",
       "      <td>20202026378327</td>\n",
       "      <td>2</td>\n",
       "    </tr>\n",
       "    <tr>\n",
       "      <th>62</th>\n",
       "      <td>20202026378972</td>\n",
       "      <td>2</td>\n",
       "    </tr>\n",
       "    <tr>\n",
       "      <th>63</th>\n",
       "      <td>20202026378973</td>\n",
       "      <td>3</td>\n",
       "    </tr>\n",
       "    <tr>\n",
       "      <th>64</th>\n",
       "      <td>20202026378982</td>\n",
       "      <td>2</td>\n",
       "    </tr>\n",
       "    <tr>\n",
       "      <th>65</th>\n",
       "      <td>20202026379628</td>\n",
       "      <td>2</td>\n",
       "    </tr>\n",
       "    <tr>\n",
       "      <th>66</th>\n",
       "      <td>20202026389861</td>\n",
       "      <td>2</td>\n",
       "    </tr>\n",
       "    <tr>\n",
       "      <th>67</th>\n",
       "      <td>20202026390502</td>\n",
       "      <td>2</td>\n",
       "    </tr>\n",
       "    <tr>\n",
       "      <th>68</th>\n",
       "      <td>20202026390576</td>\n",
       "      <td>2</td>\n",
       "    </tr>\n",
       "    <tr>\n",
       "      <th>69</th>\n",
       "      <td>20202026391036</td>\n",
       "      <td>2</td>\n",
       "    </tr>\n",
       "    <tr>\n",
       "      <th>70</th>\n",
       "      <td>20202026391405</td>\n",
       "      <td>2</td>\n",
       "    </tr>\n",
       "    <tr>\n",
       "      <th>71</th>\n",
       "      <td>20202026391426</td>\n",
       "      <td>2</td>\n",
       "    </tr>\n",
       "    <tr>\n",
       "      <th>72</th>\n",
       "      <td>20202026391450</td>\n",
       "      <td>2</td>\n",
       "    </tr>\n",
       "    <tr>\n",
       "      <th>73</th>\n",
       "      <td>20202026391452</td>\n",
       "      <td>2</td>\n",
       "    </tr>\n",
       "    <tr>\n",
       "      <th>74</th>\n",
       "      <td>20202026391456</td>\n",
       "      <td>2</td>\n",
       "    </tr>\n",
       "    <tr>\n",
       "      <th>75</th>\n",
       "      <td>20202026391499</td>\n",
       "      <td>2</td>\n",
       "    </tr>\n",
       "    <tr>\n",
       "      <th>76</th>\n",
       "      <td>20202026391554</td>\n",
       "      <td>2</td>\n",
       "    </tr>\n",
       "    <tr>\n",
       "      <th>77</th>\n",
       "      <td>20202026391571</td>\n",
       "      <td>2</td>\n",
       "    </tr>\n",
       "    <tr>\n",
       "      <th>78</th>\n",
       "      <td>20202026394624</td>\n",
       "      <td>2</td>\n",
       "    </tr>\n",
       "    <tr>\n",
       "      <th>79</th>\n",
       "      <td>20202026395117</td>\n",
       "      <td>2</td>\n",
       "    </tr>\n",
       "    <tr>\n",
       "      <th>80</th>\n",
       "      <td>20202026396963</td>\n",
       "      <td>3</td>\n",
       "    </tr>\n",
       "    <tr>\n",
       "      <th>81</th>\n",
       "      <td>20202026399061</td>\n",
       "      <td>2</td>\n",
       "    </tr>\n",
       "    <tr>\n",
       "      <th>82</th>\n",
       "      <td>20202026402465</td>\n",
       "      <td>2</td>\n",
       "    </tr>\n",
       "    <tr>\n",
       "      <th>83</th>\n",
       "      <td>20202026402637</td>\n",
       "      <td>2</td>\n",
       "    </tr>\n",
       "  </tbody>\n",
       "</table>\n",
       "</div>"
      ],
      "text/plain": [
       "       job_post_id  count\n",
       "0   20202026271430      2\n",
       "1   20202026274543      2\n",
       "2   20202026275555      2\n",
       "3   20202026276207      2\n",
       "4   20202026310433      2\n",
       "5   20202026310544      2\n",
       "6   20202026310906      2\n",
       "7   20202026334277      2\n",
       "8   20202026346650      2\n",
       "9   20202026346669      2\n",
       "10  20202026346708      2\n",
       "11  20202026346794      2\n",
       "12  20202026346827      2\n",
       "13  20202026346879      2\n",
       "14  20202026346891      2\n",
       "15  20202026347650      2\n",
       "16  20202026351412      2\n",
       "17  20202026351483      2\n",
       "18  20202026357229      2\n",
       "19  20202026368859      2\n",
       "20  20202026368869      2\n",
       "21  20202026372013      2\n",
       "22  20202026373225      2\n",
       "23  20202026373486      2\n",
       "24  20202026373677      2\n",
       "25  20202026373876      2\n",
       "26  20202026373948      2\n",
       "27  20202026373950      2\n",
       "28  20202026374077      2\n",
       "29  20202026374445      2\n",
       "30  20202026374877      2\n",
       "31  20202026374934      2\n",
       "32  20202026374956      2\n",
       "33  20202026375235      2\n",
       "34  20202026375465      3\n",
       "35  20202026375503      3\n",
       "36  20202026375557      2\n",
       "37  20202026375917      2\n",
       "38  20202026375932      2\n",
       "39  20202026375963      2\n",
       "40  20202026375968      2\n",
       "41  20202026375986      2\n",
       "42  20202026376035      2\n",
       "43  20202026376399      2\n",
       "44  20202026376484      2\n",
       "45  20202026376581      2\n",
       "46  20202026376631      2\n",
       "47  20202026376639      2\n",
       "48  20202026376645      2\n",
       "49  20202026376668      2\n",
       "50  20202026376685      2\n",
       "51  20202026376865      2\n",
       "52  20202026376997      2\n",
       "53  20202026377206      2\n",
       "54  20202026377493      2\n",
       "55  20202026377559      2\n",
       "56  20202026377612      2\n",
       "57  20202026377722      2\n",
       "58  20202026377730      2\n",
       "59  20202026377746      2\n",
       "60  20202026378208      2\n",
       "61  20202026378327      2\n",
       "62  20202026378972      2\n",
       "63  20202026378973      3\n",
       "64  20202026378982      2\n",
       "65  20202026379628      2\n",
       "66  20202026389861      2\n",
       "67  20202026390502      2\n",
       "68  20202026390576      2\n",
       "69  20202026391036      2\n",
       "70  20202026391405      2\n",
       "71  20202026391426      2\n",
       "72  20202026391450      2\n",
       "73  20202026391452      2\n",
       "74  20202026391456      2\n",
       "75  20202026391499      2\n",
       "76  20202026391554      2\n",
       "77  20202026391571      2\n",
       "78  20202026394624      2\n",
       "79  20202026395117      2\n",
       "80  20202026396963      3\n",
       "81  20202026399061      2\n",
       "82  20202026402465      2\n",
       "83  20202026402637      2"
      ]
     },
     "execution_count": 124,
     "metadata": {},
     "output_type": "execute_result"
    }
   ],
   "source": [
    "jops[jops['job_post_id'].duplicated(keep=False)].groupby('job_post_id').size().reset_index(name='count')"
   ]
  },
  {
   "cell_type": "code",
   "execution_count": 125,
   "id": "9eb4748e",
   "metadata": {},
   "outputs": [
    {
     "data": {
      "text/html": [
       "<div>\n",
       "<style scoped>\n",
       "    .dataframe tbody tr th:only-of-type {\n",
       "        vertical-align: middle;\n",
       "    }\n",
       "\n",
       "    .dataframe tbody tr th {\n",
       "        vertical-align: top;\n",
       "    }\n",
       "\n",
       "    .dataframe thead th {\n",
       "        text-align: right;\n",
       "    }\n",
       "</style>\n",
       "<table border=\"1\" class=\"dataframe\">\n",
       "  <thead>\n",
       "    <tr style=\"text-align: right;\">\n",
       "      <th></th>\n",
       "      <th>job_title</th>\n",
       "      <th>job_date</th>\n",
       "      <th>job_desc</th>\n",
       "      <th>job_tasks</th>\n",
       "      <th>comp_name</th>\n",
       "      <th>comp_no</th>\n",
       "      <th>comp_type</th>\n",
       "      <th>comp_size</th>\n",
       "      <th>eco_activity</th>\n",
       "      <th>region</th>\n",
       "      <th>city</th>\n",
       "      <th>benefits</th>\n",
       "      <th>contract</th>\n",
       "      <th>positions</th>\n",
       "      <th>job_post_id</th>\n",
       "      <th>exper</th>\n",
       "      <th>gender</th>\n",
       "    </tr>\n",
       "  </thead>\n",
       "  <tbody>\n",
       "    <tr>\n",
       "      <th>152</th>\n",
       "      <td>سائق سيارة</td>\n",
       "      <td>23/04/1444</td>\n",
       "      <td>['تولي مهمة قيادة السيارة بغرض القيام بالأعمال...</td>\n",
       "      <td>['نقل الحالات إلى كافة المواعيد مستشفى , نيابة...</td>\n",
       "      <td>جمعية حماية الاسرة الخيرية</td>\n",
       "      <td>9-191343</td>\n",
       "      <td>خاص</td>\n",
       "      <td>صغيرة فئة ب</td>\n",
       "      <td>مؤسسات الرفاه الاجتماعي (تحديد وتوزيع المساعدا...</td>\n",
       "      <td>الرياض</td>\n",
       "      <td>AR RIYADH...</td>\n",
       "      <td>['Salary', '4500.0']</td>\n",
       "      <td>دوام كامل</td>\n",
       "      <td>0 / 1</td>\n",
       "      <td>20202026274543</td>\n",
       "      <td>2 Years</td>\n",
       "      <td>both</td>\n",
       "    </tr>\n",
       "    <tr>\n",
       "      <th>281</th>\n",
       "      <td>سائق سيارة</td>\n",
       "      <td>23/04/1444</td>\n",
       "      <td>['تولي مهمة قيادة السيارة بغرض القيام بالأعمال...</td>\n",
       "      <td>['نقل الحالات إلى كافة المواعيد مستشفى , نيابة...</td>\n",
       "      <td>جمعية حماية الاسرة الخيرية</td>\n",
       "      <td>9-191343</td>\n",
       "      <td>خاص</td>\n",
       "      <td>صغيرة فئة ب</td>\n",
       "      <td>NaN</td>\n",
       "      <td>الرياض</td>\n",
       "      <td>AR RIYADH...</td>\n",
       "      <td>['Salary', '4500.0']</td>\n",
       "      <td>دوام كامل</td>\n",
       "      <td>0 / 1</td>\n",
       "      <td>20202026274543</td>\n",
       "      <td>2 Years</td>\n",
       "      <td>both</td>\n",
       "    </tr>\n",
       "  </tbody>\n",
       "</table>\n",
       "</div>"
      ],
      "text/plain": [
       "      job_title    job_date  \\\n",
       "152  سائق سيارة  23/04/1444   \n",
       "281  سائق سيارة  23/04/1444   \n",
       "\n",
       "                                              job_desc  \\\n",
       "152  ['تولي مهمة قيادة السيارة بغرض القيام بالأعمال...   \n",
       "281  ['تولي مهمة قيادة السيارة بغرض القيام بالأعمال...   \n",
       "\n",
       "                                             job_tasks  \\\n",
       "152  ['نقل الحالات إلى كافة المواعيد مستشفى , نيابة...   \n",
       "281  ['نقل الحالات إلى كافة المواعيد مستشفى , نيابة...   \n",
       "\n",
       "                      comp_name   comp_no comp_type    comp_size  \\\n",
       "152  جمعية حماية الاسرة الخيرية  9-191343       خاص  صغيرة فئة ب   \n",
       "281  جمعية حماية الاسرة الخيرية  9-191343       خاص  صغيرة فئة ب   \n",
       "\n",
       "                                          eco_activity  region          city  \\\n",
       "152  مؤسسات الرفاه الاجتماعي (تحديد وتوزيع المساعدا...  الرياض  AR RIYADH...   \n",
       "281                                                NaN  الرياض  AR RIYADH...   \n",
       "\n",
       "                 benefits   contract positions     job_post_id    exper gender  \n",
       "152  ['Salary', '4500.0']  دوام كامل     0 / 1  20202026274543  2 Years   both  \n",
       "281  ['Salary', '4500.0']  دوام كامل     0 / 1  20202026274543  2 Years   both  "
      ]
     },
     "execution_count": 125,
     "metadata": {},
     "output_type": "execute_result"
    }
   ],
   "source": [
    "jops[(jops['job_post_id'] == \t20202026274543)]"
   ]
  },
  {
   "cell_type": "code",
   "execution_count": 126,
   "id": "89d74c70",
   "metadata": {},
   "outputs": [
    {
     "data": {
      "text/html": [
       "<div>\n",
       "<style scoped>\n",
       "    .dataframe tbody tr th:only-of-type {\n",
       "        vertical-align: middle;\n",
       "    }\n",
       "\n",
       "    .dataframe tbody tr th {\n",
       "        vertical-align: top;\n",
       "    }\n",
       "\n",
       "    .dataframe thead th {\n",
       "        text-align: right;\n",
       "    }\n",
       "</style>\n",
       "<table border=\"1\" class=\"dataframe\">\n",
       "  <thead>\n",
       "    <tr style=\"text-align: right;\">\n",
       "      <th></th>\n",
       "      <th>job_title</th>\n",
       "      <th>job_date</th>\n",
       "      <th>job_desc</th>\n",
       "      <th>job_tasks</th>\n",
       "      <th>comp_name</th>\n",
       "      <th>comp_no</th>\n",
       "      <th>comp_type</th>\n",
       "      <th>comp_size</th>\n",
       "      <th>eco_activity</th>\n",
       "      <th>region</th>\n",
       "      <th>city</th>\n",
       "      <th>benefits</th>\n",
       "      <th>contract</th>\n",
       "      <th>positions</th>\n",
       "      <th>job_post_id</th>\n",
       "      <th>exper</th>\n",
       "      <th>gender</th>\n",
       "    </tr>\n",
       "  </thead>\n",
       "  <tbody>\n",
       "    <tr>\n",
       "      <th>1207</th>\n",
       "      <td>كاتب علاقات حكومية</td>\n",
       "      <td>16/06/1444</td>\n",
       "      <td>['توفير المعلومات اللازمة للتخليص على المعاملا...</td>\n",
       "      <td>['   جمع البيانات والمعلومات عن  الوثائق والمس...</td>\n",
       "      <td>مجموعة اجير المتحدة للتشغيل والصيانة</td>\n",
       "      <td>1-2328664</td>\n",
       "      <td>خاص</td>\n",
       "      <td>صغيرة فئة أ</td>\n",
       "      <td>مؤسسات ووكالات الدعاية والاعلان</td>\n",
       "      <td>الرياض</td>\n",
       "      <td>AR RIYADH...</td>\n",
       "      <td>['Salary', '4000.0']</td>\n",
       "      <td>دوام كامل</td>\n",
       "      <td>0 / 1</td>\n",
       "      <td>20202026396963</td>\n",
       "      <td>0 Years</td>\n",
       "      <td>F</td>\n",
       "    </tr>\n",
       "    <tr>\n",
       "      <th>1258</th>\n",
       "      <td>كاتب علاقات حكومية</td>\n",
       "      <td>16/06/1444</td>\n",
       "      <td>['توفير المعلومات اللازمة للتخليص على المعاملا...</td>\n",
       "      <td>['   جمع البيانات والمعلومات عن  الوثائق والمس...</td>\n",
       "      <td>مجموعة اجير المتحدة للتشغيل والصيانة</td>\n",
       "      <td>1-2328664</td>\n",
       "      <td>خاص</td>\n",
       "      <td>صغيرة فئة أ</td>\n",
       "      <td>مؤسسات ووكالات الدعاية والاعلان</td>\n",
       "      <td>الرياض</td>\n",
       "      <td>AR RIYADH...</td>\n",
       "      <td>['Salary', '4000.0']</td>\n",
       "      <td>دوام كامل</td>\n",
       "      <td>1 / 1</td>\n",
       "      <td>20202026396963</td>\n",
       "      <td>0 Years</td>\n",
       "      <td>F</td>\n",
       "    </tr>\n",
       "    <tr>\n",
       "      <th>1370</th>\n",
       "      <td>كاتب علاقات حكومية</td>\n",
       "      <td>16/06/1444</td>\n",
       "      <td>['توفير المعلومات اللازمة للتخليص على المعاملا...</td>\n",
       "      <td>['   جمع البيانات والمعلومات عن  الوثائق والمس...</td>\n",
       "      <td>مجموعة اجير المتحدة للتشغيل والصيانة</td>\n",
       "      <td>1-2328664</td>\n",
       "      <td>خاص</td>\n",
       "      <td>صغيرة فئة ب</td>\n",
       "      <td>مؤسسات ووكالات الدعاية والاعلان</td>\n",
       "      <td>الرياض</td>\n",
       "      <td>AR RIYADH...</td>\n",
       "      <td>['Salary', '4000.0']</td>\n",
       "      <td>دوام كامل</td>\n",
       "      <td>1 / 1</td>\n",
       "      <td>20202026396963</td>\n",
       "      <td>0 Years</td>\n",
       "      <td>F</td>\n",
       "    </tr>\n",
       "  </tbody>\n",
       "</table>\n",
       "</div>"
      ],
      "text/plain": [
       "               job_title    job_date  \\\n",
       "1207  كاتب علاقات حكومية  16/06/1444   \n",
       "1258  كاتب علاقات حكومية  16/06/1444   \n",
       "1370  كاتب علاقات حكومية  16/06/1444   \n",
       "\n",
       "                                               job_desc  \\\n",
       "1207  ['توفير المعلومات اللازمة للتخليص على المعاملا...   \n",
       "1258  ['توفير المعلومات اللازمة للتخليص على المعاملا...   \n",
       "1370  ['توفير المعلومات اللازمة للتخليص على المعاملا...   \n",
       "\n",
       "                                              job_tasks  \\\n",
       "1207  ['   جمع البيانات والمعلومات عن  الوثائق والمس...   \n",
       "1258  ['   جمع البيانات والمعلومات عن  الوثائق والمس...   \n",
       "1370  ['   جمع البيانات والمعلومات عن  الوثائق والمس...   \n",
       "\n",
       "                                 comp_name    comp_no comp_type    comp_size  \\\n",
       "1207  مجموعة اجير المتحدة للتشغيل والصيانة  1-2328664       خاص  صغيرة فئة أ   \n",
       "1258  مجموعة اجير المتحدة للتشغيل والصيانة  1-2328664       خاص  صغيرة فئة أ   \n",
       "1370  مجموعة اجير المتحدة للتشغيل والصيانة  1-2328664       خاص  صغيرة فئة ب   \n",
       "\n",
       "                         eco_activity  region          city  \\\n",
       "1207  مؤسسات ووكالات الدعاية والاعلان  الرياض  AR RIYADH...   \n",
       "1258  مؤسسات ووكالات الدعاية والاعلان  الرياض  AR RIYADH...   \n",
       "1370  مؤسسات ووكالات الدعاية والاعلان  الرياض  AR RIYADH...   \n",
       "\n",
       "                  benefits   contract positions     job_post_id    exper  \\\n",
       "1207  ['Salary', '4000.0']  دوام كامل     0 / 1  20202026396963  0 Years   \n",
       "1258  ['Salary', '4000.0']  دوام كامل     1 / 1  20202026396963  0 Years   \n",
       "1370  ['Salary', '4000.0']  دوام كامل     1 / 1  20202026396963  0 Years   \n",
       "\n",
       "     gender  \n",
       "1207      F  \n",
       "1258      F  \n",
       "1370      F  "
      ]
     },
     "execution_count": 126,
     "metadata": {},
     "output_type": "execute_result"
    }
   ],
   "source": [
    "jops[(jops['job_post_id'] == \t20202026396963)]"
   ]
  },
  {
   "cell_type": "code",
   "execution_count": 128,
   "id": "2e995275",
   "metadata": {},
   "outputs": [],
   "source": [
    "jops.drop_duplicates(subset=['job_post_id', 'job_title', 'job_date', 'job_desc', 'job_tasks', 'comp_name', 'comp_no', 'comp_type'], keep='first', inplace = True)"
   ]
  },
  {
   "cell_type": "code",
   "execution_count": 129,
   "id": "eb8d3c81",
   "metadata": {},
   "outputs": [
    {
     "data": {
      "text/plain": [
       "np.int64(0)"
      ]
     },
     "execution_count": 129,
     "metadata": {},
     "output_type": "execute_result"
    }
   ],
   "source": [
    "jops[['job_post_id', 'job_title', 'job_date', 'comp_name']].duplicated(keep=False).sum()"
   ]
  },
  {
   "cell_type": "code",
   "execution_count": 66,
   "id": "04c62559-3b48-48cf-a4e9-857e2e0ff416",
   "metadata": {},
   "outputs": [],
   "source": [
    "# go to delete duplicates columns"
   ]
  },
  {
   "cell_type": "markdown",
   "id": "c7724ac2-4ea2-4cf4-a9e0-e64368f87b92",
   "metadata": {},
   "source": [
    "#### 6. Completeness: \n",
    "Ensure that no critical data is missing. This might mean checking for null values or required fields that are empty.\n",
    "\n",
    "We will start by checking the dataset for missing or null values. For this, we can use the isna() method which returns a dataframe of boolean values indicating if a field is null or not. To group all missing values by column, we can include the sum() method."
   ]
  },
  {
   "cell_type": "code",
   "execution_count": 130,
   "id": "48a4de54-a344-4b94-9908-9528c15c13f7",
   "metadata": {},
   "outputs": [
    {
     "name": "stdout",
     "output_type": "stream",
     "text": [
      "<class 'pandas.core.frame.DataFrame'>\n",
      "Index: 1427 entries, 0 to 1468\n",
      "Data columns (total 17 columns):\n",
      " #   Column        Non-Null Count  Dtype \n",
      "---  ------        --------------  ----- \n",
      " 0   job_title     1427 non-null   object\n",
      " 1   job_date      1427 non-null   object\n",
      " 2   job_desc      1427 non-null   object\n",
      " 3   job_tasks     1427 non-null   object\n",
      " 4   comp_name     1427 non-null   object\n",
      " 5   comp_no       1427 non-null   object\n",
      " 6   comp_type     1427 non-null   object\n",
      " 7   comp_size     1413 non-null   object\n",
      " 8   eco_activity  1349 non-null   object\n",
      " 9   region        1427 non-null   object\n",
      " 10  city          1427 non-null   object\n",
      " 11  benefits      1427 non-null   object\n",
      " 12  contract      1427 non-null   object\n",
      " 13  positions     1427 non-null   object\n",
      " 14  job_post_id   1427 non-null   int64 \n",
      " 15  exper         1427 non-null   object\n",
      " 16  gender        1427 non-null   object\n",
      "dtypes: int64(1), object(16)\n",
      "memory usage: 200.7+ KB\n"
     ]
    }
   ],
   "source": [
    "#Display number missing values per column\n",
    "jops.info()"
   ]
  },
  {
   "cell_type": "code",
   "execution_count": 131,
   "id": "2bf48047",
   "metadata": {},
   "outputs": [
    {
     "data": {
      "text/plain": [
       "np.int64(14)"
      ]
     },
     "execution_count": 131,
     "metadata": {},
     "output_type": "execute_result"
    }
   ],
   "source": [
    "jops['comp_size'].isnull().sum()"
   ]
  },
  {
   "cell_type": "code",
   "execution_count": 132,
   "id": "31cd4469",
   "metadata": {},
   "outputs": [],
   "source": [
    "jops['comp_size'] = jops['comp_size'].fillna('Unknown Size')"
   ]
  },
  {
   "cell_type": "code",
   "execution_count": 133,
   "id": "42fd363f",
   "metadata": {},
   "outputs": [
    {
     "data": {
      "text/plain": [
       "np.int64(0)"
      ]
     },
     "execution_count": 133,
     "metadata": {},
     "output_type": "execute_result"
    }
   ],
   "source": [
    "jops['comp_size'].isnull().sum()"
   ]
  },
  {
   "cell_type": "code",
   "execution_count": 44,
   "id": "a9f0004c",
   "metadata": {},
   "outputs": [
    {
     "data": {
      "text/plain": [
       "np.int64(78)"
      ]
     },
     "execution_count": 44,
     "metadata": {},
     "output_type": "execute_result"
    }
   ],
   "source": [
    "jops['eco_activity'].isnull().sum()"
   ]
  },
  {
   "cell_type": "code",
   "execution_count": 134,
   "id": "d8396573",
   "metadata": {},
   "outputs": [],
   "source": [
    "jops['eco_activity'] = jops['eco_activity'].fillna('Unknown Domain')"
   ]
  },
  {
   "cell_type": "code",
   "execution_count": 135,
   "id": "d4526486",
   "metadata": {},
   "outputs": [
    {
     "data": {
      "text/plain": [
       "np.int64(0)"
      ]
     },
     "execution_count": 135,
     "metadata": {},
     "output_type": "execute_result"
    }
   ],
   "source": [
    "jops['eco_activity'].isnull().sum()"
   ]
  },
  {
   "cell_type": "code",
   "execution_count": 137,
   "id": "7ca770d9",
   "metadata": {},
   "outputs": [
    {
     "data": {
      "text/html": [
       "<div>\n",
       "<style scoped>\n",
       "    .dataframe tbody tr th:only-of-type {\n",
       "        vertical-align: middle;\n",
       "    }\n",
       "\n",
       "    .dataframe tbody tr th {\n",
       "        vertical-align: top;\n",
       "    }\n",
       "\n",
       "    .dataframe thead th {\n",
       "        text-align: right;\n",
       "    }\n",
       "</style>\n",
       "<table border=\"1\" class=\"dataframe\">\n",
       "  <thead>\n",
       "    <tr style=\"text-align: right;\">\n",
       "      <th></th>\n",
       "      <th>job_title</th>\n",
       "      <th>job_date</th>\n",
       "      <th>job_desc</th>\n",
       "      <th>job_tasks</th>\n",
       "      <th>comp_name</th>\n",
       "      <th>comp_no</th>\n",
       "      <th>comp_type</th>\n",
       "      <th>comp_size</th>\n",
       "      <th>eco_activity</th>\n",
       "      <th>region</th>\n",
       "      <th>city</th>\n",
       "      <th>benefits</th>\n",
       "      <th>contract</th>\n",
       "      <th>positions</th>\n",
       "      <th>job_post_id</th>\n",
       "      <th>exper</th>\n",
       "      <th>gender</th>\n",
       "    </tr>\n",
       "  </thead>\n",
       "  <tbody>\n",
       "    <tr>\n",
       "      <th>0</th>\n",
       "      <td>محاسب</td>\n",
       "      <td>27/05/1444</td>\n",
       "      <td>['إعداد وتنظيم مستندات الصرف ومتابعة تحصيل الإ...</td>\n",
       "      <td>['   تدقيق المطالبات المالية والتأكد من اكتمال...</td>\n",
       "      <td>شركة مقر العالم للسفريات</td>\n",
       "      <td>1-317262</td>\n",
       "      <td>خاص</td>\n",
       "      <td>متوسطة فئة أ</td>\n",
       "      <td>أنشطة وكالات السياحة والسفر</td>\n",
       "      <td>الرياض</td>\n",
       "      <td>AR RIYADH...</td>\n",
       "      <td>['Salary', '5000.0']</td>\n",
       "      <td>دوام كامل</td>\n",
       "      <td>0 / 1</td>\n",
       "      <td>20202026350419</td>\n",
       "      <td>0 Years</td>\n",
       "      <td>both</td>\n",
       "    </tr>\n",
       "  </tbody>\n",
       "</table>\n",
       "</div>"
      ],
      "text/plain": [
       "  job_title    job_date                                           job_desc  \\\n",
       "0     محاسب  27/05/1444  ['إعداد وتنظيم مستندات الصرف ومتابعة تحصيل الإ...   \n",
       "\n",
       "                                           job_tasks  \\\n",
       "0  ['   تدقيق المطالبات المالية والتأكد من اكتمال...   \n",
       "\n",
       "                  comp_name   comp_no comp_type     comp_size  \\\n",
       "0  شركة مقر العالم للسفريات  1-317262       خاص  متوسطة فئة أ   \n",
       "\n",
       "                  eco_activity  region          city              benefits  \\\n",
       "0  أنشطة وكالات السياحة والسفر  الرياض  AR RIYADH...  ['Salary', '5000.0']   \n",
       "\n",
       "    contract positions     job_post_id    exper gender  \n",
       "0  دوام كامل     0 / 1  20202026350419  0 Years   both  "
      ]
     },
     "execution_count": 137,
     "metadata": {},
     "output_type": "execute_result"
    }
   ],
   "source": [
    "jops.head(1)"
   ]
  },
  {
   "cell_type": "code",
   "execution_count": 68,
   "id": "abec31c4-0904-4b73-8cee-b7bc14ab1e67",
   "metadata": {},
   "outputs": [],
   "source": [
    "# go to clean them "
   ]
  },
  {
   "cell_type": "markdown",
   "id": "b40de63c-5a1d-49ed-a87e-c5229ee08bbe",
   "metadata": {},
   "source": [
    "#### 7. Check Accuracy:\n",
    "\n",
    "Verify that the data is correct and precise. This could involve comparing data samples with known sources or using validation rules.\n",
    "\n",
    "**The process includes:**\n",
    "1. Validating the appropriateness of data types for the dataset.\n",
    "2. Identifying outliers  using established validation  rule"
   ]
  },
  {
   "cell_type": "code",
   "execution_count": 138,
   "id": "68be5334-ae10-4abd-8097-3259fe5e72c8",
   "metadata": {},
   "outputs": [
    {
     "name": "stdout",
     "output_type": "stream",
     "text": [
      "<class 'pandas.core.frame.DataFrame'>\n",
      "Index: 1427 entries, 0 to 1468\n",
      "Data columns (total 17 columns):\n",
      " #   Column        Non-Null Count  Dtype \n",
      "---  ------        --------------  ----- \n",
      " 0   job_title     1427 non-null   object\n",
      " 1   job_date      1427 non-null   object\n",
      " 2   job_desc      1427 non-null   object\n",
      " 3   job_tasks     1427 non-null   object\n",
      " 4   comp_name     1427 non-null   object\n",
      " 5   comp_no       1427 non-null   object\n",
      " 6   comp_type     1427 non-null   object\n",
      " 7   comp_size     1427 non-null   object\n",
      " 8   eco_activity  1427 non-null   object\n",
      " 9   region        1427 non-null   object\n",
      " 10  city          1427 non-null   object\n",
      " 11  benefits      1427 non-null   object\n",
      " 12  contract      1427 non-null   object\n",
      " 13  positions     1427 non-null   object\n",
      " 14  job_post_id   1427 non-null   int64 \n",
      " 15  exper         1427 non-null   object\n",
      " 16  gender        1427 non-null   object\n",
      "dtypes: int64(1), object(16)\n",
      "memory usage: 200.7+ KB\n"
     ]
    }
   ],
   "source": [
    "# check columns types \n",
    "jops.info()"
   ]
  },
  {
   "cell_type": "code",
   "execution_count": 139,
   "id": "055c67c0",
   "metadata": {},
   "outputs": [
    {
     "data": {
      "text/plain": [
       "benefits\n",
       "['Salary', '4000.0']    435\n",
       "['Salary', '5000.0']    144\n",
       "['Salary', '6000.0']     82\n",
       "['Salary', '4500.0']     81\n",
       "['Salary', '7000.0']     63\n",
       "Name: count, dtype: int64"
      ]
     },
     "execution_count": 139,
     "metadata": {},
     "output_type": "execute_result"
    }
   ],
   "source": [
    "\n",
    "jops['benefits'].value_counts(dropna=False).head()"
   ]
  },
  {
   "cell_type": "code",
   "execution_count": 140,
   "id": "bac270cf",
   "metadata": {},
   "outputs": [],
   "source": [
    "def salry_def(x):\n",
    "    return float(x[12:18])"
   ]
  },
  {
   "cell_type": "code",
   "execution_count": 141,
   "id": "dea34a14",
   "metadata": {},
   "outputs": [],
   "source": [
    "jops['Salary'] = jops['benefits'].apply(salry_def)"
   ]
  },
  {
   "cell_type": "code",
   "execution_count": 142,
   "id": "d970f8dd",
   "metadata": {},
   "outputs": [
    {
     "data": {
      "text/html": [
       "<div>\n",
       "<style scoped>\n",
       "    .dataframe tbody tr th:only-of-type {\n",
       "        vertical-align: middle;\n",
       "    }\n",
       "\n",
       "    .dataframe tbody tr th {\n",
       "        vertical-align: top;\n",
       "    }\n",
       "\n",
       "    .dataframe thead th {\n",
       "        text-align: right;\n",
       "    }\n",
       "</style>\n",
       "<table border=\"1\" class=\"dataframe\">\n",
       "  <thead>\n",
       "    <tr style=\"text-align: right;\">\n",
       "      <th></th>\n",
       "      <th>job_title</th>\n",
       "      <th>job_date</th>\n",
       "      <th>job_desc</th>\n",
       "      <th>job_tasks</th>\n",
       "      <th>comp_name</th>\n",
       "      <th>comp_no</th>\n",
       "      <th>comp_type</th>\n",
       "      <th>comp_size</th>\n",
       "      <th>eco_activity</th>\n",
       "      <th>region</th>\n",
       "      <th>city</th>\n",
       "      <th>benefits</th>\n",
       "      <th>contract</th>\n",
       "      <th>positions</th>\n",
       "      <th>job_post_id</th>\n",
       "      <th>exper</th>\n",
       "      <th>gender</th>\n",
       "      <th>Salary</th>\n",
       "    </tr>\n",
       "  </thead>\n",
       "  <tbody>\n",
       "    <tr>\n",
       "      <th>0</th>\n",
       "      <td>محاسب</td>\n",
       "      <td>27/05/1444</td>\n",
       "      <td>['إعداد وتنظيم مستندات الصرف ومتابعة تحصيل الإ...</td>\n",
       "      <td>['   تدقيق المطالبات المالية والتأكد من اكتمال...</td>\n",
       "      <td>شركة مقر العالم للسفريات</td>\n",
       "      <td>1-317262</td>\n",
       "      <td>خاص</td>\n",
       "      <td>متوسطة فئة أ</td>\n",
       "      <td>أنشطة وكالات السياحة والسفر</td>\n",
       "      <td>الرياض</td>\n",
       "      <td>AR RIYADH...</td>\n",
       "      <td>['Salary', '5000.0']</td>\n",
       "      <td>دوام كامل</td>\n",
       "      <td>0 / 1</td>\n",
       "      <td>20202026350419</td>\n",
       "      <td>0 Years</td>\n",
       "      <td>both</td>\n",
       "      <td>5,000.00</td>\n",
       "    </tr>\n",
       "  </tbody>\n",
       "</table>\n",
       "</div>"
      ],
      "text/plain": [
       "  job_title    job_date                                           job_desc  \\\n",
       "0     محاسب  27/05/1444  ['إعداد وتنظيم مستندات الصرف ومتابعة تحصيل الإ...   \n",
       "\n",
       "                                           job_tasks  \\\n",
       "0  ['   تدقيق المطالبات المالية والتأكد من اكتمال...   \n",
       "\n",
       "                  comp_name   comp_no comp_type     comp_size  \\\n",
       "0  شركة مقر العالم للسفريات  1-317262       خاص  متوسطة فئة أ   \n",
       "\n",
       "                  eco_activity  region          city              benefits  \\\n",
       "0  أنشطة وكالات السياحة والسفر  الرياض  AR RIYADH...  ['Salary', '5000.0']   \n",
       "\n",
       "    contract positions     job_post_id    exper gender   Salary  \n",
       "0  دوام كامل     0 / 1  20202026350419  0 Years   both 5,000.00  "
      ]
     },
     "execution_count": 142,
     "metadata": {},
     "output_type": "execute_result"
    }
   ],
   "source": [
    "jops.head(1)"
   ]
  },
  {
   "cell_type": "code",
   "execution_count": 143,
   "id": "a1330b48",
   "metadata": {},
   "outputs": [
    {
     "data": {
      "text/html": [
       "<div>\n",
       "<style scoped>\n",
       "    .dataframe tbody tr th:only-of-type {\n",
       "        vertical-align: middle;\n",
       "    }\n",
       "\n",
       "    .dataframe tbody tr th {\n",
       "        vertical-align: top;\n",
       "    }\n",
       "\n",
       "    .dataframe thead th {\n",
       "        text-align: right;\n",
       "    }\n",
       "</style>\n",
       "<table border=\"1\" class=\"dataframe\">\n",
       "  <thead>\n",
       "    <tr style=\"text-align: right;\">\n",
       "      <th></th>\n",
       "      <th>benefits</th>\n",
       "      <th>Salary</th>\n",
       "    </tr>\n",
       "  </thead>\n",
       "  <tbody>\n",
       "    <tr>\n",
       "      <th>0</th>\n",
       "      <td>['Salary', '5000.0']</td>\n",
       "      <td>5,000.00</td>\n",
       "    </tr>\n",
       "    <tr>\n",
       "      <th>1</th>\n",
       "      <td>['Salary', '5000.0']</td>\n",
       "      <td>5,000.00</td>\n",
       "    </tr>\n",
       "    <tr>\n",
       "      <th>2</th>\n",
       "      <td>['Salary', '4000.0']</td>\n",
       "      <td>4,000.00</td>\n",
       "    </tr>\n",
       "    <tr>\n",
       "      <th>3</th>\n",
       "      <td>['Salary', '5000.0']</td>\n",
       "      <td>5,000.00</td>\n",
       "    </tr>\n",
       "    <tr>\n",
       "      <th>4</th>\n",
       "      <td>['Salary', '5000.0']</td>\n",
       "      <td>5,000.00</td>\n",
       "    </tr>\n",
       "  </tbody>\n",
       "</table>\n",
       "</div>"
      ],
      "text/plain": [
       "               benefits   Salary\n",
       "0  ['Salary', '5000.0'] 5,000.00\n",
       "1  ['Salary', '5000.0'] 5,000.00\n",
       "2  ['Salary', '4000.0'] 4,000.00\n",
       "3  ['Salary', '5000.0'] 5,000.00\n",
       "4  ['Salary', '5000.0'] 5,000.00"
      ]
     },
     "execution_count": 143,
     "metadata": {},
     "output_type": "execute_result"
    }
   ],
   "source": [
    "jops[['benefits', 'Salary']].head()"
   ]
  },
  {
   "cell_type": "code",
   "execution_count": 144,
   "id": "3769783a",
   "metadata": {},
   "outputs": [
    {
     "name": "stdout",
     "output_type": "stream",
     "text": [
      "Number of missing values in 'Salary': 0\n"
     ]
    }
   ],
   "source": [
    "# Check for missing values in the 'Salary' column after extraction\n",
    "missing_salary_count = jops['Salary'].isnull().sum()\n",
    "print(\"Number of missing values in 'Salary':\", missing_salary_count)"
   ]
  },
  {
   "cell_type": "code",
   "execution_count": null,
   "id": "7a9abe14",
   "metadata": {},
   "outputs": [
    {
     "data": {
      "text/plain": [
       "count    1,427.00\n",
       "mean     5,305.37\n",
       "std      2,322.35\n",
       "min      3,000.00\n",
       "25%      4,000.00\n",
       "50%      4,500.00\n",
       "75%      6,000.00\n",
       "max     35,000.00\n",
       "Name: Salary, dtype: float64"
      ]
     },
     "execution_count": 71,
     "metadata": {},
     "output_type": "execute_result"
    }
   ],
   "source": [
    "\n",
    "#jops['Salary'].describe().T"
   ]
  },
  {
   "cell_type": "code",
   "execution_count": null,
   "id": "2ee790ba-dcc0-45f1-b6f8-0133e913e149",
   "metadata": {},
   "outputs": [
    {
     "data": {
      "text/plain": [
       "(3, 18)"
      ]
     },
     "execution_count": 83,
     "metadata": {},
     "output_type": "execute_result"
    }
   ],
   "source": [
    "\n"
   ]
  },
  {
   "cell_type": "code",
   "execution_count": 145,
   "id": "c69b303a-5459-45f9-a28e-fcee45c21c05",
   "metadata": {},
   "outputs": [
    {
     "data": {
      "text/plain": [
       "count    1,427.00\n",
       "mean     5,305.37\n",
       "std      2,322.35\n",
       "min      3,000.00\n",
       "25%      4,000.00\n",
       "50%      4,500.00\n",
       "75%      6,000.00\n",
       "max     35,000.00\n",
       "Name: Salary, dtype: float64"
      ]
     },
     "execution_count": 145,
     "metadata": {},
     "output_type": "execute_result"
    }
   ],
   "source": [
    "# check outliers \n",
    "\n",
    "jops['Salary'].describe().T\n"
   ]
  },
  {
   "cell_type": "code",
   "execution_count": 146,
   "id": "e827ba2c",
   "metadata": {},
   "outputs": [
    {
     "data": {
      "text/plain": [
       "(3, 18)"
      ]
     },
     "execution_count": 146,
     "metadata": {},
     "output_type": "execute_result"
    }
   ],
   "source": [
    "jops[jops['Salary'] >30000.0 ].shape"
   ]
  },
  {
   "cell_type": "code",
   "execution_count": 147,
   "id": "6dbfdcd0",
   "metadata": {},
   "outputs": [
    {
     "data": {
      "text/html": [
       "<div>\n",
       "<style scoped>\n",
       "    .dataframe tbody tr th:only-of-type {\n",
       "        vertical-align: middle;\n",
       "    }\n",
       "\n",
       "    .dataframe tbody tr th {\n",
       "        vertical-align: top;\n",
       "    }\n",
       "\n",
       "    .dataframe thead th {\n",
       "        text-align: right;\n",
       "    }\n",
       "</style>\n",
       "<table border=\"1\" class=\"dataframe\">\n",
       "  <thead>\n",
       "    <tr style=\"text-align: right;\">\n",
       "      <th></th>\n",
       "      <th>job_title</th>\n",
       "      <th>job_date</th>\n",
       "      <th>job_desc</th>\n",
       "      <th>job_tasks</th>\n",
       "      <th>comp_name</th>\n",
       "      <th>comp_no</th>\n",
       "      <th>comp_type</th>\n",
       "      <th>comp_size</th>\n",
       "      <th>eco_activity</th>\n",
       "      <th>region</th>\n",
       "      <th>city</th>\n",
       "      <th>benefits</th>\n",
       "      <th>contract</th>\n",
       "      <th>positions</th>\n",
       "      <th>job_post_id</th>\n",
       "      <th>exper</th>\n",
       "      <th>gender</th>\n",
       "      <th>Salary</th>\n",
       "    </tr>\n",
       "  </thead>\n",
       "  <tbody>\n",
       "    <tr>\n",
       "      <th>530</th>\n",
       "      <td>مدير عمليات موارد بشرية</td>\n",
       "      <td>06/05/1444</td>\n",
       "      <td>['المشاركة في وضع الأهداف الرئيسية وخطط وبرامج...</td>\n",
       "      <td>['   المشاركة في تطوير الأهداف الرئيسية لإدارة...</td>\n",
       "      <td>شركة انكر اليابان</td>\n",
       "      <td>1-391480</td>\n",
       "      <td>خاص</td>\n",
       "      <td>صغيرة فئة ب</td>\n",
       "      <td>خدمات المكاتب العلمية والفنية للمنتجات عدا الم...</td>\n",
       "      <td>الرياض</td>\n",
       "      <td>AR RIYADH...</td>\n",
       "      <td>['Salary', '32000.0', 'Benefits', 'حافز سنوي (...</td>\n",
       "      <td>دوام كامل</td>\n",
       "      <td>0 / 1</td>\n",
       "      <td>20202026314815</td>\n",
       "      <td>7 Years</td>\n",
       "      <td>both</td>\n",
       "      <td>32,000.00</td>\n",
       "    </tr>\n",
       "    <tr>\n",
       "      <th>888</th>\n",
       "      <td>طيار جناح ثابت</td>\n",
       "      <td>Publish date</td>\n",
       "      <td>['تدقيق بيانات الرحلة وخطة الطيران، وتفقد وتجه...</td>\n",
       "      <td>['   دراسة بيانات الرحلة ومخططها والتحقق من ال...</td>\n",
       "      <td>شركة طيران اديل</td>\n",
       "      <td>9-1432020</td>\n",
       "      <td>خاص</td>\n",
       "      <td>كبيرة</td>\n",
       "      <td>النقل الجوي للبضائع المحدد بمواعيد</td>\n",
       "      <td>مكة المكرمة</td>\n",
       "      <td>JEDDAH...</td>\n",
       "      <td>['Salary', '35000.0']</td>\n",
       "      <td>دوام كامل</td>\n",
       "      <td>0 / 50</td>\n",
       "      <td>20202026377730</td>\n",
       "      <td>10 Years</td>\n",
       "      <td>both</td>\n",
       "      <td>35,000.00</td>\n",
       "    </tr>\n",
       "    <tr>\n",
       "      <th>1132</th>\n",
       "      <td>طيار جناح ثابت</td>\n",
       "      <td>07/06/1444</td>\n",
       "      <td>['تدقيق بيانات الرحلة وخطة الطيران، وتفقد وتجه...</td>\n",
       "      <td>['   دراسة بيانات الرحلة ومخططها والتحقق من ال...</td>\n",
       "      <td>شركة طيران اديل</td>\n",
       "      <td>9-1432020</td>\n",
       "      <td>خاص</td>\n",
       "      <td>كبيرة</td>\n",
       "      <td>النقل الجوي للبضائع المحدد بمواعيد</td>\n",
       "      <td>مكة المكرمة</td>\n",
       "      <td>JEDDAH...</td>\n",
       "      <td>['Salary', '35000.0']</td>\n",
       "      <td>دوام كامل</td>\n",
       "      <td>0 / 50</td>\n",
       "      <td>20202026377730</td>\n",
       "      <td>10 Years</td>\n",
       "      <td>both</td>\n",
       "      <td>35,000.00</td>\n",
       "    </tr>\n",
       "  </tbody>\n",
       "</table>\n",
       "</div>"
      ],
      "text/plain": [
       "                    job_title      job_date  \\\n",
       "530   مدير عمليات موارد بشرية    06/05/1444   \n",
       "888            طيار جناح ثابت  Publish date   \n",
       "1132           طيار جناح ثابت    07/06/1444   \n",
       "\n",
       "                                               job_desc  \\\n",
       "530   ['المشاركة في وضع الأهداف الرئيسية وخطط وبرامج...   \n",
       "888   ['تدقيق بيانات الرحلة وخطة الطيران، وتفقد وتجه...   \n",
       "1132  ['تدقيق بيانات الرحلة وخطة الطيران، وتفقد وتجه...   \n",
       "\n",
       "                                              job_tasks          comp_name  \\\n",
       "530   ['   المشاركة في تطوير الأهداف الرئيسية لإدارة...  شركة انكر اليابان   \n",
       "888   ['   دراسة بيانات الرحلة ومخططها والتحقق من ال...    شركة طيران اديل   \n",
       "1132  ['   دراسة بيانات الرحلة ومخططها والتحقق من ال...    شركة طيران اديل   \n",
       "\n",
       "        comp_no comp_type    comp_size  \\\n",
       "530    1-391480       خاص  صغيرة فئة ب   \n",
       "888   9-1432020       خاص        كبيرة   \n",
       "1132  9-1432020       خاص        كبيرة   \n",
       "\n",
       "                                           eco_activity       region  \\\n",
       "530   خدمات المكاتب العلمية والفنية للمنتجات عدا الم...       الرياض   \n",
       "888                  النقل الجوي للبضائع المحدد بمواعيد  مكة المكرمة   \n",
       "1132                 النقل الجوي للبضائع المحدد بمواعيد  مكة المكرمة   \n",
       "\n",
       "              city                                           benefits  \\\n",
       "530   AR RIYADH...  ['Salary', '32000.0', 'Benefits', 'حافز سنوي (...   \n",
       "888      JEDDAH...                              ['Salary', '35000.0']   \n",
       "1132     JEDDAH...                              ['Salary', '35000.0']   \n",
       "\n",
       "       contract positions     job_post_id     exper gender    Salary  \n",
       "530   دوام كامل     0 / 1  20202026314815   7 Years   both 32,000.00  \n",
       "888   دوام كامل    0 / 50  20202026377730  10 Years   both 35,000.00  \n",
       "1132  دوام كامل    0 / 50  20202026377730  10 Years   both 35,000.00  "
      ]
     },
     "execution_count": 147,
     "metadata": {},
     "output_type": "execute_result"
    }
   ],
   "source": [
    "jops[jops['Salary'] >30000.0 ]"
   ]
  },
  {
   "cell_type": "code",
   "execution_count": 149,
   "id": "5f8543fb",
   "metadata": {},
   "outputs": [
    {
     "data": {
      "text/html": [
       "<div>\n",
       "<style scoped>\n",
       "    .dataframe tbody tr th:only-of-type {\n",
       "        vertical-align: middle;\n",
       "    }\n",
       "\n",
       "    .dataframe tbody tr th {\n",
       "        vertical-align: top;\n",
       "    }\n",
       "\n",
       "    .dataframe thead th {\n",
       "        text-align: right;\n",
       "    }\n",
       "</style>\n",
       "<table border=\"1\" class=\"dataframe\">\n",
       "  <thead>\n",
       "    <tr style=\"text-align: right;\">\n",
       "      <th></th>\n",
       "      <th>job_title</th>\n",
       "      <th>job_date</th>\n",
       "      <th>job_desc</th>\n",
       "      <th>job_tasks</th>\n",
       "      <th>comp_name</th>\n",
       "      <th>comp_no</th>\n",
       "      <th>comp_type</th>\n",
       "      <th>comp_size</th>\n",
       "      <th>eco_activity</th>\n",
       "      <th>region</th>\n",
       "      <th>city</th>\n",
       "      <th>benefits</th>\n",
       "      <th>contract</th>\n",
       "      <th>positions</th>\n",
       "      <th>job_post_id</th>\n",
       "      <th>exper</th>\n",
       "      <th>gender</th>\n",
       "      <th>Salary</th>\n",
       "    </tr>\n",
       "  </thead>\n",
       "  <tbody>\n",
       "    <tr>\n",
       "      <th>0</th>\n",
       "      <td>محاسب</td>\n",
       "      <td>27/05/1444</td>\n",
       "      <td>['إعداد وتنظيم مستندات الصرف ومتابعة تحصيل الإ...</td>\n",
       "      <td>['   تدقيق المطالبات المالية والتأكد من اكتمال...</td>\n",
       "      <td>شركة مقر العالم للسفريات</td>\n",
       "      <td>1-317262</td>\n",
       "      <td>خاص</td>\n",
       "      <td>متوسطة فئة أ</td>\n",
       "      <td>أنشطة وكالات السياحة والسفر</td>\n",
       "      <td>الرياض</td>\n",
       "      <td>AR RIYADH...</td>\n",
       "      <td>['Salary', '5000.0']</td>\n",
       "      <td>دوام كامل</td>\n",
       "      <td>0 / 1</td>\n",
       "      <td>20202026350419</td>\n",
       "      <td>0 Years</td>\n",
       "      <td>both</td>\n",
       "      <td>5,000.00</td>\n",
       "    </tr>\n",
       "  </tbody>\n",
       "</table>\n",
       "</div>"
      ],
      "text/plain": [
       "  job_title    job_date                                           job_desc  \\\n",
       "0     محاسب  27/05/1444  ['إعداد وتنظيم مستندات الصرف ومتابعة تحصيل الإ...   \n",
       "\n",
       "                                           job_tasks  \\\n",
       "0  ['   تدقيق المطالبات المالية والتأكد من اكتمال...   \n",
       "\n",
       "                  comp_name   comp_no comp_type     comp_size  \\\n",
       "0  شركة مقر العالم للسفريات  1-317262       خاص  متوسطة فئة أ   \n",
       "\n",
       "                  eco_activity  region          city              benefits  \\\n",
       "0  أنشطة وكالات السياحة والسفر  الرياض  AR RIYADH...  ['Salary', '5000.0']   \n",
       "\n",
       "    contract positions     job_post_id    exper gender   Salary  \n",
       "0  دوام كامل     0 / 1  20202026350419  0 Years   both 5,000.00  "
      ]
     },
     "execution_count": 149,
     "metadata": {},
     "output_type": "execute_result"
    }
   ],
   "source": [
    "jops.head(1)"
   ]
  },
  {
   "cell_type": "markdown",
   "id": "4aca9d42-add6-45db-92cf-1f6dae5f277b",
   "metadata": {},
   "source": [
    "**What is an Outlier?** \n",
    "Outlier is an row/observation that appears far away and diverges from an overall pattern in a sample.\n",
    "\n",
    "**What are the types of Outliers?**\n",
    "1. Univariate: These outliers can be found when we look at distribution of a single variable\n",
    "2. Multivariate: are outliers in an n-dimensional space. In order to find them, you have to look at distributions in multi-dimensions. example (hight=100, weight=100) for a person\n",
    "\n",
    "**What causes Outliers?**\n",
    "Whenever we come across outliers, the ideal way to tackle them is to find out the reason of having these outliers. The method to deal with them would then depend on the reason of their occurrence.\n",
    "\n",
    "Let’s understand various types of outliers:\n",
    "\n",
    "1. Data Entry Errors:- Human errors such as errors caused during data collection, recording, or entry can cause outliers in data.\n",
    "2. Measurement Error: It is the most common source of outliers. This is caused when the measurement instrument used turns out to be faulty.\n",
    "3. Data Processing Error: Whenever we perform data mining, we extract data from multiple sources. It is possible that some manipulation or extraction errors may lead to outliers in the dataset.\n",
    "4. Sampling error: For instance, we have to measure the height of athletes. By mistake, we include a few basketball players in the sample. This inclusion is likely to cause outliers in the dataset.\n",
    "5. Natural Outlier: When an outlier is not artificial (due to error), it is a natural outlier. For instance: In my last assignment with one of the renowned insurance company, I noticed that the performance of top 50 financial advisors was far higher than rest of the population. Surprisingly, it was not due to any error. Hence, whenever we perform any data mining activity with advisors, we used to treat this segment separately.\n",
    "\n",
    "\n",
    "**What is the impact of Outliers on a dataset?**\n",
    "\n",
    "\n",
    "![image.png](https://www.analyticsvidhya.com/wp-content/uploads/2015/02/Outlier_31.png)\n",
    "\n",
    "\n",
    "\n",
    "**How to detect Outliers?**\n",
    "\n",
    "1. Most commonly used method to detect outliers is visualization (Univariate Graphical Analysis).\n",
    "\n",
    "We use 3 common visualization methods:\n",
    ">- Box-plot: A box plot is a method for graphically depicting groups of numerical data through their quartiles. The box extends from the Q1 to Q3 quartile values of the data, with a line at the median (Q2). The whiskers extend from the edges of the box to show the range of the data. Outlier points are those past the end of the whiskers. Box plots show robust measures of location and spread as well as providing information about symmetry and outliers.\n",
    ">\n",
    ">  \n",
    ">![image.png](https://miro.medium.com/v2/resize:fit:698/format:webp/1*VK5iHA2AB28HSZwWwUbNYg.png)\n",
    ">\n",
    ">\n",
    ">- Histogram\n",
    ">- Scatter Plot: A scatter plot is a mathematical diagram using Cartesian coordinates to display values for two variables for a set of data. The data are displayed as a collection of points, each having the value of one variable determining the position on the horizontal axis and the value of the other variable determining the position on the vertical axis. The points that are far from the population can be termed as an outlier.\n",
    ">\n",
    ">  \n",
    ">![image.png](https://miro.medium.com/v2/resize:fit:4800/format:webp/1*Ov6aH-8yIwNoUxtMFwgx4g.png)\n",
    ">\n",
    ">\n",
    "\n",
    "2. Using statistical method (Univariate Non-Graphical analysis):\n",
    ">- Any value, which is beyond the range of -1.5 x IQR to 1.5 x IQR\n",
    " \n",
    "![image.png](https://www.whatissixsigma.net/wp-content/uploads/2015/07/Box-Plot-Diagram-to-identify-Outliers-figure-1.png)\n",
    "\n",
    ">- Use capping methods. Any value which out of range of 5th and 95th percentile can be considered as outlier\n",
    ">- Data points, three or more standard deviation away from mean are considered outlier: The Z-score is the signed number of standard deviations by which the value of an observation or data point is above the mean value of what is being observed or measured. While calculating the Z-score we re-scale and center the data and look for data points that are too far from zero. These data points which are way too far from zero will be treated as the outliers. In most of the cases, a threshold of 3 or -3 is used i.e if the Z-score value is greater than or less than 3 or -3 respectively, that data point will be identified as outliers.\n",
    "> - Outlier detection is merely a special case of the examination of data for influential data points and it also depends on the business understanding\n"
   ]
  },
  {
   "cell_type": "code",
   "execution_count": null,
   "id": "c5481406",
   "metadata": {},
   "outputs": [
    {
     "data": {
      "text/html": [
       "<div>\n",
       "<style scoped>\n",
       "    .dataframe tbody tr th:only-of-type {\n",
       "        vertical-align: middle;\n",
       "    }\n",
       "\n",
       "    .dataframe tbody tr th {\n",
       "        vertical-align: top;\n",
       "    }\n",
       "\n",
       "    .dataframe thead th {\n",
       "        text-align: right;\n",
       "    }\n",
       "</style>\n",
       "<table border=\"1\" class=\"dataframe\">\n",
       "  <thead>\n",
       "    <tr style=\"text-align: right;\">\n",
       "      <th></th>\n",
       "      <th>total_bill</th>\n",
       "      <th>tip</th>\n",
       "      <th>sex</th>\n",
       "      <th>smoker</th>\n",
       "      <th>day</th>\n",
       "      <th>time</th>\n",
       "      <th>size</th>\n",
       "    </tr>\n",
       "  </thead>\n",
       "  <tbody>\n",
       "    <tr>\n",
       "      <th>0</th>\n",
       "      <td>16.99</td>\n",
       "      <td>1.01</td>\n",
       "      <td>Female</td>\n",
       "      <td>No</td>\n",
       "      <td>Sun</td>\n",
       "      <td>Dinner</td>\n",
       "      <td>2</td>\n",
       "    </tr>\n",
       "  </tbody>\n",
       "</table>\n",
       "</div>"
      ],
      "text/plain": [
       "   total_bill  tip     sex smoker  day    time  size\n",
       "0       16.99 1.01  Female     No  Sun  Dinner     2"
      ]
     },
     "execution_count": 109,
     "metadata": {},
     "output_type": "execute_result"
    }
   ],
   "source": []
  },
  {
   "cell_type": "code",
   "execution_count": 150,
   "id": "3a958ca9",
   "metadata": {},
   "outputs": [
    {
     "name": "stdout",
     "output_type": "stream",
     "text": [
      "Number of outliers in 'Salary': 64\n"
     ]
    }
   ],
   "source": [
    "# Calculate IQR\n",
    "Q1 = jops['Salary'].quantile(0.25)\n",
    "Q3 = jops['Salary'].quantile(0.75)\n",
    "IQR = Q3 - Q1\n",
    "\n",
    "# Define outlier bounds\n",
    "lower_bound = Q1 - 1.5 * IQR\n",
    "upper_bound = Q3 + 1.5 * IQR\n",
    "\n",
    "# Identify outliers\n",
    "outliers = jops[(jops['Salary'] < lower_bound) | (jops['Salary'] > upper_bound)]\n",
    "print(f\"Number of outliers in '{'Salary'}': {len(outliers)}\")"
   ]
  },
  {
   "cell_type": "code",
   "execution_count": 154,
   "id": "fc574373",
   "metadata": {},
   "outputs": [
    {
     "data": {
      "application/vnd.plotly.v1+json": {
       "config": {
        "plotlyServerURL": "https://plot.ly"
       },
       "data": [
        {
         "bingroup": "x",
         "hovertemplate": "Salary=%{x}<br>count=%{y}<extra></extra>",
         "legendgroup": "",
         "marker": {
          "color": "lightblue",
          "pattern": {
           "shape": ""
          }
         },
         "name": "",
         "orientation": "v",
         "showlegend": false,
         "type": "histogram",
         "x": {
          "bdata": "AAAAAACIs0AAAAAAAIizQAAAAAAAQK9AAAAAAACIs0AAAAAAAIizQAAAAAAAlLFAAAAAAABwt0AAAAAAAEC/QAAAAAAAiMNAAAAAAACIs0AAAAAAACC8QAAAAAAAQK9AAAAAAAAgvEAAAAAAAHC3QAAAAAAAWLtAAAAAAABwp0AAAAAAAJTBQAAAAAAAcMdAAAAAAABAr0AAAAAAAHy1QAAAAAAAiLNAAAAAAABowEAAAAAAAECvQAAAAAAAQK9AAAAAAABAr0AAAAAAAECvQAAAAAAAQK9AAAAAAABwt0AAAAAAAJSxQAAAAAAAfLVAAAAAAABAr0AAAAAAAACpQAAAAAAAiLNAAAAAAABYu0AAAAAAAFi7QAAAAAAAWLtAAAAAAACUsUAAAAAAAJSxQAAAAAAAQK9AAAAAAACUsUAAAAAAAJSxQAAAAAAAQK9AAAAAAACUsUAAAAAAAIizQAAAAAAAfLVAAAAAAACUsUAAAAAAAJSxQAAAAAAAQK9AAAAAAABAr0AAAAAAAIizQAAAAAAAcLdAAAAAAABAr0AAAAAAAEqwQAAAAAAAQK9AAAAAAACUsUAAAAAAAHy1QAAAAAAAcLdAAAAAAABAr0AAAAAAAECvQAAAAAAAlLFAAAAAAACUsUAAAAAAAECvQAAAAAAAQK9AAAAAAAB8tUAAAAAAAECvQAAAAAAAQK9AAAAAAABAr0AAAAAAAECvQAAAAAAAQK9AAAAAAABAr0AAAAAAAECvQAAAAAAAQK9AAAAAAABYu0AAAAAAAHC3QAAAAAAAQK9AAAAAAABAr0AAAAAAAECvQAAAAAAAWLtAAAAAAACIs0AAAAAAAHy1QAAAAAAAcKxAAAAAAABAv0AAAAAAAEC/QAAAAAAAiLNAAAAAAABAr0AAAAAAAIizQAAAAAAAQK9AAAAAAAB8tUAAAAAAAECvQAAAAAAAWLtAAAAAAABAr0AAAAAAAIK0QAAAAAAAiLNAAAAAAABAr0AAAAAAAFi7QAAAAAAAWLtAAAAAAACIs0AAAAAAAECvQAAAAAAAQK9AAAAAAABAv0AAAAAAAECvQAAAAAAAQK9AAAAAAABAr0AAAAAAAECvQAAAAAAAQK9AAAAAAACIs0AAAAAAAJSxQAAAAAAAfLVAAAAAAABAr0AAAAAAAHC3QAAAAAAAcKdAAAAAAAAwsUAAAAAAAECvQAAAAAAAQK9AAAAAAABAr0AAAAAAAECvQAAAAAAAAKlAAAAAAADkr0AAAAAAAECvQAAAAAAAQK9AAAAAAABAr0AAAAAAAECvQAAAAAAAQK9AAAAAAACUsUAAAAAAAECvQAAAAAAAWLtAAAAAAACIs0AAAAAAAECvQAAAAAAA5K9AAAAAAADkr0AAAAAAAHC3QAAAAAAAcLdAAAAAAABwt0AAAAAAAFi7QAAAAAAAWLtAAAAAAACIs0AAAAAAAEC/QAAAAAAAQK9AAAAAAACIs0AAAAAAAIizQAAAAAAAiLNAAAAAAACIs0AAAAAAAGjAQAAAAAAAaMBAAAAAAABowEAAAAAAAGjAQAAAAAAABrhAAAAAAABkuUAAAAAAAHC3QAAAAAAAMLFAAAAAAACUsUAAAAAAAFi7QAAAAAAAQK9AAAAAAABAr0AAAAAAAIizQAAAAAAAQK9AAAAAAABwt0AAAAAAAIizQAAAAAAAQK9AAAAAAABAr0AAAAAAAECvQAAAAAAAiLNAAAAAAACUsUAAAAAAAJSxQAAAAAAAlLFAAAAAAACIs0AAAAAAAECvQAAAAAAAiLNAAAAAAABMzUAAAAAAAEDPQAAAAAAAiMNAAAAAAABwt0AAAAAAAEzNQAAAAAAAQK9AAAAAAACUsUAAAAAAAIizQAAAAAAAiLNAAAAAAABAr0AAAAAAAIizQAAAAAAAlLFAAAAAAABYu0AAAAAAAJSxQAAAAAAAQK9AAAAAAABAr0AAAAAAAFi7QAAAAAAAQK9AAAAAAABAr0AAAAAAAECvQAAAAAAAQK9AAAAAAABAr0AAAAAAAHC3QAAAAAAAiLNAAAAAAABkuUAAAAAAAIizQAAAAAAAcLdAAAAAAABwp0AAAAAAAECvQAAAAAAARLZAAAAAAAB8tUAAAAAAAJSxQAAAAAAAiLNAAAAAAABAr0AAAAAAAECvQAAAAAAAQK9AAAAAAABAr0AAAAAAAECvQAAAAAAAiLNAAAAAAABAr0AAAAAAAECvQAAAAAAAQK9AAAAAAABAr0AAAAAAAECvQAAAAAAAcLdAAAAAAABAr0AAAAAAAECvQAAAAAAAiMNAAAAAAACIs0AAAAAAAECvQAAAAAAAQK9AAAAAAACuskAAAAAAAACpQAAAAAAAWLtAAAAAAACIs0AAAAAAAHC3QAAAAAAAQK9AAAAAAACIw0AAAAAAAJSxQAAAAAAATM1AAAAAAACUsUAAAAAAAFi7QAAAAAAAiLNAAAAAAACIs0AAAAAAAHy1QAAAAAAAiLNAAAAAAABAr0AAAAAAAECvQAAAAAAAlLFAAAAAAABAr0AAAAAAAECvQAAAAAAAaMBAAAAAAACUsUAAAAAAAHC3QAAAAAAAQK9AAAAAAABAr0AAAAAAAIjDQAAAAAAAQK9AAAAAAABAr0AAAAAAAECvQAAAAAAAiLNAAAAAAABAr0AAAAAAAHC3QAAAAAAAQK9AAAAAAABAr0AAAAAAAECvQAAAAAAAQK9AAAAAAACIs0AAAAAAAECvQAAAAAAAiLNAAAAAAABAr0AAAAAAAFi7QAAAAAAAiLNAAAAAAABAr0AAAAAAAECvQAAAAAAAQK9AAAAAAABAr0AAAAAAAIizQAAAAAAAiLNAAAAAAACIs0AAAAAAAECvQAAAAAAAiLNAAAAAAAAXsUAAAAAAAHC3QAAAAAAAQK9AAAAAAACIs0AAAAAAAIizQAAAAAAAiLNAAAAAAACIs0AAAAAAAGS5QAAAAAAAQK9AAAAAAAB8tUAAAAAAAECvQAAAAAAARLZAAAAAAABSsUAAAAAAAECvQAAAAAAAQK9AAAAAAABwt0AAAAAAAECvQAAAAAAAiMNAAAAAAABwt0AAAAAAAHC3QAAAAAAAiLNAAAAAAABAr0AAAAAAAECvQAAAAAAAQL9AAAAAAACIw0AAAAAAAGS5QAAAAAAAiLNAAAAAAABAr0AAAAAAAECvQAAAAAAAcLdAAAAAAABwt0AAAAAAAECvQAAAAAAAQK9AAAAAAABAr0AAAAAAAECvQAAAAACAIMtAAAAAAABAr0AAAAAAAFyxQAAAAAAAwLJAAAAAAABAr0AAAAAAAIizQAAAAAAAQK9AAAAAAABwt0AAAAAAAHC3QAAAAAAAcLdAAAAAAABwt0AAAAAAAHC3QAAAAAAAcLdAAAAAAACIs0AAAAAAAFi7QAAAAAAAiLNAAAAAAABAr0AAAAAAAECvQAAAAAAAQK9AAAAAAABAr0AAAAAAAIizQAAAAAAAlLFAAAAAAACIs0AAAAAAAJSxQAAAAAAAlLFAAAAAAABAr0AAAAAAAECvQAAAAAAAQK9AAAAAAABAr0AAAAAAAECvQAAAAAAAQK9AAAAAAACIs0AAAAAAAECvQAAAAAAAQK9AAAAAAAD5tUAAAAAAAPjBQAAAAAAAcKdAAAAAAABAr0AAAAAAAIizQAAAAAAAQK9AAAAAAADgtUAAAAAAAOC1QAAAAAAA4LVAAAAAAADgtUAAAAAAAECvQAAAAAAAQK9AAAAAAABAr0AAAAAAAJSxQAAAAAAAfLVAAAAAAADAskAAAAAAgDHBQAAAAAAAQK9AAAAAAIAxwUAAAAAAAECvQAAAAAAAQK9AAAAAAABYu0AAAAAAAIizQAAAAAAAQK9AAAAAAABAr0AAAAAAAECvQAAAAAAAQK9AAAAAAABwt0AAAAAAAFi7QAAAAAAAQK9AAAAAAABAr0AAAAAAAEC/QAAAAAAAQK9AAAAAAABAr0AAAAAAAJSxQAAAAAAAQK9AAAAAAABAr0AAAAAAAES2QAAAAAAARLZAAAAAAABEtkAAAAAAAES2QAAAAAAAaMBAAAAAAACIs0AAAAAAAIizQAAAAAAAcLdAAAAAAACIs0AAAAAAAIizQAAAAAAAlLFAAAAAAABAr0AAAAAAAECvQAAAAAAAAKlAAAAAAABAr0AAAAAAAECvQAAAAAAAQK9AAAAAAABAr0AAAAAAAIizQAAAAAAAcLdAAAAAAABwt0AAAAAAAES2QAAAAAAAiMNAAAAAAABAv0AAAAAAAHC3QAAAAAAAcLdAAAAAAABYq0AAAAAAAHC3QAAAAAAAlLFAAAAAAABAr0AAAAAAAHC3QAAAAAAAcLdAAAAAAADls0AAAAAAAIizQAAAAAAAWLtAAAAAAABYu0AAAAAAAFi7QAAAAAAAQK9AAAAAAABAr0AAAAAAAECvQAAAAAAAqLZAAAAAAACIs0AAAAAAAECvQAAAAAAAlMFAAAAAAABAr0AAAAAAAECvQAAAAAAAQK9AAAAAAACIs0AAAAAAAECvQAAAAAAAQK9AAAAAAAD5tUAAAAAAAHC3QAAAAAAAcLdAAAAAAACIs0AAAAAAAECvQAAAAAAAiLNAAAAAAACIs0AAAAAAAIizQAAAAAAAiLNAAAAAAACIs0AAAAAAAHC3QAAAAAAAULRAAAAAAABAv0AAAAAAAFi7QAAAAAAAQK9AAAAAAACawEAAAAAAAECvQAAAAAAAlLFAAAAAAABAr0AAAAAAACCsQAAAAAAAcLdAAAAAAABAr0AAAAAAAECvQAAAAAAAQK9AAAAAAABAr0AAAAAAAHC3QAAAAAAAWLtAAAAAAABAr0AAAAAAAEy9QAAAAAAAOLFAAAAAAABAr0AAAAAAAIizQAAAAAAAfLVAAAAAAABAr0AAAAAAAECvQAAAAAAAQK9AAAAAAACIs0AAAAAAAECvQAAAAAAAcLdAAAAAAABAr0AAAAAAAF7aQAAAAAAAQK9AAAAAAACIs0AAAAAAAEy9QAAAAAAA5q9AAAAAAABYu0AAAAAAAECvQAAAAAAAlLFAAAAAAABAr0AAAAAAAGS5QAAAAAAAWLtAAAAAAABwx0AAAAAAAIizQAAAAAAAQK9AAAAAAAB8tUAAAAAAAHy1QAAAAAAAiLNAAAAAAAB8tUAAAAAAAIjDQAAAAAAAQK9AAAAAAACIs0AAAAAAAPixQAAAAAAAmMBAAAAAAABAr0AAAAAAAIizQAAAAAAAcLdAAAAAAABAr0AAAAAAAEC/QAAAAAAAcLdAAAAAAABAr0AAAAAAAJSxQAAAAAAAiLNAAAAAAACIs0AAAAAAAIizQAAAAAAAQK9AAAAAAABwt0AAAAAAAHC3QAAAAAAAQK9AAAAAAABAr0AAAAAAAJSxQAAAAAAAiLNAAAAAAABAv0AAAAAAAGS5QAAAAAAAQK9AAAAAAAB8tUAAAAAAAECvQAAAAAAAcLdAAAAAAABquEAAAAAAAECvQAAAAACARsBAAAAAAABAr0AAAAAAAECvQAAAAAAAiLNAAAAAAABAr0AAAAAAAECvQAAAAAAAQK9AAAAAAABAr0AAAAAAAIizQAAAAAAAfLVAAAAAAABYu0AAAAAAAEDfQAAAAAAAQK9AAAAAAABAr0AAAAAAgBLIQAAAAAAAQK9AAAAAAACUsUAAAAAAAPm1QAAAAAAAQK9AAAAAAABYu0AAAAAAAFirQAAAAAAAt7lAAAAAAAC3uUAAAAAAAECvQAAAAAAAt7lAAAAAAABAr0AAAAAAAECvQAAAAAAAQK9AAAAAAABAr0AAAAAAAECvQAAAAAAAQK9AAAAAAABAr0AAAAAAAECvQAAAAAAAQK9AAAAAAABAr0AAAAAAAECvQAAAAAAAQK9AAAAAAABAr0AAAAAAAECvQAAAAAAAiMNAAAAAAABMzUAAAAAAAECvQAAAAAAAfLVAAAAAAACIs0AAAAAAAECvQAAAAAAAQK9AAAAAAACIs0AAAAAAAECvQAAAAAAAlLFAAAAAAABAr0AAAAAAAECvQAAAAAAAlLFAAAAAAABYu0AAAAAAAHy1QAAAAAAAcLdAAAAAAADAskAAAAAAAGS5QAAAAAAAcLdAAAAAAABMvUAAAAAAAJrAQAAAAAAAcLdAAAAAAADftUAAAAAAAJSxQAAAAAAAQK9AAAAAAABAr0AAAAAAAFirQAAAAAAAQK9AAAAAAABAv0AAAAAAAECvQAAAAAAAiLNAAAAAAACIs0AAAAAAAEy9QAAAAAAAlLFAAAAAAABMvUAAAAAAAECvQAAAAAAAQK9AAAAAAABEtkAAAAAAAES2QAAAAAAAQK9AAAAAAAB8tUAAAAAAAHC3QAAAAAAAiLNAAAAAAABAr0AAAAAAAEC/QAAAAAAAQK9AAAAAAABAr0AAAAAAAIizQAAAAAAAQK9AAAAAAACUsUAAAAAAAECvQAAAAAAAmsBAAAAAAACawEAAAAAAAHy1QAAAAAAAiMNAAAAAAACUsUAAAAAAAIjDQAAAAAAAlLFAAAAAAACIw0AAAAAAAFi7QAAAAAAAlLFAAAAAAACUsUAAAAAAAI7CQAAAAAAAjsJAAAAAAACIw0AAAAAAAJSxQAAAAAAAfMVAAAAAAAB8xUAAAAAAAJSxQAAAAAAAcLdAAAAAAABAr0AAAAAAAECvQAAAAAAAjrJAAAAAAAB8tUAAAAAAAHy1QAAAAAAAWLtAAAAAAACIs0AAAAAAAIizQAAAAAAAQK9AAAAAAABAr0AAAAAAAJSxQAAAAAAAQK9AAAAAAACIs0AAAAAAAIizQAAAAAAAQK9AAAAAAABAr0AAAAAAAECvQAAAAAAAiLNAAAAAAABAr0AAAAAAAFirQAAAAAAAQK9AAAAAAACUsUAAAAAAAECvQAAAAAAAQK9AAAAAAABkuUAAAAAAAECvQAAAAAAAiLNAAAAAAABwt0AAAAAAAECvQAAAAAAAQL9AAAAAAABAr0AAAAAAADCxQAAAAAAAiLNAAAAAAACIs0AAAAAAAIizQAAAAAAAiLNAAAAAAABAv0AAAAAAAIizQAAAAAAAQK9AAAAAAABAr0AAAAAAAECvQAAAAAAAQK9AAAAAAABAr0AAAAAAAECvQAAAAAAA4LBAAAAAAAAWskAAAAAAABexQAAAAAAAlLFAAAAAAADKs0AAAAAAAJSxQAAAAAAAlLFAAAAAAABAr0AAAAAAAJSxQAAAAAAAlLFAAAAAAACUsUAAAAAAAECvQAAAAAAAFrJAAAAAAAAWskAAAAAAAIizQAAAAAAAQK9AAAAAAABYu0AAAAAAAECvQAAAAAAAQK9AAAAAAABwt0AAAAAAAIizQAAAAAAAcLdAAAAAAACIs0AAAAAAAIizQAAAAAAAWLtAAAAAAACawEAAAAAAAHy1QAAAAAAATL1AAAAAAABAr0AAAAAAAECvQAAAAAAAiLNAAAAAAABQtEAAAAAAAECvQAAAAAAAcLdAAAAAAABPskAAAAAAAIizQAAAAAAAEbJAAAAAAABAr0AAAAAAAHC3QAAAAAAAcLdAAAAAAACIs0AAAAAAAIizQAAAAAAAlLFAAAAAAABAr0AAAAAAAJSxQAAAAAAAlLFAAAAAAABAv0AAAAAAAEC/QAAAAAAAZLlAAAAAAABkuUAAAAAAAHC3QAAAAAAAiLNAAAAAAACUsUAAAAAAAIizQAAAAAAAiLNAAAAAAABMvUAAAAAAAFi7QAAAAAAAlLFAAAAAAACUsUAAAAAAAHy1QAAAAAAAQK9AAAAAAAAAqUAAAAAAAHy1QAAAAAAAlLFAAAAAAABAr0AAAAAAAES2QAAAAAAABcRAAAAAAACIs0AAAAAAAJSxQAAAAAAAlLFAAAAAAACIs0AAAAAAAJSxQAAAAAAAQK9AAAAAAABMzUAAAAAAAECvQAAAAAAAQK9AAAAAAABAv0AAAAAAAIizQAAAAAAAiLNAAAAAAABAr0AAAAAAAECvQAAAAAAAQK9AAAAAAABAr0AAAAAAAECvQAAAAAAAQK9AAAAAAABAr0AAAAAAAHy1QAAAAAAAQK9AAAAAAABYu0AAAAAAAIizQAAAAAAAQK9AAAAAAACws0AAAAAAAIizQAAAAAAA/KhAAAAAAACUsUAAAAAAAECvQAAAAAAAcLdAAAAAAACIs0AAAAAAAHC3QAAAAAAAcLdAAAAAAABAr0AAAAAAAJSxQAAAAAAAQK9AAAAAAABAr0AAAAAAAECvQAAAAAAAQK9AAAAAAABAr0AAAAAAAFi7QAAAAAAApK9AAAAAAABAr0AAAAAAAECvQAAAAAAAQK9AAAAAAABAr0AAAAAAAHC3QAAAAAAARLZAAAAAAABEtkAAAAAAAES2QAAAAAAARLZAAAAAAABYu0AAAAAAAGjAQAAAAAAAWLtAAAAAAABowEAAAAAAAMDCQAAAAAAAcLdAAAAAAABAr0AAAAAAAECvQAAAAAAAQK9AAAAAAABAv0AAAAAAAIizQAAAAAAAWKtAAAAAAABAr0AAAAAAAIizQAAAAAAAcLdAAAAAAABAr0AAAAAAAGS5QAAAAAAAQK9AAAAAAABYu0AAAAAAAJrAQAAAAAAAQK9AAAAAAADgtUAAAAAAAEC/QAAAAAAAcLdAAAAAAABYu0AAAAAAAECvQAAAAAAAWKtAAAAAAABYu0AAAAAAAIizQAAAAAAAiLNAAAAAAACIs0AAAAAAAECvQAAAAAAAlLFAAAAAAACUsUAAAAAAAJSxQAAAAAAAQK9AAAAAAABwt0AAAAAAAHC3QAAAAAAAQK9AAAAAAABAr0AAAAAAAECvQAAAAAAAQK9AAAAAAACIs0AAAAAAAECvQAAAAAAAiLNAAAAAAABAr0AAAAAAAEzNQAAAAAAAiLNAAAAAAACIs0AAAAAAAFi7QAAAAAAAZLlAAAAAAABwt0AAAAAAAJSxQAAAAAAAcLdAAAAAAACIs0AAAAAAAFi7QAAAAAAAcLdAAAAAAACIs0AAAAAAAGiwQAAAAAAAAKlAAAAAAADAskAAAAAAAECvQAAAAAAAQK9AAAAAAABAr0AAAAAAAECvQAAAAAAAiLNAAAAAAACIs0AAAAAAAEC/QAAAAAAAQK9AAAAAAABAr0AAAAAAAECvQAAAAAAAQK9AAAAAAABAr0AAAAAAAGiwQAAAAAAAQK9AAAAAAABAr0AAAAAAAECvQAAAAAAAQK9AAAAAAABAr0AAAAAAAOSvQAAAAAAAQK9AAAAAAABAr0AAAAAAAHC3QAAAAAAAcLdAAAAAAABAr0AAAAAAAECvQAAAAAAAF+FAAAAAAAB8tUAAAAAAAHC3QAAAAAAAQK9AAAAAAAAAqUAAAAAAAECvQAAAAAAAQK9AAAAAAAAAqUAAAAAAAFi7QAAAAAAARLZAAAAAAABwt0AAAAAAAECvQAAAAAAAWLtAAAAAAADIyUAAAAAAAECvQAAAAAAAQK9AAAAAAABEtkAAAAAAAECvQAAAAAAAcLdAAAAAAAB8tUAAAAAAAECvQAAAAAAAQK9AAAAAAABAr0AAAAAAAIizQAAAAAAAiLNAAAAAAABAv0AAAAAAAECvQAAAAAAAQK9AAAAAAABwp0AAAAAAAGiwQAAAAAAAQK9AAAAAAABAr0AAAAAAAHC3QAAAAAAAiLNAAAAAAABAr0AAAAAAAECvQAAAAAAAQK9AAAAAAABYu0AAAAAAAECvQAAAAAAAQK9AAAAAAABAr0AAAAAAAECvQAAAAAAAQK9AAAAAAABMvUAAAAAAAHC3QAAAAAAAAKlAAAAAAABAr0AAAAAAAECvQAAAAAAAcLdAAAAAAABAr0AAAAAAAIizQAAAAAAAQL9AAAAAAACIw0AAAAAAAECvQAAAAAAAl7RAAAAAAACIs0AAAAAAAHy1QAAAAAAAlLFAAAAAAACIs0AAAAAAAFbOQAAAAAAAQK9AAAAAAAA7skAAAAAAAECvQAAAAAAAAKlAAAAAAADkr0AAAAAAAECvQAAAAAAAQK9AAAAAAABwt0AAAAAAAHC3QAAAAAAAQK9AAAAAAAB8tUAAAAAAAECvQAAAAAAAQK9AAAAAAAB8tUAAAAAAAECvQAAAAAAAiLNAAAAAAABAr0AAAAAAAJSxQAAAAAAAiLNAAAAAAACUsUAAAAAAAHy1QAAAAAAAzLBAAAAAAABAr0AAAAAAAFi7QAAAAAAAlLFAAAAAAABAr0AAAAAAAECvQAAAAAAAcMdAAAAAAABAr0AAAAAAAECvQAAAAAAAQK9AAAAAAABAr0AAAAAAAHCsQAAAAAAAlLFAAAAAAABAr0AAAAAAAECvQAAAAAAAQK9AAAAAAABAr0AAAAAAAEKvQAAAAAAAiLNAAAAAAACUsUAAAAAAAJSxQAAAAAAAiLNAAAAAAAB8tUAAAAAAAIizQAAAAAAAcLdAAAAAAABAr0AAAAAAAECvQAAAAAAAyKlAAAAAAABAr0AAAAAAAECvQAAAAAAAQK9AAAAAAAB8tUAAAAAAAECvQAAAAAAAQK9AAAAAAABAr0AAAAAAAFC0QAAAAAAAfLVAAAAAAABAr0AAAAAAAECvQAAAAAAAQK9AAAAAAABAr0AAAAAAAHC3QAAAAAAAiLNAAAAAAABrtUAAAAAAAECvQAAAAAAARLZAAAAAAABEtkAAAAAAAES2QAAAAAAA+bVAAAAAAABquEAAAAAAACC8QAAAAAAAfLVAAAAAAACIs0AAAAAAAIizQAAAAAAAQK9AAAAAAACIs0AAAAAAAIizQAAAAAAAfLVAAAAAAABwt0AAAAAAAFi7QAAAAAAAcLdAAAAAAACUsUAAAAAAAFi7QAAAAAAAfLVAAAAAAABwt0AAAAAAAHy1QAAAAAAAcLdAAAAAAABAr0AAAAAAAECvQAAAAAAAiLNAAAAAAABAv0AAAAAAAEC/QAAAAAAAQK9AAAAAAABAr0AAAAAAAECvQAAAAAAAcLdAAAAAAAAAqUAAAAAAAECvQAAAAAAAiLNAAAAAAACIs0AAAAAAAIizQAAAAAAAQK9AAAAAAABwt0AAAAAAAHC3QAAAAAAAQK9AAAAAAABAr0AAAAAAAIizQAAAAAAAcLdAAAAAAABAr0AAAAAAAECvQAAAAAAAQK9AAAAAAAB8tUAAAAAAAIizQAAAAAAAiLNAAAAAAACIs0AAAAAAAIizQAAAAAAAWLtAAAAAAABYu0AAAAAAAFi7QAAAAAAAWLtAAAAAAABYu0AAAAAAAECvQAAAAAAAQK9AAAAAAACUsUAAAAAAAHC3QAAAAAAAcLdAAAAAAABAr0AAAAAAAECvQAAAAAAAQK9AAAAAAABAr0AAAAAAAFi7QAAAAAAAiLNAAAAAAABYu0AAAAAAAGS5QAAAAAAARLZAAAAAAABAr0AAAAAAAHC3QAAAAAAAQL9AAAAAAABwx0AAAAAAAHC3QAAAAAAAQL9AAAAAAABwx0AAAAAAAHDHQAAAAAAAQL9AAAAAAABAv0AAAAAAAHDHQAAAAAAAQL9AAAAAAABwt0AAAAAAAHC3QAAAAAAAcLdAAAAAAABYq0AAAAAAAEC/QAAAAAAAWLtAAAAAAABAr0AAAAAAAIizQAAAAAAAiLNAAAAAAACIs0AAAAAAAIizQAAAAAAAiLNAAAAAAACIs0AAAAAAAIizQAAAAAAAiLNAAAAAAABYu0AAAAAAAFi7QAAAAAAAiLNAAAAAAABYu0AAAAAAAHC3QAAAAAAAiLNAAAAAAACIs0AAAAAAAIizQAAAAAAAiLNAAAAAAACIs0AAAAAAAECvQAAAAAAAWLtAAAAAAABAr0AAAAAAAECvQAAAAAAAcLdAAAAAAABAr0AAAAAAABfhQAAAAAAAcLdAAAAAAABAr0AAAAAAAACpQAAAAAAAQK9AAAAAAAAAqUAAAAAAAES2QAAAAAAAWLtAAAAAAABEtkAAAAAAAHC3QAAAAAAAQK9AAAAAAABYu0AAAAAAAMjJQAAAAAAAQK9AAAAAAABEtkAAAAAAAECvQAAAAAAAcLdAAAAAAAB8tUAAAAAAAECvQAAAAAAAQK9AAAAAAABwp0AAAAAAAHC3QAAAAAAAiLNAAAAAAABAr0AAAAAAAECvQAAAAAAATb5AAAAAAABYu0AAAAAAAECvQAAAAAAAQK9AAAAAAABAr0AAAAAAAJSxQAAAAAAAAKlAAAAAAACUsUAAAAAAAECvQAAAAAAAlNFAAAAAAACUsUAAAAAAAEC/QAAAAAAAarhAAAAAAAB8tUAAAAAAAFirQAAAAAAAcLdAAAAAAABAr0AAAAAAAECvQAAAAAAAQK9AAAAAAABwt0AAAAAAAIjDQAAAAAAATL1AAAAAAABMvUAAAAAAAEy9QAAAAAAAiMNAAAAAAABMvUAAAAAAAECvQAAAAAAAQK9AAAAAAABYu0AAAAAAAIizQAAAAAAAQK9AAAAAAABAr0AAAAAAAECvQAAAAAAAQK9AAAAAAACUsUAAAAAAAJSxQAAAAAAAQK9AAAAAAABAr0AAAAAAAJSxQAAAAAAAlLFAAAAAAABYq0AAAAAAAFi7QAAAAAAAWLtAAAAAAABAr0AAAAAAAIizQAAAAAAAQK9AAAAAAAAgrEAAAAAAACCsQAAAAAAAIKxAAAAAAABAr0AAAAAAAHC3QAAAAAAAcLdAAAAAAABAr0AAAAAAAECvQAAAAAAAQK9AAAAAAABAr0AAAAAAAHC3QAAAAAAAfLVAAAAAAACIs0AAAAAAAECvQAAAAAAAcLdAAAAAAABAr0AAAAAAAGiwQAAAAAAAQL9AAAAAAABAv0AAAAAAAEC/QAAAAAAAcLdAAAAAAACUsUAAAAAAAIjDQAAAAAAAiMNAAAAAAACIs0AAAAAAAEC/QAAAAAAAV7tAAAAAAABYu0AAAAAAAFi7QAAAAAAAWLtAAAAAAABwt0AAAAAAAEzNQAAAAAAAQK9AAAAAAADkr0AAAAAAAIjDQAAAAAAAQK9AAAAAAABAr0AAAAAAAECvQAAAAAAAQK9AAAAAAABWw0AAAAAAAIizQAAAAAAAVsNAAAAAAABWw0AAAAAAAFbDQAAAAAAAVsNAAAAAAAB8tUAAAAAAAFbDQAAAAAAAVsNAAAAAAABAr0AAAAAAAGS5QAAAAAAAQK9AAAAAAABAr0AAAAAAAHC3QAAAAAAA5K9AAAAAAABYu0AAAAAAAIizQAAAAAAAiLNAAAAAAABAr0AAAAAAAHC3QAAAAAAAZLlAAAAAAABAr0AAAAAAAEy9QAAAAAAAQK9AAAAAAABAr0AAAAAAAECvQAAAAAAAQK9AAAAAAABwt0AAAAAAAECvQAAAAAAAQK9AAAAAAABAr0AAAAAAAECvQAAAAAAAJLNAAAAAAACIs0AAAAAAAIizQAAAAAAAlLFAAAAAAAB8tUAAAAAAAFi7QAAAAAAAfLVAAAAAAABwt0AAAAAAAECvQAAAAAAAcKdAAAAAAABwt0AAAAAAAECvQAAAAAAAQK9AAAAAAABAr0AAAAAAAECvQAAAAAAAOMhAAAAAAABwt0AAAAAAAGiwQAAAAAAAQK9AAAAAAACIs0AAAAAAAECvQAAAAAAAQK9AAAAAAABYq0AAAAAAAHC3QAAAAAAAWLtAAAAAAACUsUAAAAAAAHC3QAAAAAAAiLNAAAAAAAB8tUAAAAAAAIizQAAAAAAATL1AAAAAAABAr0AAAAAAAECvQAAAAAAAQK9AAAAAAIAVwkAAAAAAAECvQAAAAAAAcMdAAAAAAABAr0AAAAAAAECvQAAAAAAAiLNAAAAAAABAr0AAAAAAAECvQAAAAAAAQK9AAAAAAABAr0AAAAAAAECvQAAAAAAAQK9AAAAAAACIs0AAAAAAAIizQAAAAAAAQK9AAAAAAABAr0AAAAAAAECvQAAAAAAAQK9AAAAAAABAr0AAAAAAAECvQAAAAAAAQK9AAAAAAABwt0AAAAAAAHC3QAAAAAAAQK9AAAAAAAB8tUAAAAAAAHy1QAAAAAAAfLVAAAAAAAB8tUAAAAAAAECvQAAAAAAAQK9AAAAAAABAr0AAAAAAAECvQAAAAAAAWLtAAAAAAABwt0AAAAAAAIizQAAAAAAAQK9AAAAAAACIs0AAAAAAAECvQAAAAAAAcLdAAAAAAABYu0AAAAAAAFi7QAAAAAAAQK9AAAAAAACUsUAAAAAAAJSxQAAAAAAAfLVAAAAAAABAr0AAAAAAAIizQAAAAAAAfLVAAAAAAACIs0AAAAAAAEC/QAAAAAAAQK9AAAAAAACIs0AAAAAAAHC3QAAAAAAAQK9AAAAAAABAr0AAAAAAAIizQAAAAAAAQK9AAAAAAABAr0AAAAAAAHDHQAAAAAAAJLNAAAAAAABYu0AAAAAAAECvQAAAAAAAQK9AAAAAAABYu0AAAAAAAECvQAAAAAAAlLFAAAAAAABAr0AAAAAAAECvQAAAAAAAQK9AAAAAAABosEAAAAAAAECvQAAAAAAAiLNAAAAAAACUsUAAAAAAAECvQAAAAAAAQK9AAAAAAABAr0AAAAAAAGS5QAAAAAAAQK9AAAAAAACIs0AAAAAAAEC/QAAAAAAAZLlAAAAAAABAr0AAAAAAAJrAQAAAAAAAiLNAAAAAAABAr0AAAAAAAECvQAAAAAAAQK9AAAAAAABAr0AAAAAAAECvQAAAAAAAQK9AAAAAAABYu0AAAAAAAECvQAAAAAAAQK9AAAAAAABAr0AAAAAAAIizQAAAAAAAWMtAAAAAAABYu0AAAAAAAFi7QAAAAAAAWLtAAAAAAACIs0AAAAAAAECvQAAAAAAAQK9AAAAAAABAr0AAAAAAAASwQAAAAAAAiLNAAAAAAABAv0AAAAAAAECvQAAAAAAAQK9AAAAAAABAr0AAAAAAAECvQAAAAAAAQK9AAAAAAABAr0AAAAAAAJSxQAAAAAAAiLNAAAAAAACUsUAAAAAAAECvQAAAAAAAfLVAAAAAAACUsUAAAAAAAJSxQAAAAAAAQK9AAAAAAABAr0AAAAAAAJSxQAAAAAAAZLlAAAAAAACUsUAAAAAAAFi7QAAAAAAAiLNAAAAAAABosEAAAAAAAIizQAAAAAAAtLVAAAAAAACIs0AAAAAAAECvQAAAAAAAQK9AAAAAAACIs0AAAAAAAECvQAAAAAAAQK9AAAAAAABAr0AAAAAAAECvQAAAAAAAfLVAAAAAAABAr0AAAAAAAECvQA==",
          "dtype": "f8"
         },
         "xaxis": "x",
         "yaxis": "y"
        }
       ],
       "layout": {
        "barmode": "relative",
        "legend": {
         "tracegroupgap": 0
        },
        "margin": {
         "t": 60
        },
        "template": {
         "data": {
          "candlestick": [
           {
            "decreasing": {
             "line": {
              "color": "#000033"
             }
            },
            "increasing": {
             "line": {
              "color": "#000032"
             }
            },
            "type": "candlestick"
           }
          ],
          "contour": [
           {
            "colorscale": [
             [
              0,
              "#000011"
             ],
             [
              0.1111111111111111,
              "#000012"
             ],
             [
              0.2222222222222222,
              "#000013"
             ],
             [
              0.3333333333333333,
              "#000014"
             ],
             [
              0.4444444444444444,
              "#000015"
             ],
             [
              0.5555555555555556,
              "#000016"
             ],
             [
              0.6666666666666666,
              "#000017"
             ],
             [
              0.7777777777777778,
              "#000018"
             ],
             [
              0.8888888888888888,
              "#000019"
             ],
             [
              1,
              "#000020"
             ]
            ],
            "type": "contour"
           }
          ],
          "contourcarpet": [
           {
            "colorscale": [
             [
              0,
              "#000011"
             ],
             [
              0.1111111111111111,
              "#000012"
             ],
             [
              0.2222222222222222,
              "#000013"
             ],
             [
              0.3333333333333333,
              "#000014"
             ],
             [
              0.4444444444444444,
              "#000015"
             ],
             [
              0.5555555555555556,
              "#000016"
             ],
             [
              0.6666666666666666,
              "#000017"
             ],
             [
              0.7777777777777778,
              "#000018"
             ],
             [
              0.8888888888888888,
              "#000019"
             ],
             [
              1,
              "#000020"
             ]
            ],
            "type": "contourcarpet"
           }
          ],
          "heatmap": [
           {
            "colorscale": [
             [
              0,
              "#000011"
             ],
             [
              0.1111111111111111,
              "#000012"
             ],
             [
              0.2222222222222222,
              "#000013"
             ],
             [
              0.3333333333333333,
              "#000014"
             ],
             [
              0.4444444444444444,
              "#000015"
             ],
             [
              0.5555555555555556,
              "#000016"
             ],
             [
              0.6666666666666666,
              "#000017"
             ],
             [
              0.7777777777777778,
              "#000018"
             ],
             [
              0.8888888888888888,
              "#000019"
             ],
             [
              1,
              "#000020"
             ]
            ],
            "type": "heatmap"
           }
          ],
          "histogram2d": [
           {
            "colorscale": [
             [
              0,
              "#000011"
             ],
             [
              0.1111111111111111,
              "#000012"
             ],
             [
              0.2222222222222222,
              "#000013"
             ],
             [
              0.3333333333333333,
              "#000014"
             ],
             [
              0.4444444444444444,
              "#000015"
             ],
             [
              0.5555555555555556,
              "#000016"
             ],
             [
              0.6666666666666666,
              "#000017"
             ],
             [
              0.7777777777777778,
              "#000018"
             ],
             [
              0.8888888888888888,
              "#000019"
             ],
             [
              1,
              "#000020"
             ]
            ],
            "type": "histogram2d"
           }
          ],
          "icicle": [
           {
            "textfont": {
             "color": "white"
            },
            "type": "icicle"
           }
          ],
          "sankey": [
           {
            "textfont": {
             "color": "#000036"
            },
            "type": "sankey"
           }
          ],
          "scatter": [
           {
            "marker": {
             "line": {
              "width": 0
             }
            },
            "type": "scatter"
           }
          ],
          "table": [
           {
            "cells": {
             "fill": {
              "color": "#000038"
             },
             "font": {
              "color": "#000037"
             },
             "line": {
              "color": "#000039"
             }
            },
            "header": {
             "fill": {
              "color": "#000040"
             },
             "font": {
              "color": "#000036"
             },
             "line": {
              "color": "#000039"
             }
            },
            "type": "table"
           }
          ],
          "waterfall": [
           {
            "connector": {
             "line": {
              "color": "#000036",
              "width": 2
             }
            },
            "decreasing": {
             "marker": {
              "color": "#000033"
             }
            },
            "increasing": {
             "marker": {
              "color": "#000032"
             }
            },
            "totals": {
             "marker": {
              "color": "#000034"
             }
            },
            "type": "waterfall"
           }
          ]
         },
         "layout": {
          "coloraxis": {
           "colorscale": [
            [
             0,
             "#000011"
            ],
            [
             0.1111111111111111,
             "#000012"
            ],
            [
             0.2222222222222222,
             "#000013"
            ],
            [
             0.3333333333333333,
             "#000014"
            ],
            [
             0.4444444444444444,
             "#000015"
            ],
            [
             0.5555555555555556,
             "#000016"
            ],
            [
             0.6666666666666666,
             "#000017"
            ],
            [
             0.7777777777777778,
             "#000018"
            ],
            [
             0.8888888888888888,
             "#000019"
            ],
            [
             1,
             "#000020"
            ]
           ]
          },
          "colorscale": {
           "diverging": [
            [
             0,
             "#000021"
            ],
            [
             0.1,
             "#000022"
            ],
            [
             0.2,
             "#000023"
            ],
            [
             0.3,
             "#000024"
            ],
            [
             0.4,
             "#000025"
            ],
            [
             0.5,
             "#000026"
            ],
            [
             0.6,
             "#000027"
            ],
            [
             0.7,
             "#000028"
            ],
            [
             0.8,
             "#000029"
            ],
            [
             0.9,
             "#000030"
            ],
            [
             1,
             "#000031"
            ]
           ],
           "sequential": [
            [
             0,
             "#000011"
            ],
            [
             0.1111111111111111,
             "#000012"
            ],
            [
             0.2222222222222222,
             "#000013"
            ],
            [
             0.3333333333333333,
             "#000014"
            ],
            [
             0.4444444444444444,
             "#000015"
            ],
            [
             0.5555555555555556,
             "#000016"
            ],
            [
             0.6666666666666666,
             "#000017"
            ],
            [
             0.7777777777777778,
             "#000018"
            ],
            [
             0.8888888888888888,
             "#000019"
            ],
            [
             1,
             "#000020"
            ]
           ],
           "sequentialminus": [
            [
             0,
             "#000011"
            ],
            [
             0.1111111111111111,
             "#000012"
            ],
            [
             0.2222222222222222,
             "#000013"
            ],
            [
             0.3333333333333333,
             "#000014"
            ],
            [
             0.4444444444444444,
             "#000015"
            ],
            [
             0.5555555555555556,
             "#000016"
            ],
            [
             0.6666666666666666,
             "#000017"
            ],
            [
             0.7777777777777778,
             "#000018"
            ],
            [
             0.8888888888888888,
             "#000019"
            ],
            [
             1,
             "#000020"
            ]
           ]
          },
          "colorway": [
           "#000001",
           "#000002",
           "#000003",
           "#000004",
           "#000005",
           "#000006",
           "#000007",
           "#000008",
           "#000009",
           "#000010"
          ]
         }
        },
        "xaxis": {
         "anchor": "y",
         "domain": [
          0,
          1
         ],
         "title": {
          "text": "Salary"
         }
        },
        "yaxis": {
         "anchor": "x",
         "domain": [
          0,
          1
         ],
         "title": {
          "text": "count"
         }
        }
       }
      }
     },
     "metadata": {},
     "output_type": "display_data"
    }
   ],
   "source": [
    "fig = px.histogram(jops, x=\"Salary\" , color_discrete_sequence=[\"lightblue\"])\n",
    "fig.show()"
   ]
  },
  {
   "cell_type": "code",
   "execution_count": 155,
   "id": "30b0cad2",
   "metadata": {},
   "outputs": [
    {
     "data": {
      "text/plain": [
       "region\n",
       "الرياض             599\n",
       "مكة المكرمة        362\n",
       "المنطقة الشرقية    214\n",
       "المدينة المنورة     83\n",
       "الباحة              46\n",
       "عسير                40\n",
       "القصيم              30\n",
       "حائل                18\n",
       "تبوك                11\n",
       "نجران                8\n",
       "جازان                7\n",
       "الحدود الشمالية      4\n",
       "الجوف                4\n",
       "اخرى                 1\n",
       "Name: count, dtype: int64"
      ]
     },
     "execution_count": 155,
     "metadata": {},
     "output_type": "execute_result"
    }
   ],
   "source": [
    "jops['region'].value_counts()"
   ]
  },
  {
   "cell_type": "code",
   "execution_count": null,
   "id": "c3c3d116",
   "metadata": {},
   "outputs": [
    {
     "data": {
      "application/vnd.plotly.v1+json": {
       "config": {
        "plotlyServerURL": "https://plot.ly"
       },
       "data": [
        {
         "hovertemplate": "region=%{x}<br>count=%{y}<extra></extra>",
         "legendgroup": "الرياض",
         "marker": {
          "color": "rgb(102, 197, 204)",
          "pattern": {
           "shape": ""
          }
         },
         "name": "الرياض",
         "orientation": "v",
         "showlegend": true,
         "textposition": "auto",
         "type": "bar",
         "x": [
          "الرياض",
          "الرياض",
          "الرياض",
          "الرياض",
          "الرياض",
          "الرياض",
          "الرياض",
          "الرياض",
          "الرياض",
          "الرياض",
          "الرياض",
          "الرياض",
          "الرياض",
          "الرياض",
          "الرياض",
          "الرياض",
          "الرياض",
          "الرياض",
          "الرياض",
          "الرياض",
          "الرياض",
          "الرياض",
          "الرياض",
          "الرياض",
          "الرياض",
          "الرياض",
          "الرياض",
          "الرياض",
          "الرياض",
          "الرياض",
          "الرياض",
          "الرياض",
          "الرياض",
          "الرياض",
          "الرياض",
          "الرياض",
          "الرياض",
          "الرياض",
          "الرياض",
          "الرياض",
          "الرياض",
          "الرياض",
          "الرياض",
          "الرياض",
          "الرياض",
          "الرياض",
          "الرياض",
          "الرياض",
          "الرياض",
          "الرياض",
          "الرياض",
          "الرياض",
          "الرياض",
          "الرياض",
          "الرياض",
          "الرياض",
          "الرياض",
          "الرياض",
          "الرياض",
          "الرياض",
          "الرياض",
          "الرياض",
          "الرياض",
          "الرياض",
          "الرياض",
          "الرياض",
          "الرياض",
          "الرياض",
          "الرياض",
          "الرياض",
          "الرياض",
          "الرياض",
          "الرياض",
          "الرياض",
          "الرياض",
          "الرياض",
          "الرياض",
          "الرياض",
          "الرياض",
          "الرياض",
          "الرياض",
          "الرياض",
          "الرياض",
          "الرياض",
          "الرياض",
          "الرياض",
          "الرياض",
          "الرياض",
          "الرياض",
          "الرياض",
          "الرياض",
          "الرياض",
          "الرياض",
          "الرياض",
          "الرياض",
          "الرياض",
          "الرياض",
          "الرياض",
          "الرياض",
          "الرياض",
          "الرياض",
          "الرياض",
          "الرياض",
          "الرياض",
          "الرياض",
          "الرياض",
          "الرياض",
          "الرياض",
          "الرياض",
          "الرياض",
          "الرياض",
          "الرياض",
          "الرياض",
          "الرياض",
          "الرياض",
          "الرياض",
          "الرياض",
          "الرياض",
          "الرياض",
          "الرياض",
          "الرياض",
          "الرياض",
          "الرياض",
          "الرياض",
          "الرياض",
          "الرياض",
          "الرياض",
          "الرياض",
          "الرياض",
          "الرياض",
          "الرياض",
          "الرياض",
          "الرياض",
          "الرياض",
          "الرياض",
          "الرياض",
          "الرياض",
          "الرياض",
          "الرياض",
          "الرياض",
          "الرياض",
          "الرياض",
          "الرياض",
          "الرياض",
          "الرياض",
          "الرياض",
          "الرياض",
          "الرياض",
          "الرياض",
          "الرياض",
          "الرياض",
          "الرياض",
          "الرياض",
          "الرياض",
          "الرياض",
          "الرياض",
          "الرياض",
          "الرياض",
          "الرياض",
          "الرياض",
          "الرياض",
          "الرياض",
          "الرياض",
          "الرياض",
          "الرياض",
          "الرياض",
          "الرياض",
          "الرياض",
          "الرياض",
          "الرياض",
          "الرياض",
          "الرياض",
          "الرياض",
          "الرياض",
          "الرياض",
          "الرياض",
          "الرياض",
          "الرياض",
          "الرياض",
          "الرياض",
          "الرياض",
          "الرياض",
          "الرياض",
          "الرياض",
          "الرياض",
          "الرياض",
          "الرياض",
          "الرياض",
          "الرياض",
          "الرياض",
          "الرياض",
          "الرياض",
          "الرياض",
          "الرياض",
          "الرياض",
          "الرياض",
          "الرياض",
          "الرياض",
          "الرياض",
          "الرياض",
          "الرياض",
          "الرياض",
          "الرياض",
          "الرياض",
          "الرياض",
          "الرياض",
          "الرياض",
          "الرياض",
          "الرياض",
          "الرياض",
          "الرياض",
          "الرياض",
          "الرياض",
          "الرياض",
          "الرياض",
          "الرياض",
          "الرياض",
          "الرياض",
          "الرياض",
          "الرياض",
          "الرياض",
          "الرياض",
          "الرياض",
          "الرياض",
          "الرياض",
          "الرياض",
          "الرياض",
          "الرياض",
          "الرياض",
          "الرياض",
          "الرياض",
          "الرياض",
          "الرياض",
          "الرياض",
          "الرياض",
          "الرياض",
          "الرياض",
          "الرياض",
          "الرياض",
          "الرياض",
          "الرياض",
          "الرياض",
          "الرياض",
          "الرياض",
          "الرياض",
          "الرياض",
          "الرياض",
          "الرياض",
          "الرياض",
          "الرياض",
          "الرياض",
          "الرياض",
          "الرياض",
          "الرياض",
          "الرياض",
          "الرياض",
          "الرياض",
          "الرياض",
          "الرياض",
          "الرياض",
          "الرياض",
          "الرياض",
          "الرياض",
          "الرياض",
          "الرياض",
          "الرياض",
          "الرياض",
          "الرياض",
          "الرياض",
          "الرياض",
          "الرياض",
          "الرياض",
          "الرياض",
          "الرياض",
          "الرياض",
          "الرياض",
          "الرياض",
          "الرياض",
          "الرياض",
          "الرياض",
          "الرياض",
          "الرياض",
          "الرياض",
          "الرياض",
          "الرياض",
          "الرياض",
          "الرياض",
          "الرياض",
          "الرياض",
          "الرياض",
          "الرياض",
          "الرياض",
          "الرياض",
          "الرياض",
          "الرياض",
          "الرياض",
          "الرياض",
          "الرياض",
          "الرياض",
          "الرياض",
          "الرياض",
          "الرياض",
          "الرياض",
          "الرياض",
          "الرياض",
          "الرياض",
          "الرياض",
          "الرياض",
          "الرياض",
          "الرياض",
          "الرياض",
          "الرياض",
          "الرياض",
          "الرياض",
          "الرياض",
          "الرياض",
          "الرياض",
          "الرياض",
          "الرياض",
          "الرياض",
          "الرياض",
          "الرياض",
          "الرياض",
          "الرياض",
          "الرياض",
          "الرياض",
          "الرياض",
          "الرياض",
          "الرياض",
          "الرياض",
          "الرياض",
          "الرياض",
          "الرياض",
          "الرياض",
          "الرياض",
          "الرياض",
          "الرياض",
          "الرياض",
          "الرياض",
          "الرياض",
          "الرياض",
          "الرياض",
          "الرياض",
          "الرياض",
          "الرياض",
          "الرياض",
          "الرياض",
          "الرياض",
          "الرياض",
          "الرياض",
          "الرياض",
          "الرياض",
          "الرياض",
          "الرياض",
          "الرياض",
          "الرياض",
          "الرياض",
          "الرياض",
          "الرياض",
          "الرياض",
          "الرياض",
          "الرياض",
          "الرياض",
          "الرياض",
          "الرياض",
          "الرياض",
          "الرياض",
          "الرياض",
          "الرياض",
          "الرياض",
          "الرياض",
          "الرياض",
          "الرياض",
          "الرياض",
          "الرياض",
          "الرياض",
          "الرياض",
          "الرياض",
          "الرياض",
          "الرياض",
          "الرياض",
          "الرياض",
          "الرياض",
          "الرياض",
          "الرياض",
          "الرياض",
          "الرياض",
          "الرياض",
          "الرياض",
          "الرياض",
          "الرياض",
          "الرياض",
          "الرياض",
          "الرياض",
          "الرياض",
          "الرياض",
          "الرياض",
          "الرياض",
          "الرياض",
          "الرياض",
          "الرياض",
          "الرياض",
          "الرياض",
          "الرياض",
          "الرياض",
          "الرياض",
          "الرياض",
          "الرياض",
          "الرياض",
          "الرياض",
          "الرياض",
          "الرياض",
          "الرياض",
          "الرياض",
          "الرياض",
          "الرياض",
          "الرياض",
          "الرياض",
          "الرياض",
          "الرياض",
          "الرياض",
          "الرياض",
          "الرياض",
          "الرياض",
          "الرياض",
          "الرياض",
          "الرياض",
          "الرياض",
          "الرياض",
          "الرياض",
          "الرياض",
          "الرياض",
          "الرياض",
          "الرياض",
          "الرياض",
          "الرياض",
          "الرياض",
          "الرياض",
          "الرياض",
          "الرياض",
          "الرياض",
          "الرياض",
          "الرياض",
          "الرياض",
          "الرياض",
          "الرياض",
          "الرياض",
          "الرياض",
          "الرياض",
          "الرياض",
          "الرياض",
          "الرياض",
          "الرياض",
          "الرياض",
          "الرياض",
          "الرياض",
          "الرياض",
          "الرياض",
          "الرياض",
          "الرياض",
          "الرياض",
          "الرياض",
          "الرياض",
          "الرياض",
          "الرياض",
          "الرياض",
          "الرياض",
          "الرياض",
          "الرياض",
          "الرياض",
          "الرياض",
          "الرياض",
          "الرياض",
          "الرياض",
          "الرياض",
          "الرياض",
          "الرياض",
          "الرياض",
          "الرياض",
          "الرياض",
          "الرياض",
          "الرياض",
          "الرياض",
          "الرياض",
          "الرياض",
          "الرياض",
          "الرياض",
          "الرياض",
          "الرياض",
          "الرياض",
          "الرياض",
          "الرياض",
          "الرياض",
          "الرياض",
          "الرياض",
          "الرياض",
          "الرياض",
          "الرياض",
          "الرياض",
          "الرياض",
          "الرياض",
          "الرياض",
          "الرياض",
          "الرياض",
          "الرياض",
          "الرياض",
          "الرياض",
          "الرياض",
          "الرياض",
          "الرياض",
          "الرياض",
          "الرياض",
          "الرياض",
          "الرياض",
          "الرياض",
          "الرياض",
          "الرياض",
          "الرياض",
          "الرياض",
          "الرياض",
          "الرياض",
          "الرياض",
          "الرياض",
          "الرياض",
          "الرياض",
          "الرياض",
          "الرياض",
          "الرياض",
          "الرياض",
          "الرياض",
          "الرياض",
          "الرياض",
          "الرياض",
          "الرياض",
          "الرياض",
          "الرياض",
          "الرياض",
          "الرياض",
          "الرياض",
          "الرياض",
          "الرياض",
          "الرياض",
          "الرياض",
          "الرياض",
          "الرياض",
          "الرياض",
          "الرياض",
          "الرياض",
          "الرياض",
          "الرياض",
          "الرياض",
          "الرياض",
          "الرياض",
          "الرياض",
          "الرياض",
          "الرياض",
          "الرياض",
          "الرياض",
          "الرياض",
          "الرياض",
          "الرياض",
          "الرياض",
          "الرياض",
          "الرياض",
          "الرياض",
          "الرياض",
          "الرياض",
          "الرياض",
          "الرياض",
          "الرياض",
          "الرياض",
          "الرياض",
          "الرياض",
          "الرياض",
          "الرياض",
          "الرياض",
          "الرياض",
          "الرياض",
          "الرياض",
          "الرياض",
          "الرياض",
          "الرياض",
          "الرياض",
          "الرياض",
          "الرياض",
          "الرياض",
          "الرياض",
          "الرياض",
          "الرياض",
          "الرياض",
          "الرياض",
          "الرياض",
          "الرياض",
          "الرياض",
          "الرياض",
          "الرياض",
          "الرياض",
          "الرياض",
          "الرياض"
         ],
         "xaxis": "x",
         "y": {
          "bdata": "AQEBAQEBAQEBAQEBAQEBAQEBAQEBAQEBAQEBAQEBAQEBAQEBAQEBAQEBAQEBAQEBAQEBAQEBAQEBAQEBAQEBAQEBAQEBAQEBAQEBAQEBAQEBAQEBAQEBAQEBAQEBAQEBAQEBAQEBAQEBAQEBAQEBAQEBAQEBAQEBAQEBAQEBAQEBAQEBAQEBAQEBAQEBAQEBAQEBAQEBAQEBAQEBAQEBAQEBAQEBAQEBAQEBAQEBAQEBAQEBAQEBAQEBAQEBAQEBAQEBAQEBAQEBAQEBAQEBAQEBAQEBAQEBAQEBAQEBAQEBAQEBAQEBAQEBAQEBAQEBAQEBAQEBAQEBAQEBAQEBAQEBAQEBAQEBAQEBAQEBAQEBAQEBAQEBAQEBAQEBAQEBAQEBAQEBAQEBAQEBAQEBAQEBAQEBAQEBAQEBAQEBAQEBAQEBAQEBAQEBAQEBAQEBAQEBAQEBAQEBAQEBAQEBAQEBAQEBAQEBAQEBAQEBAQEBAQEBAQEBAQEBAQEBAQEBAQEBAQEBAQEBAQEBAQEBAQEBAQEBAQEBAQEBAQEBAQEBAQEBAQEBAQEBAQEBAQEBAQEBAQEBAQEBAQEBAQEBAQEBAQEBAQEBAQEBAQEBAQEBAQEBAQEBAQEBAQEBAQEBAQEBAQEBAQEBAQEBAQEBAQEBAQEBAQEBAQEBAQEBAQEBAQEBAQEBAQEBAQEBAQEBAQEBAQEBAQEBAQEBAQEBAQEBAQEBAQEBAQEBAQEBAQEBAQEBAQEBAQEBAQEBAQEBAQEBAQEBAQEBAQEBAQEBAQEBAQEBAQE=",
          "dtype": "i1"
         },
         "yaxis": "y"
        },
        {
         "hovertemplate": "region=%{x}<br>count=%{y}<extra></extra>",
         "legendgroup": "المنطقة الشرقية",
         "marker": {
          "color": "rgb(246, 207, 113)",
          "pattern": {
           "shape": ""
          }
         },
         "name": "المنطقة الشرقية",
         "orientation": "v",
         "showlegend": true,
         "textposition": "auto",
         "type": "bar",
         "x": [
          "المنطقة الشرقية",
          "المنطقة الشرقية",
          "المنطقة الشرقية",
          "المنطقة الشرقية",
          "المنطقة الشرقية",
          "المنطقة الشرقية",
          "المنطقة الشرقية",
          "المنطقة الشرقية",
          "المنطقة الشرقية",
          "المنطقة الشرقية",
          "المنطقة الشرقية",
          "المنطقة الشرقية",
          "المنطقة الشرقية",
          "المنطقة الشرقية",
          "المنطقة الشرقية",
          "المنطقة الشرقية",
          "المنطقة الشرقية",
          "المنطقة الشرقية",
          "المنطقة الشرقية",
          "المنطقة الشرقية",
          "المنطقة الشرقية",
          "المنطقة الشرقية",
          "المنطقة الشرقية",
          "المنطقة الشرقية",
          "المنطقة الشرقية",
          "المنطقة الشرقية",
          "المنطقة الشرقية",
          "المنطقة الشرقية",
          "المنطقة الشرقية",
          "المنطقة الشرقية",
          "المنطقة الشرقية",
          "المنطقة الشرقية",
          "المنطقة الشرقية",
          "المنطقة الشرقية",
          "المنطقة الشرقية",
          "المنطقة الشرقية",
          "المنطقة الشرقية",
          "المنطقة الشرقية",
          "المنطقة الشرقية",
          "المنطقة الشرقية",
          "المنطقة الشرقية",
          "المنطقة الشرقية",
          "المنطقة الشرقية",
          "المنطقة الشرقية",
          "المنطقة الشرقية",
          "المنطقة الشرقية",
          "المنطقة الشرقية",
          "المنطقة الشرقية",
          "المنطقة الشرقية",
          "المنطقة الشرقية",
          "المنطقة الشرقية",
          "المنطقة الشرقية",
          "المنطقة الشرقية",
          "المنطقة الشرقية",
          "المنطقة الشرقية",
          "المنطقة الشرقية",
          "المنطقة الشرقية",
          "المنطقة الشرقية",
          "المنطقة الشرقية",
          "المنطقة الشرقية",
          "المنطقة الشرقية",
          "المنطقة الشرقية",
          "المنطقة الشرقية",
          "المنطقة الشرقية",
          "المنطقة الشرقية",
          "المنطقة الشرقية",
          "المنطقة الشرقية",
          "المنطقة الشرقية",
          "المنطقة الشرقية",
          "المنطقة الشرقية",
          "المنطقة الشرقية",
          "المنطقة الشرقية",
          "المنطقة الشرقية",
          "المنطقة الشرقية",
          "المنطقة الشرقية",
          "المنطقة الشرقية",
          "المنطقة الشرقية",
          "المنطقة الشرقية",
          "المنطقة الشرقية",
          "المنطقة الشرقية",
          "المنطقة الشرقية",
          "المنطقة الشرقية",
          "المنطقة الشرقية",
          "المنطقة الشرقية",
          "المنطقة الشرقية",
          "المنطقة الشرقية",
          "المنطقة الشرقية",
          "المنطقة الشرقية",
          "المنطقة الشرقية",
          "المنطقة الشرقية",
          "المنطقة الشرقية",
          "المنطقة الشرقية",
          "المنطقة الشرقية",
          "المنطقة الشرقية",
          "المنطقة الشرقية",
          "المنطقة الشرقية",
          "المنطقة الشرقية",
          "المنطقة الشرقية",
          "المنطقة الشرقية",
          "المنطقة الشرقية",
          "المنطقة الشرقية",
          "المنطقة الشرقية",
          "المنطقة الشرقية",
          "المنطقة الشرقية",
          "المنطقة الشرقية",
          "المنطقة الشرقية",
          "المنطقة الشرقية",
          "المنطقة الشرقية",
          "المنطقة الشرقية",
          "المنطقة الشرقية",
          "المنطقة الشرقية",
          "المنطقة الشرقية",
          "المنطقة الشرقية",
          "المنطقة الشرقية",
          "المنطقة الشرقية",
          "المنطقة الشرقية",
          "المنطقة الشرقية",
          "المنطقة الشرقية",
          "المنطقة الشرقية",
          "المنطقة الشرقية",
          "المنطقة الشرقية",
          "المنطقة الشرقية",
          "المنطقة الشرقية",
          "المنطقة الشرقية",
          "المنطقة الشرقية",
          "المنطقة الشرقية",
          "المنطقة الشرقية",
          "المنطقة الشرقية",
          "المنطقة الشرقية",
          "المنطقة الشرقية",
          "المنطقة الشرقية",
          "المنطقة الشرقية",
          "المنطقة الشرقية",
          "المنطقة الشرقية",
          "المنطقة الشرقية",
          "المنطقة الشرقية",
          "المنطقة الشرقية",
          "المنطقة الشرقية",
          "المنطقة الشرقية",
          "المنطقة الشرقية",
          "المنطقة الشرقية",
          "المنطقة الشرقية",
          "المنطقة الشرقية",
          "المنطقة الشرقية",
          "المنطقة الشرقية",
          "المنطقة الشرقية",
          "المنطقة الشرقية",
          "المنطقة الشرقية",
          "المنطقة الشرقية",
          "المنطقة الشرقية",
          "المنطقة الشرقية",
          "المنطقة الشرقية",
          "المنطقة الشرقية",
          "المنطقة الشرقية",
          "المنطقة الشرقية",
          "المنطقة الشرقية",
          "المنطقة الشرقية",
          "المنطقة الشرقية",
          "المنطقة الشرقية",
          "المنطقة الشرقية",
          "المنطقة الشرقية",
          "المنطقة الشرقية",
          "المنطقة الشرقية",
          "المنطقة الشرقية",
          "المنطقة الشرقية",
          "المنطقة الشرقية",
          "المنطقة الشرقية",
          "المنطقة الشرقية",
          "المنطقة الشرقية",
          "المنطقة الشرقية",
          "المنطقة الشرقية",
          "المنطقة الشرقية",
          "المنطقة الشرقية",
          "المنطقة الشرقية",
          "المنطقة الشرقية",
          "المنطقة الشرقية",
          "المنطقة الشرقية",
          "المنطقة الشرقية",
          "المنطقة الشرقية",
          "المنطقة الشرقية",
          "المنطقة الشرقية",
          "المنطقة الشرقية",
          "المنطقة الشرقية",
          "المنطقة الشرقية",
          "المنطقة الشرقية",
          "المنطقة الشرقية",
          "المنطقة الشرقية",
          "المنطقة الشرقية",
          "المنطقة الشرقية",
          "المنطقة الشرقية",
          "المنطقة الشرقية",
          "المنطقة الشرقية",
          "المنطقة الشرقية",
          "المنطقة الشرقية",
          "المنطقة الشرقية",
          "المنطقة الشرقية",
          "المنطقة الشرقية",
          "المنطقة الشرقية",
          "المنطقة الشرقية",
          "المنطقة الشرقية",
          "المنطقة الشرقية",
          "المنطقة الشرقية",
          "المنطقة الشرقية",
          "المنطقة الشرقية",
          "المنطقة الشرقية",
          "المنطقة الشرقية",
          "المنطقة الشرقية",
          "المنطقة الشرقية",
          "المنطقة الشرقية",
          "المنطقة الشرقية",
          "المنطقة الشرقية",
          "المنطقة الشرقية",
          "المنطقة الشرقية",
          "المنطقة الشرقية"
         ],
         "xaxis": "x",
         "y": {
          "bdata": "AQEBAQEBAQEBAQEBAQEBAQEBAQEBAQEBAQEBAQEBAQEBAQEBAQEBAQEBAQEBAQEBAQEBAQEBAQEBAQEBAQEBAQEBAQEBAQEBAQEBAQEBAQEBAQEBAQEBAQEBAQEBAQEBAQEBAQEBAQEBAQEBAQEBAQEBAQEBAQEBAQEBAQEBAQEBAQEBAQEBAQEBAQEBAQEBAQEBAQEBAQEBAQEBAQEBAQEBAQEBAQEBAQEBAQEBAQEBAQEBAQEBAQEBAQEBAQEBAQEBAQEBAQEBAQEBAQEBAQEBAQEBAQ==",
          "dtype": "i1"
         },
         "yaxis": "y"
        },
        {
         "hovertemplate": "region=%{x}<br>count=%{y}<extra></extra>",
         "legendgroup": "مكة المكرمة",
         "marker": {
          "color": "rgb(248, 156, 116)",
          "pattern": {
           "shape": ""
          }
         },
         "name": "مكة المكرمة",
         "orientation": "v",
         "showlegend": true,
         "textposition": "auto",
         "type": "bar",
         "x": [
          "مكة المكرمة",
          "مكة المكرمة",
          "مكة المكرمة",
          "مكة المكرمة",
          "مكة المكرمة",
          "مكة المكرمة",
          "مكة المكرمة",
          "مكة المكرمة",
          "مكة المكرمة",
          "مكة المكرمة",
          "مكة المكرمة",
          "مكة المكرمة",
          "مكة المكرمة",
          "مكة المكرمة",
          "مكة المكرمة",
          "مكة المكرمة",
          "مكة المكرمة",
          "مكة المكرمة",
          "مكة المكرمة",
          "مكة المكرمة",
          "مكة المكرمة",
          "مكة المكرمة",
          "مكة المكرمة",
          "مكة المكرمة",
          "مكة المكرمة",
          "مكة المكرمة",
          "مكة المكرمة",
          "مكة المكرمة",
          "مكة المكرمة",
          "مكة المكرمة",
          "مكة المكرمة",
          "مكة المكرمة",
          "مكة المكرمة",
          "مكة المكرمة",
          "مكة المكرمة",
          "مكة المكرمة",
          "مكة المكرمة",
          "مكة المكرمة",
          "مكة المكرمة",
          "مكة المكرمة",
          "مكة المكرمة",
          "مكة المكرمة",
          "مكة المكرمة",
          "مكة المكرمة",
          "مكة المكرمة",
          "مكة المكرمة",
          "مكة المكرمة",
          "مكة المكرمة",
          "مكة المكرمة",
          "مكة المكرمة",
          "مكة المكرمة",
          "مكة المكرمة",
          "مكة المكرمة",
          "مكة المكرمة",
          "مكة المكرمة",
          "مكة المكرمة",
          "مكة المكرمة",
          "مكة المكرمة",
          "مكة المكرمة",
          "مكة المكرمة",
          "مكة المكرمة",
          "مكة المكرمة",
          "مكة المكرمة",
          "مكة المكرمة",
          "مكة المكرمة",
          "مكة المكرمة",
          "مكة المكرمة",
          "مكة المكرمة",
          "مكة المكرمة",
          "مكة المكرمة",
          "مكة المكرمة",
          "مكة المكرمة",
          "مكة المكرمة",
          "مكة المكرمة",
          "مكة المكرمة",
          "مكة المكرمة",
          "مكة المكرمة",
          "مكة المكرمة",
          "مكة المكرمة",
          "مكة المكرمة",
          "مكة المكرمة",
          "مكة المكرمة",
          "مكة المكرمة",
          "مكة المكرمة",
          "مكة المكرمة",
          "مكة المكرمة",
          "مكة المكرمة",
          "مكة المكرمة",
          "مكة المكرمة",
          "مكة المكرمة",
          "مكة المكرمة",
          "مكة المكرمة",
          "مكة المكرمة",
          "مكة المكرمة",
          "مكة المكرمة",
          "مكة المكرمة",
          "مكة المكرمة",
          "مكة المكرمة",
          "مكة المكرمة",
          "مكة المكرمة",
          "مكة المكرمة",
          "مكة المكرمة",
          "مكة المكرمة",
          "مكة المكرمة",
          "مكة المكرمة",
          "مكة المكرمة",
          "مكة المكرمة",
          "مكة المكرمة",
          "مكة المكرمة",
          "مكة المكرمة",
          "مكة المكرمة",
          "مكة المكرمة",
          "مكة المكرمة",
          "مكة المكرمة",
          "مكة المكرمة",
          "مكة المكرمة",
          "مكة المكرمة",
          "مكة المكرمة",
          "مكة المكرمة",
          "مكة المكرمة",
          "مكة المكرمة",
          "مكة المكرمة",
          "مكة المكرمة",
          "مكة المكرمة",
          "مكة المكرمة",
          "مكة المكرمة",
          "مكة المكرمة",
          "مكة المكرمة",
          "مكة المكرمة",
          "مكة المكرمة",
          "مكة المكرمة",
          "مكة المكرمة",
          "مكة المكرمة",
          "مكة المكرمة",
          "مكة المكرمة",
          "مكة المكرمة",
          "مكة المكرمة",
          "مكة المكرمة",
          "مكة المكرمة",
          "مكة المكرمة",
          "مكة المكرمة",
          "مكة المكرمة",
          "مكة المكرمة",
          "مكة المكرمة",
          "مكة المكرمة",
          "مكة المكرمة",
          "مكة المكرمة",
          "مكة المكرمة",
          "مكة المكرمة",
          "مكة المكرمة",
          "مكة المكرمة",
          "مكة المكرمة",
          "مكة المكرمة",
          "مكة المكرمة",
          "مكة المكرمة",
          "مكة المكرمة",
          "مكة المكرمة",
          "مكة المكرمة",
          "مكة المكرمة",
          "مكة المكرمة",
          "مكة المكرمة",
          "مكة المكرمة",
          "مكة المكرمة",
          "مكة المكرمة",
          "مكة المكرمة",
          "مكة المكرمة",
          "مكة المكرمة",
          "مكة المكرمة",
          "مكة المكرمة",
          "مكة المكرمة",
          "مكة المكرمة",
          "مكة المكرمة",
          "مكة المكرمة",
          "مكة المكرمة",
          "مكة المكرمة",
          "مكة المكرمة",
          "مكة المكرمة",
          "مكة المكرمة",
          "مكة المكرمة",
          "مكة المكرمة",
          "مكة المكرمة",
          "مكة المكرمة",
          "مكة المكرمة",
          "مكة المكرمة",
          "مكة المكرمة",
          "مكة المكرمة",
          "مكة المكرمة",
          "مكة المكرمة",
          "مكة المكرمة",
          "مكة المكرمة",
          "مكة المكرمة",
          "مكة المكرمة",
          "مكة المكرمة",
          "مكة المكرمة",
          "مكة المكرمة",
          "مكة المكرمة",
          "مكة المكرمة",
          "مكة المكرمة",
          "مكة المكرمة",
          "مكة المكرمة",
          "مكة المكرمة",
          "مكة المكرمة",
          "مكة المكرمة",
          "مكة المكرمة",
          "مكة المكرمة",
          "مكة المكرمة",
          "مكة المكرمة",
          "مكة المكرمة",
          "مكة المكرمة",
          "مكة المكرمة",
          "مكة المكرمة",
          "مكة المكرمة",
          "مكة المكرمة",
          "مكة المكرمة",
          "مكة المكرمة",
          "مكة المكرمة",
          "مكة المكرمة",
          "مكة المكرمة",
          "مكة المكرمة",
          "مكة المكرمة",
          "مكة المكرمة",
          "مكة المكرمة",
          "مكة المكرمة",
          "مكة المكرمة",
          "مكة المكرمة",
          "مكة المكرمة",
          "مكة المكرمة",
          "مكة المكرمة",
          "مكة المكرمة",
          "مكة المكرمة",
          "مكة المكرمة",
          "مكة المكرمة",
          "مكة المكرمة",
          "مكة المكرمة",
          "مكة المكرمة",
          "مكة المكرمة",
          "مكة المكرمة",
          "مكة المكرمة",
          "مكة المكرمة",
          "مكة المكرمة",
          "مكة المكرمة",
          "مكة المكرمة",
          "مكة المكرمة",
          "مكة المكرمة",
          "مكة المكرمة",
          "مكة المكرمة",
          "مكة المكرمة",
          "مكة المكرمة",
          "مكة المكرمة",
          "مكة المكرمة",
          "مكة المكرمة",
          "مكة المكرمة",
          "مكة المكرمة",
          "مكة المكرمة",
          "مكة المكرمة",
          "مكة المكرمة",
          "مكة المكرمة",
          "مكة المكرمة",
          "مكة المكرمة",
          "مكة المكرمة",
          "مكة المكرمة",
          "مكة المكرمة",
          "مكة المكرمة",
          "مكة المكرمة",
          "مكة المكرمة",
          "مكة المكرمة",
          "مكة المكرمة",
          "مكة المكرمة",
          "مكة المكرمة",
          "مكة المكرمة",
          "مكة المكرمة",
          "مكة المكرمة",
          "مكة المكرمة",
          "مكة المكرمة",
          "مكة المكرمة",
          "مكة المكرمة",
          "مكة المكرمة",
          "مكة المكرمة",
          "مكة المكرمة",
          "مكة المكرمة",
          "مكة المكرمة",
          "مكة المكرمة",
          "مكة المكرمة",
          "مكة المكرمة",
          "مكة المكرمة",
          "مكة المكرمة",
          "مكة المكرمة",
          "مكة المكرمة",
          "مكة المكرمة",
          "مكة المكرمة",
          "مكة المكرمة",
          "مكة المكرمة",
          "مكة المكرمة",
          "مكة المكرمة",
          "مكة المكرمة",
          "مكة المكرمة",
          "مكة المكرمة",
          "مكة المكرمة",
          "مكة المكرمة",
          "مكة المكرمة",
          "مكة المكرمة",
          "مكة المكرمة",
          "مكة المكرمة",
          "مكة المكرمة",
          "مكة المكرمة",
          "مكة المكرمة",
          "مكة المكرمة",
          "مكة المكرمة",
          "مكة المكرمة",
          "مكة المكرمة",
          "مكة المكرمة",
          "مكة المكرمة",
          "مكة المكرمة",
          "مكة المكرمة",
          "مكة المكرمة",
          "مكة المكرمة",
          "مكة المكرمة",
          "مكة المكرمة",
          "مكة المكرمة",
          "مكة المكرمة",
          "مكة المكرمة",
          "مكة المكرمة",
          "مكة المكرمة",
          "مكة المكرمة",
          "مكة المكرمة",
          "مكة المكرمة",
          "مكة المكرمة",
          "مكة المكرمة",
          "مكة المكرمة",
          "مكة المكرمة",
          "مكة المكرمة",
          "مكة المكرمة",
          "مكة المكرمة",
          "مكة المكرمة",
          "مكة المكرمة",
          "مكة المكرمة",
          "مكة المكرمة",
          "مكة المكرمة",
          "مكة المكرمة",
          "مكة المكرمة",
          "مكة المكرمة",
          "مكة المكرمة",
          "مكة المكرمة",
          "مكة المكرمة",
          "مكة المكرمة",
          "مكة المكرمة",
          "مكة المكرمة",
          "مكة المكرمة",
          "مكة المكرمة",
          "مكة المكرمة",
          "مكة المكرمة",
          "مكة المكرمة",
          "مكة المكرمة",
          "مكة المكرمة",
          "مكة المكرمة",
          "مكة المكرمة",
          "مكة المكرمة",
          "مكة المكرمة",
          "مكة المكرمة",
          "مكة المكرمة",
          "مكة المكرمة",
          "مكة المكرمة"
         ],
         "xaxis": "x",
         "y": {
          "bdata": "AQEBAQEBAQEBAQEBAQEBAQEBAQEBAQEBAQEBAQEBAQEBAQEBAQEBAQEBAQEBAQEBAQEBAQEBAQEBAQEBAQEBAQEBAQEBAQEBAQEBAQEBAQEBAQEBAQEBAQEBAQEBAQEBAQEBAQEBAQEBAQEBAQEBAQEBAQEBAQEBAQEBAQEBAQEBAQEBAQEBAQEBAQEBAQEBAQEBAQEBAQEBAQEBAQEBAQEBAQEBAQEBAQEBAQEBAQEBAQEBAQEBAQEBAQEBAQEBAQEBAQEBAQEBAQEBAQEBAQEBAQEBAQEBAQEBAQEBAQEBAQEBAQEBAQEBAQEBAQEBAQEBAQEBAQEBAQEBAQEBAQEBAQEBAQEBAQEBAQEBAQEBAQEBAQEBAQEBAQEBAQEBAQEBAQEBAQEBAQEBAQEBAQEBAQEBAQEBAQEBAQEBAQEBAQEBAQEBAQEBAQEBAQEBAQEBAQEBAQEBAQEBAQEBAQEBAQEBAQEBAQE=",
          "dtype": "i1"
         },
         "yaxis": "y"
        },
        {
         "hovertemplate": "region=%{x}<br>count=%{y}<extra></extra>",
         "legendgroup": "حائل",
         "marker": {
          "color": "rgb(220, 176, 242)",
          "pattern": {
           "shape": ""
          }
         },
         "name": "حائل",
         "orientation": "v",
         "showlegend": true,
         "textposition": "auto",
         "type": "bar",
         "x": [
          "حائل",
          "حائل",
          "حائل",
          "حائل",
          "حائل",
          "حائل",
          "حائل",
          "حائل",
          "حائل",
          "حائل",
          "حائل",
          "حائل",
          "حائل",
          "حائل",
          "حائل",
          "حائل",
          "حائل",
          "حائل"
         ],
         "xaxis": "x",
         "y": {
          "bdata": "AQEBAQEBAQEBAQEBAQEBAQEB",
          "dtype": "i1"
         },
         "yaxis": "y"
        },
        {
         "hovertemplate": "region=%{x}<br>count=%{y}<extra></extra>",
         "legendgroup": "المدينة المنورة",
         "marker": {
          "color": "rgb(135, 197, 95)",
          "pattern": {
           "shape": ""
          }
         },
         "name": "المدينة المنورة",
         "orientation": "v",
         "showlegend": true,
         "textposition": "auto",
         "type": "bar",
         "x": [
          "المدينة المنورة",
          "المدينة المنورة",
          "المدينة المنورة",
          "المدينة المنورة",
          "المدينة المنورة",
          "المدينة المنورة",
          "المدينة المنورة",
          "المدينة المنورة",
          "المدينة المنورة",
          "المدينة المنورة",
          "المدينة المنورة",
          "المدينة المنورة",
          "المدينة المنورة",
          "المدينة المنورة",
          "المدينة المنورة",
          "المدينة المنورة",
          "المدينة المنورة",
          "المدينة المنورة",
          "المدينة المنورة",
          "المدينة المنورة",
          "المدينة المنورة",
          "المدينة المنورة",
          "المدينة المنورة",
          "المدينة المنورة",
          "المدينة المنورة",
          "المدينة المنورة",
          "المدينة المنورة",
          "المدينة المنورة",
          "المدينة المنورة",
          "المدينة المنورة",
          "المدينة المنورة",
          "المدينة المنورة",
          "المدينة المنورة",
          "المدينة المنورة",
          "المدينة المنورة",
          "المدينة المنورة",
          "المدينة المنورة",
          "المدينة المنورة",
          "المدينة المنورة",
          "المدينة المنورة",
          "المدينة المنورة",
          "المدينة المنورة",
          "المدينة المنورة",
          "المدينة المنورة",
          "المدينة المنورة",
          "المدينة المنورة",
          "المدينة المنورة",
          "المدينة المنورة",
          "المدينة المنورة",
          "المدينة المنورة",
          "المدينة المنورة",
          "المدينة المنورة",
          "المدينة المنورة",
          "المدينة المنورة",
          "المدينة المنورة",
          "المدينة المنورة",
          "المدينة المنورة",
          "المدينة المنورة",
          "المدينة المنورة",
          "المدينة المنورة",
          "المدينة المنورة",
          "المدينة المنورة",
          "المدينة المنورة",
          "المدينة المنورة",
          "المدينة المنورة",
          "المدينة المنورة",
          "المدينة المنورة",
          "المدينة المنورة",
          "المدينة المنورة",
          "المدينة المنورة",
          "المدينة المنورة",
          "المدينة المنورة",
          "المدينة المنورة",
          "المدينة المنورة",
          "المدينة المنورة",
          "المدينة المنورة",
          "المدينة المنورة",
          "المدينة المنورة",
          "المدينة المنورة",
          "المدينة المنورة",
          "المدينة المنورة",
          "المدينة المنورة",
          "المدينة المنورة"
         ],
         "xaxis": "x",
         "y": {
          "bdata": "AQEBAQEBAQEBAQEBAQEBAQEBAQEBAQEBAQEBAQEBAQEBAQEBAQEBAQEBAQEBAQEBAQEBAQEBAQEBAQEBAQEBAQEBAQEBAQEBAQEBAQEBAQEBAQE=",
          "dtype": "i1"
         },
         "yaxis": "y"
        },
        {
         "hovertemplate": "region=%{x}<br>count=%{y}<extra></extra>",
         "legendgroup": "الباحة",
         "marker": {
          "color": "rgb(158, 185, 243)",
          "pattern": {
           "shape": ""
          }
         },
         "name": "الباحة",
         "orientation": "v",
         "showlegend": true,
         "textposition": "auto",
         "type": "bar",
         "x": [
          "الباحة",
          "الباحة",
          "الباحة",
          "الباحة",
          "الباحة",
          "الباحة",
          "الباحة",
          "الباحة",
          "الباحة",
          "الباحة",
          "الباحة",
          "الباحة",
          "الباحة",
          "الباحة",
          "الباحة",
          "الباحة",
          "الباحة",
          "الباحة",
          "الباحة",
          "الباحة",
          "الباحة",
          "الباحة",
          "الباحة",
          "الباحة",
          "الباحة",
          "الباحة",
          "الباحة",
          "الباحة",
          "الباحة",
          "الباحة",
          "الباحة",
          "الباحة",
          "الباحة",
          "الباحة",
          "الباحة",
          "الباحة",
          "الباحة",
          "الباحة",
          "الباحة",
          "الباحة",
          "الباحة",
          "الباحة",
          "الباحة",
          "الباحة",
          "الباحة",
          "الباحة"
         ],
         "xaxis": "x",
         "y": {
          "bdata": "AQEBAQEBAQEBAQEBAQEBAQEBAQEBAQEBAQEBAQEBAQEBAQEBAQEBAQEBAQEBAQ==",
          "dtype": "i1"
         },
         "yaxis": "y"
        },
        {
         "hovertemplate": "region=%{x}<br>count=%{y}<extra></extra>",
         "legendgroup": "عسير",
         "marker": {
          "color": "rgb(254, 136, 177)",
          "pattern": {
           "shape": ""
          }
         },
         "name": "عسير",
         "orientation": "v",
         "showlegend": true,
         "textposition": "auto",
         "type": "bar",
         "x": [
          "عسير",
          "عسير",
          "عسير",
          "عسير",
          "عسير",
          "عسير",
          "عسير",
          "عسير",
          "عسير",
          "عسير",
          "عسير",
          "عسير",
          "عسير",
          "عسير",
          "عسير",
          "عسير",
          "عسير",
          "عسير",
          "عسير",
          "عسير",
          "عسير",
          "عسير",
          "عسير",
          "عسير",
          "عسير",
          "عسير",
          "عسير",
          "عسير",
          "عسير",
          "عسير",
          "عسير",
          "عسير",
          "عسير",
          "عسير",
          "عسير",
          "عسير",
          "عسير",
          "عسير",
          "عسير",
          "عسير"
         ],
         "xaxis": "x",
         "y": {
          "bdata": "AQEBAQEBAQEBAQEBAQEBAQEBAQEBAQEBAQEBAQEBAQEBAQEBAQEBAQ==",
          "dtype": "i1"
         },
         "yaxis": "y"
        },
        {
         "hovertemplate": "region=%{x}<br>count=%{y}<extra></extra>",
         "legendgroup": "القصيم",
         "marker": {
          "color": "rgb(201, 219, 116)",
          "pattern": {
           "shape": ""
          }
         },
         "name": "القصيم",
         "orientation": "v",
         "showlegend": true,
         "textposition": "auto",
         "type": "bar",
         "x": [
          "القصيم",
          "القصيم",
          "القصيم",
          "القصيم",
          "القصيم",
          "القصيم",
          "القصيم",
          "القصيم",
          "القصيم",
          "القصيم",
          "القصيم",
          "القصيم",
          "القصيم",
          "القصيم",
          "القصيم",
          "القصيم",
          "القصيم",
          "القصيم",
          "القصيم",
          "القصيم",
          "القصيم",
          "القصيم",
          "القصيم",
          "القصيم",
          "القصيم",
          "القصيم",
          "القصيم",
          "القصيم",
          "القصيم",
          "القصيم"
         ],
         "xaxis": "x",
         "y": {
          "bdata": "AQEBAQEBAQEBAQEBAQEBAQEBAQEBAQEBAQEBAQEB",
          "dtype": "i1"
         },
         "yaxis": "y"
        },
        {
         "hovertemplate": "region=%{x}<br>count=%{y}<extra></extra>",
         "legendgroup": "تبوك",
         "marker": {
          "color": "rgb(139, 224, 164)",
          "pattern": {
           "shape": ""
          }
         },
         "name": "تبوك",
         "orientation": "v",
         "showlegend": true,
         "textposition": "auto",
         "type": "bar",
         "x": [
          "تبوك",
          "تبوك",
          "تبوك",
          "تبوك",
          "تبوك",
          "تبوك",
          "تبوك",
          "تبوك",
          "تبوك",
          "تبوك",
          "تبوك"
         ],
         "xaxis": "x",
         "y": {
          "bdata": "AQEBAQEBAQEBAQE=",
          "dtype": "i1"
         },
         "yaxis": "y"
        },
        {
         "hovertemplate": "region=%{x}<br>count=%{y}<extra></extra>",
         "legendgroup": "جازان",
         "marker": {
          "color": "rgb(180, 151, 231)",
          "pattern": {
           "shape": ""
          }
         },
         "name": "جازان",
         "orientation": "v",
         "showlegend": true,
         "textposition": "auto",
         "type": "bar",
         "x": [
          "جازان",
          "جازان",
          "جازان",
          "جازان",
          "جازان",
          "جازان",
          "جازان"
         ],
         "xaxis": "x",
         "y": {
          "bdata": "AQEBAQEBAQ==",
          "dtype": "i1"
         },
         "yaxis": "y"
        },
        {
         "hovertemplate": "region=%{x}<br>count=%{y}<extra></extra>",
         "legendgroup": "الحدود الشمالية",
         "marker": {
          "color": "rgb(179, 179, 179)",
          "pattern": {
           "shape": ""
          }
         },
         "name": "الحدود الشمالية",
         "orientation": "v",
         "showlegend": true,
         "textposition": "auto",
         "type": "bar",
         "x": [
          "الحدود الشمالية",
          "الحدود الشمالية",
          "الحدود الشمالية",
          "الحدود الشمالية"
         ],
         "xaxis": "x",
         "y": {
          "bdata": "AQEBAQ==",
          "dtype": "i1"
         },
         "yaxis": "y"
        },
        {
         "hovertemplate": "region=%{x}<br>count=%{y}<extra></extra>",
         "legendgroup": "نجران",
         "marker": {
          "color": "rgb(102, 197, 204)",
          "pattern": {
           "shape": ""
          }
         },
         "name": "نجران",
         "orientation": "v",
         "showlegend": true,
         "textposition": "auto",
         "type": "bar",
         "x": [
          "نجران",
          "نجران",
          "نجران",
          "نجران",
          "نجران",
          "نجران",
          "نجران",
          "نجران"
         ],
         "xaxis": "x",
         "y": {
          "bdata": "AQEBAQEBAQE=",
          "dtype": "i1"
         },
         "yaxis": "y"
        },
        {
         "hovertemplate": "region=%{x}<br>count=%{y}<extra></extra>",
         "legendgroup": "الجوف",
         "marker": {
          "color": "rgb(246, 207, 113)",
          "pattern": {
           "shape": ""
          }
         },
         "name": "الجوف",
         "orientation": "v",
         "showlegend": true,
         "textposition": "auto",
         "type": "bar",
         "x": [
          "الجوف",
          "الجوف",
          "الجوف",
          "الجوف"
         ],
         "xaxis": "x",
         "y": {
          "bdata": "AQEBAQ==",
          "dtype": "i1"
         },
         "yaxis": "y"
        },
        {
         "hovertemplate": "region=%{x}<br>count=%{y}<extra></extra>",
         "legendgroup": "اخرى",
         "marker": {
          "color": "rgb(248, 156, 116)",
          "pattern": {
           "shape": ""
          }
         },
         "name": "اخرى",
         "orientation": "v",
         "showlegend": true,
         "textposition": "auto",
         "type": "bar",
         "x": [
          "اخرى"
         ],
         "xaxis": "x",
         "y": {
          "bdata": "AQ==",
          "dtype": "i1"
         },
         "yaxis": "y"
        }
       ],
       "layout": {
        "barmode": "relative",
        "legend": {
         "title": {
          "text": "region"
         },
         "tracegroupgap": 0
        },
        "template": {
         "data": {
          "candlestick": [
           {
            "decreasing": {
             "line": {
              "color": "#000033"
             }
            },
            "increasing": {
             "line": {
              "color": "#000032"
             }
            },
            "type": "candlestick"
           }
          ],
          "contour": [
           {
            "colorscale": [
             [
              0,
              "#000011"
             ],
             [
              0.1111111111111111,
              "#000012"
             ],
             [
              0.2222222222222222,
              "#000013"
             ],
             [
              0.3333333333333333,
              "#000014"
             ],
             [
              0.4444444444444444,
              "#000015"
             ],
             [
              0.5555555555555556,
              "#000016"
             ],
             [
              0.6666666666666666,
              "#000017"
             ],
             [
              0.7777777777777778,
              "#000018"
             ],
             [
              0.8888888888888888,
              "#000019"
             ],
             [
              1,
              "#000020"
             ]
            ],
            "type": "contour"
           }
          ],
          "contourcarpet": [
           {
            "colorscale": [
             [
              0,
              "#000011"
             ],
             [
              0.1111111111111111,
              "#000012"
             ],
             [
              0.2222222222222222,
              "#000013"
             ],
             [
              0.3333333333333333,
              "#000014"
             ],
             [
              0.4444444444444444,
              "#000015"
             ],
             [
              0.5555555555555556,
              "#000016"
             ],
             [
              0.6666666666666666,
              "#000017"
             ],
             [
              0.7777777777777778,
              "#000018"
             ],
             [
              0.8888888888888888,
              "#000019"
             ],
             [
              1,
              "#000020"
             ]
            ],
            "type": "contourcarpet"
           }
          ],
          "heatmap": [
           {
            "colorscale": [
             [
              0,
              "#000011"
             ],
             [
              0.1111111111111111,
              "#000012"
             ],
             [
              0.2222222222222222,
              "#000013"
             ],
             [
              0.3333333333333333,
              "#000014"
             ],
             [
              0.4444444444444444,
              "#000015"
             ],
             [
              0.5555555555555556,
              "#000016"
             ],
             [
              0.6666666666666666,
              "#000017"
             ],
             [
              0.7777777777777778,
              "#000018"
             ],
             [
              0.8888888888888888,
              "#000019"
             ],
             [
              1,
              "#000020"
             ]
            ],
            "type": "heatmap"
           }
          ],
          "histogram2d": [
           {
            "colorscale": [
             [
              0,
              "#000011"
             ],
             [
              0.1111111111111111,
              "#000012"
             ],
             [
              0.2222222222222222,
              "#000013"
             ],
             [
              0.3333333333333333,
              "#000014"
             ],
             [
              0.4444444444444444,
              "#000015"
             ],
             [
              0.5555555555555556,
              "#000016"
             ],
             [
              0.6666666666666666,
              "#000017"
             ],
             [
              0.7777777777777778,
              "#000018"
             ],
             [
              0.8888888888888888,
              "#000019"
             ],
             [
              1,
              "#000020"
             ]
            ],
            "type": "histogram2d"
           }
          ],
          "icicle": [
           {
            "textfont": {
             "color": "white"
            },
            "type": "icicle"
           }
          ],
          "sankey": [
           {
            "textfont": {
             "color": "#000036"
            },
            "type": "sankey"
           }
          ],
          "scatter": [
           {
            "marker": {
             "line": {
              "width": 0
             }
            },
            "type": "scatter"
           }
          ],
          "table": [
           {
            "cells": {
             "fill": {
              "color": "#000038"
             },
             "font": {
              "color": "#000037"
             },
             "line": {
              "color": "#000039"
             }
            },
            "header": {
             "fill": {
              "color": "#000040"
             },
             "font": {
              "color": "#000036"
             },
             "line": {
              "color": "#000039"
             }
            },
            "type": "table"
           }
          ],
          "waterfall": [
           {
            "connector": {
             "line": {
              "color": "#000036",
              "width": 2
             }
            },
            "decreasing": {
             "marker": {
              "color": "#000033"
             }
            },
            "increasing": {
             "marker": {
              "color": "#000032"
             }
            },
            "totals": {
             "marker": {
              "color": "#000034"
             }
            },
            "type": "waterfall"
           }
          ]
         },
         "layout": {
          "coloraxis": {
           "colorscale": [
            [
             0,
             "#000011"
            ],
            [
             0.1111111111111111,
             "#000012"
            ],
            [
             0.2222222222222222,
             "#000013"
            ],
            [
             0.3333333333333333,
             "#000014"
            ],
            [
             0.4444444444444444,
             "#000015"
            ],
            [
             0.5555555555555556,
             "#000016"
            ],
            [
             0.6666666666666666,
             "#000017"
            ],
            [
             0.7777777777777778,
             "#000018"
            ],
            [
             0.8888888888888888,
             "#000019"
            ],
            [
             1,
             "#000020"
            ]
           ]
          },
          "colorscale": {
           "diverging": [
            [
             0,
             "#000021"
            ],
            [
             0.1,
             "#000022"
            ],
            [
             0.2,
             "#000023"
            ],
            [
             0.3,
             "#000024"
            ],
            [
             0.4,
             "#000025"
            ],
            [
             0.5,
             "#000026"
            ],
            [
             0.6,
             "#000027"
            ],
            [
             0.7,
             "#000028"
            ],
            [
             0.8,
             "#000029"
            ],
            [
             0.9,
             "#000030"
            ],
            [
             1,
             "#000031"
            ]
           ],
           "sequential": [
            [
             0,
             "#000011"
            ],
            [
             0.1111111111111111,
             "#000012"
            ],
            [
             0.2222222222222222,
             "#000013"
            ],
            [
             0.3333333333333333,
             "#000014"
            ],
            [
             0.4444444444444444,
             "#000015"
            ],
            [
             0.5555555555555556,
             "#000016"
            ],
            [
             0.6666666666666666,
             "#000017"
            ],
            [
             0.7777777777777778,
             "#000018"
            ],
            [
             0.8888888888888888,
             "#000019"
            ],
            [
             1,
             "#000020"
            ]
           ],
           "sequentialminus": [
            [
             0,
             "#000011"
            ],
            [
             0.1111111111111111,
             "#000012"
            ],
            [
             0.2222222222222222,
             "#000013"
            ],
            [
             0.3333333333333333,
             "#000014"
            ],
            [
             0.4444444444444444,
             "#000015"
            ],
            [
             0.5555555555555556,
             "#000016"
            ],
            [
             0.6666666666666666,
             "#000017"
            ],
            [
             0.7777777777777778,
             "#000018"
            ],
            [
             0.8888888888888888,
             "#000019"
            ],
            [
             1,
             "#000020"
            ]
           ]
          },
          "colorway": [
           "#000001",
           "#000002",
           "#000003",
           "#000004",
           "#000005",
           "#000006",
           "#000007",
           "#000008",
           "#000009",
           "#000010"
          ]
         }
        },
        "title": {
         "text": "التوزيع حسب المنطقة"
        },
        "xaxis": {
         "anchor": "y",
         "categoryarray": [
          "الرياض",
          "المنطقة الشرقية",
          "مكة المكرمة",
          "حائل",
          "المدينة المنورة",
          "الباحة",
          "عسير",
          "القصيم",
          "تبوك",
          "جازان",
          "الحدود الشمالية",
          "نجران",
          "الجوف",
          "اخرى"
         ],
         "categoryorder": "array",
         "domain": [
          0,
          1
         ],
         "title": {
          "text": "region"
         }
        },
        "yaxis": {
         "anchor": "x",
         "domain": [
          0,
          1
         ],
         "title": {
          "text": "count"
         }
        }
       }
      }
     },
     "metadata": {},
     "output_type": "display_data"
    }
   ],
   "source": [
    "\n",
    "\n",
    "\n",
    "fig = px.bar(\n",
    "    jops, \n",
    "    x='region',  \n",
    "    color=\"region\",\n",
    "    title=\"التوزيع حسب المنطقة\",\n",
    "    color_discrete_sequence=px.colors.qualitative.Pastel,  )\n",
    "fig.show()"
   ]
  },
  {
   "cell_type": "code",
   "execution_count": 23,
   "id": "74ea6194-cc01-45d8-be38-c4543eb1714e",
   "metadata": {},
   "outputs": [],
   "source": [
    "# go to univariate graphical analysis\n",
    "# go to lesson : data visualisation 1 - chart type section\n",
    "# then go to univariate graphical analysis\n",
    "# detect outliers using graphs varbaly"
   ]
  },
  {
   "cell_type": "code",
   "execution_count": 161,
   "id": "c7b25be7",
   "metadata": {},
   "outputs": [],
   "source": [
    "df = jops\n",
    "df.to_csv('cleaned_data.csv', index=False)"
   ]
  },
  {
   "cell_type": "code",
   "execution_count": 24,
   "id": "48ecf77b-480c-4f64-9485-95be805bc357",
   "metadata": {},
   "outputs": [],
   "source": [
    "# go to lesson: statistics 1 then statistics 3\n",
    "# then go to univariate Non graphical analysis\n",
    "# detect outliers using numerical statistics "
   ]
  },
  {
   "cell_type": "code",
   "execution_count": null,
   "id": "ee200da8-62b0-492d-b118-f4d665a1fb16",
   "metadata": {},
   "outputs": [],
   "source": []
  },
  {
   "cell_type": "code",
   "execution_count": 25,
   "id": "4e66d611-6958-4860-8522-9ada7fce40b0",
   "metadata": {},
   "outputs": [],
   "source": [
    "# go to delete ouliers"
   ]
  },
  {
   "attachments": {},
   "cell_type": "markdown",
   "id": "4e886ec7-388c-414b-ada7-803c2fb1f2cb",
   "metadata": {},
   "source": [
    "## 2. Data Cleaning: \n",
    "\n",
    "Preliminary findings from data profiling can lead to cleaning the data by:\n",
    "- Handling missing values\n",
    "- Correcting errors.\n",
    "- Dealing with outliers.\n",
    "\n",
    "-------------------\n",
    "\n"
   ]
  },
  {
   "cell_type": "markdown",
   "id": "21876b48-f5ec-4970-85a9-0520d45d8841",
   "metadata": {},
   "source": [
    "### Handling missing values:"
   ]
  },
  {
   "cell_type": "markdown",
   "id": "c890d5a2-2a65-4090-9427-f89c0f011d3f",
   "metadata": {},
   "source": [
    "**Why my data has missing values?**\n",
    "They may occur at two stages:\n",
    "1. Data Extraction: It is possible that there are problems with extraction process. Errors at data extraction stage are typically easy to find and can be corrected easily as well.\n",
    "2. Data collection: These errors occur at time of data collection and are harder to correct.\n",
    "\n",
    "**Why do we need to handle the missing data?**\n",
    "To avoid:\n",
    "- Bias the conclusions.\n",
    "- Leading the business to make wrong decisions.\n",
    "\n",
    "**Which are the methods to treat missing values ?**\n",
    "1. Deletion: we delete rows where any of the variable is missing. Simplicity is one of the major advantage of this method, but this method reduces the power of model because it reduces the sample size.\n",
    "\n",
    "2. Imputation: is a method to fill in the missing values with estimated ones. This imputation is one of the most frequently used methods.\n",
    "\n",
    "    2.1. Mean/ Mode/ Median Imputation: It consists of replacing the missing data for a given attribute by the mean or median (quantitative attribute) or mode (qualitative attribute) of all known values of that variable.\n",
    "    > It can be of two types:\n",
    "    > - Generalized Imputation: In this case, we calculate the mean or median for all non missing values of that variable then replace missing value with mean or median.\n",
    "    > - Similar case Imputation: In this case, we calculate average for each group individually of non missing values then replace the missing value based on the group.\n",
    "\n",
    "    2.2. Constant Value\n",
    "   \n",
    "    2.3. Forward Filling\n",
    "   \n",
    "    2.4. Backward Filling\n",
    "\n",
    "6. Prediction Model:  Prediction model is one of the sophisticated method for handling missing data. Here, we create a predictive model to estimate values that will substitute the missing data.  In this case, we divide our data set into two sets: One set with no missing values for the variable and another one with missing values. First data set become training data set of the model while second data set with missing values is test data set and variable with missing values is treated as target variable. Next, we create a model to predict target variable based on other attributes of the training data set and populate missing values of test data set.\n",
    "\n",
    "> There are 2 drawbacks for this approach:\n",
    "> - The model estimated values are usually more well-behaved than the true values\n",
    "> - If there are no relationships with attributes in the data set and the attribute with missing values, then the model will not be precise for estimating missing values.\n",
    "\n",
    "9. KNN Imputation: In this method of imputation, the missing values of an attribute are imputed using the given number of attributes that are most similar to the attribute whose values are missing. The similarity of two attributes is determined using a distance function. It is also known to have certain advantage & disadvantages.\n",
    "\n",
    "   > **Advantages:**\n",
    "   > - k-nearest neighbour can predict both qualitative & quantitative attributes\n",
    "   > - Creation of predictive model for each attribute with missing data is not required\n",
    "   > - Attributes with multiple missing values can be easily treated\n",
    "   > - Correlation structure of the data is taken into consideration\n",
    "\n",
    "   > **Disadvantage:**\n",
    "   > - KNN algorithm is very time-consuming in analyzing large database. It searches through all the dataset looking for the most similar instances.\n",
    "   > - Choice of k-value is very critical. Higher value of k would include attributes which are significantly different from what we need whereas lower value of k implies missing out of significant attributes.\n",
    "\n",
    "--------------------\n"
   ]
  },
  {
   "cell_type": "code",
   "execution_count": null,
   "id": "57e741fb-71c1-46ad-a526-d8f0b1564dc3",
   "metadata": {},
   "outputs": [],
   "source": []
  },
  {
   "cell_type": "code",
   "execution_count": 80,
   "id": "01287962-8077-4c01-8d1d-5f8aed6cb37a",
   "metadata": {},
   "outputs": [],
   "source": [
    "# go back to 6th dimention --> Completeness"
   ]
  },
  {
   "cell_type": "markdown",
   "id": "f7cee10f-0af8-44e5-b595-8e965294daad",
   "metadata": {},
   "source": [
    "### Correcting errors\n",
    "\n",
    "-------------------"
   ]
  },
  {
   "cell_type": "code",
   "execution_count": null,
   "id": "06273b88-a169-42e8-81f5-5d71cb3f9c21",
   "metadata": {},
   "outputs": [],
   "source": []
  },
  {
   "cell_type": "code",
   "execution_count": null,
   "id": "f1d95da5-a3ba-473a-8243-aa177cadae20",
   "metadata": {},
   "outputs": [],
   "source": [
    "# go back to 7th dimension Accuracy "
   ]
  },
  {
   "cell_type": "markdown",
   "id": "5ecc7dbb-6867-44cf-8f99-1b969a80be40",
   "metadata": {},
   "source": [
    "### Dealing with outliers:"
   ]
  },
  {
   "attachments": {},
   "cell_type": "markdown",
   "id": "88347887-4bdf-48af-9486-cb8fe80c97af",
   "metadata": {},
   "source": [
    "**How to remove Outliers?**\n",
    "Most of the ways to deal with outliers are similar to the methods of missing values like deleting rows, transforming them, binning them, treat them as a separate group, imputing values and other statistical methods. Here, we will discuss the common techniques used to deal with outliers:\n",
    "\n",
    "1. Deleting rows: We delete outlier values if it is due to data entry error, data processing error or outlier rows are very small in numbers. We can also use trimming at both ends to remove outliers.\n",
    "\n",
    "2. Imputing: Like imputation of missing values, we can also impute outliers. We can use mean, median, mode imputation methods. Before imputing values, we should analyse if it is natural outlier or artificial. If it is artificial, we can go with imputing values. We can also use statistical model to predict values of outlier rows and after that we can impute it with predicted values.\n",
    "\n",
    "3. Treat separately: If there are significant number of outliers, we should treat them separately in the statistical model. One of the approach is to treat both groups as two different groups and build individual model for both groups and then combine the output.\n"
   ]
  },
  {
   "cell_type": "code",
   "execution_count": null,
   "id": "25a585f0-2b9c-42fa-bf21-cacc6aa3be3f",
   "metadata": {},
   "outputs": [],
   "source": []
  },
  {
   "cell_type": "markdown",
   "id": "98548b66-e309-4eb8-a5dc-65fe0abbf1e8",
   "metadata": {},
   "source": [
    "## 3. Univariate Analysis: \n",
    "\n",
    "This involves examining single variables to understand their characteristics (distribution, central tendency, dispersion, and shape).\n",
    "\n",
    "We calculate **numerical values** about the data that tells us about the distribution of the data. We also **draw graphs** showing visually how the data is distributed. **To answer the following questions about Features/characteristics of Data:**\n",
    "- Where is the center of the data? (location)\n",
    "- How much does the data vary? (scale)\n",
    "- What is the shape of the data? (shape)\n",
    "\n",
    "**The benefits of this analysis:**\n",
    "Statistics summary gives a high-level idea to identify whether the data has any outliers, data entry error, distribution of data such as the data is normally distributed or left/right skewed\n",
    "\n",
    "**In this step, we will explore variables one by one using following approaches:**"
   ]
  },
  {
   "cell_type": "markdown",
   "id": "d6718111-7ac2-4fff-9851-654655b62e0b",
   "metadata": {},
   "source": [
    "### 1. Univariate Graphical Analysis:\n",
    "Method to perform uni-variate analysis will depend on whether the variable type is categorical or numerical."
   ]
  },
  {
   "cell_type": "code",
   "execution_count": null,
   "id": "db79d803-b75c-4686-a623-e8420321a90f",
   "metadata": {},
   "outputs": [],
   "source": []
  },
  {
   "cell_type": "markdown",
   "id": "0d57c4b9-9bb3-494d-85dd-b8d39afda139",
   "metadata": {},
   "source": [
    "#### I. Categorical Variables:\n",
    "\n",
    "we’ll use frequency table to understand distribution of each category\n",
    "- Bar Chart (Ordinal) - Orderd\n",
    "- Pie Chart (Nominal) - non Orderd"
   ]
  },
  {
   "cell_type": "code",
   "execution_count": null,
   "id": "72ece4b7-5508-403a-8fb0-f519fc74272a",
   "metadata": {},
   "outputs": [],
   "source": []
  },
  {
   "cell_type": "markdown",
   "id": "d2641f0d-80f2-493b-99b7-15476379a1e2",
   "metadata": {},
   "source": [
    "#### II. Numerical Variables:\n",
    "\n",
    "we need to understand the central tendency and spread of the variable (Descriptive Analysis) using:\n",
    "   - Box plot\n",
    "   - Histogram"
   ]
  },
  {
   "cell_type": "code",
   "execution_count": null,
   "id": "5be16f08-a072-4a02-a3ee-6f9d57786fb4",
   "metadata": {},
   "outputs": [],
   "source": []
  },
  {
   "cell_type": "markdown",
   "id": "d66677d3-44ad-414f-9b39-f9c1995ad043",
   "metadata": {},
   "source": [
    "### 2. Univariate Non-Graphical analysis: \n",
    "\n",
    "- Where is the center of the data? (location) --> **Measures of central tendency**\n",
    "- How much does the data vary? (scale) --> **Measure of variability**\n",
    "- What is the shape of the data? (shape) --> **Measures of variation combined with an average (measure of center) gives a good picture of the distribution of the data.**"
   ]
  },
  {
   "cell_type": "code",
   "execution_count": null,
   "id": "f1058d84-e61e-4f5b-b66a-29931e77821b",
   "metadata": {},
   "outputs": [],
   "source": []
  },
  {
   "cell_type": "markdown",
   "id": "f09bb809-0edd-432b-bf23-abd0840b3e16",
   "metadata": {},
   "source": [
    "## 4. Bivariate/Multivariate Analysis:\n",
    "\n",
    "Here, you look at the relationships between two or more variables. This can involve looking for correlations, patterns, and trends that suggest a relationship or an association.\n",
    "\n",
    "We can perform bi-variate analysis for any combination of categorical and numerical variables. The combination can be:\n",
    "| bi-variate variables   | Plot type |\n",
    "| ------------- | ------------- |\n",
    "| Categorical & Categorical| Stacked Bar Chart |\n",
    "| Categorical & numerical  | scatter plot, histogram, box plot|\n",
    "| numerical  & numerical  | Scatter plot, line chart| \n",
    "\n",
    "\n",
    "Multivariate Analysis:\n",
    "- Heat map\n",
    "- Bar Chart\n",
    "- Scatter Chart\n",
    "- Line Chart"
   ]
  },
  {
   "cell_type": "markdown",
   "id": "838f2864-ce9e-4f15-99c8-052d053154a7",
   "metadata": {},
   "source": [
    "**Categorical & Categorical --> (Stacked Column Chart)**"
   ]
  },
  {
   "cell_type": "code",
   "execution_count": null,
   "id": "73f9f2ac-8477-49ea-9c68-4fe44d4395b6",
   "metadata": {},
   "outputs": [],
   "source": []
  },
  {
   "cell_type": "markdown",
   "id": "730e088f-fe13-40da-8fbb-686f5135fa4d",
   "metadata": {},
   "source": [
    "**Categorical & numerical --> (scatter plot, histogram, box plot)**"
   ]
  },
  {
   "cell_type": "code",
   "execution_count": null,
   "id": "3590e345-2051-4215-91ac-07d196b510ef",
   "metadata": {},
   "outputs": [],
   "source": []
  },
  {
   "cell_type": "markdown",
   "id": "20aed48d-b78e-46da-963f-e7f15e2f4dc7",
   "metadata": {},
   "source": [
    "**numerical & numerical --> (Scatter plot, line chart)**"
   ]
  },
  {
   "cell_type": "code",
   "execution_count": null,
   "id": "41023177-01cb-4f39-a750-12be71b13bda",
   "metadata": {},
   "outputs": [],
   "source": []
  },
  {
   "cell_type": "markdown",
   "id": "efb43b30-b1f0-48a4-a19c-195810cc8a0f",
   "metadata": {},
   "source": [
    "We could also use a correlation matrix to get more specific information about the relationship between these two variables."
   ]
  },
  {
   "cell_type": "code",
   "execution_count": null,
   "id": "8406f58f-b825-4a15-8f6e-c68ca66bd483",
   "metadata": {},
   "outputs": [],
   "source": []
  }
 ],
 "metadata": {
  "kernelspec": {
   "display_name": "Python 3",
   "language": "python",
   "name": "python3"
  },
  "language_info": {
   "codemirror_mode": {
    "name": "ipython",
    "version": 3
   },
   "file_extension": ".py",
   "mimetype": "text/x-python",
   "name": "python",
   "nbconvert_exporter": "python",
   "pygments_lexer": "ipython3",
   "version": "3.13.2"
  }
 },
 "nbformat": 4,
 "nbformat_minor": 5
}
